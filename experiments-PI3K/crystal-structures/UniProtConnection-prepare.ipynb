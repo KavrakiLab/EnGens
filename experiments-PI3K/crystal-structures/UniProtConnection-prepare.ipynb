{
 "cells": [
  {
   "cell_type": "code",
   "execution_count": null,
   "id": "c231904f",
   "metadata": {},
   "outputs": [],
   "source": [
    "import requests\n",
    "import pandas as pd\n",
    "from engens.core.CrystalUtils import *\n",
    "from crystal_utils_queries import *\n",
    "from crystal_utils_alignments import *"
   ]
  },
  {
   "cell_type": "markdown",
   "id": "20d00623",
   "metadata": {},
   "source": [
    "## PDB ID -> PDB_ENTITIES -> UNIPROT IDs\n",
    "\n",
    "Api resources: https://data.rcsb.org/index.html"
   ]
  },
  {
   "cell_type": "markdown",
   "id": "0418281c",
   "metadata": {},
   "source": [
    "## STEP 0 - define input PDB IDs"
   ]
  },
  {
   "cell_type": "code",
   "execution_count": null,
   "id": "54229fe1",
   "metadata": {},
   "outputs": [],
   "source": [
    "pdb_ids =  \"\\\n",
    "2rd0 3hhm \\\n",
    "3hiz 4jps \\\n",
    "4a55 4l1b \\\n",
    "4l23 4l2y \\\n",
    "4ovu 4ovv \\\n",
    "4waf 4ykn \\\n",
    "4zop 5fi4 \\\n",
    "5itd 5sw8 \\\n",
    "5swg 5swo \\\n",
    "5swp 5swr \\\n",
    "5swt 5sx8 \\\n",
    "5sx9 5sxa \\\n",
    "5sxb 5sxc \\\n",
    "5sxd 5sxe \\\n",
    "5sxf 5sxi \\\n",
    "5sxj 5sxk \\\n",
    "5uk8 5ukj \\\n",
    "5ul1 5xgh \\\n",
    "5xgi 5xgj \\\n",
    "6nct \\\n",
    "5dxh 2y3a \\\n",
    "5dxu 5m6u \\\n",
    "5t8f 5ubt \\\n",
    "5vlr 6g6w \\\n",
    "6pyr 6pyu\"\n"
   ]
  },
  {
   "cell_type": "code",
   "execution_count": null,
   "id": "fd38ddae",
   "metadata": {},
   "outputs": [],
   "source": [
    "pdb_ids = [t.upper() for t in pdb_ids.split()]"
   ]
  },
  {
   "cell_type": "code",
   "execution_count": null,
   "id": "4af4a6cf",
   "metadata": {},
   "outputs": [],
   "source": [
    "len(pdb_ids)"
   ]
  },
  {
   "cell_type": "markdown",
   "id": "d2d3565d",
   "metadata": {},
   "source": [
    "## STEP 1 - QUERY RSCB to get all details on the PDB ids"
   ]
  },
  {
   "cell_type": "code",
   "execution_count": null,
   "id": "87fa37bc",
   "metadata": {},
   "outputs": [],
   "source": [
    "results_df = rscb_entities_from_entries(pdb_ids)\n",
    "results_df"
   ]
  },
  {
   "cell_type": "code",
   "execution_count": null,
   "id": "c42ec3f0",
   "metadata": {},
   "outputs": [],
   "source": [
    "entity_ids = list(results_df[\"entity_id\"].unique())"
   ]
  },
  {
   "cell_type": "code",
   "execution_count": null,
   "id": "86cece5d",
   "metadata": {},
   "outputs": [],
   "source": [
    "entity_instance_connection_df = rscb_polymer_chains_info(entity_ids)"
   ]
  },
  {
   "cell_type": "code",
   "execution_count": null,
   "id": "71205521",
   "metadata": {},
   "outputs": [],
   "source": [
    "entity_instance_connection_df[\"first_asym_id\"] = entity_instance_connection_df[\"asym_ids\"].apply(lambda x: x[0])\n",
    "# IF multiple chains per entity ID - select only first\n",
    "results_df = results_df.merge(entity_instance_connection_df, how=\"left\", on=\"entity_id\")"
   ]
  },
  {
   "cell_type": "code",
   "execution_count": null,
   "id": "1f2efe3a",
   "metadata": {},
   "outputs": [],
   "source": [
    "results_df[\"instance_id\"] = results_df[\"pdb_id\"]+\".\"+results_df[\"first_asym_id\"]\n",
    "with pd.option_context('display.max_rows', None, 'display.max_columns', None, \"expand_frame_repr\", False, \"display.float_format\", '${:,.2f}'.format):\n",
    "    display(results_df)"
   ]
  },
  {
   "cell_type": "code",
   "execution_count": null,
   "id": "97a5b28e",
   "metadata": {},
   "outputs": [],
   "source": [
    "instance_ids = list(results_df[\"instance_id\"].unique())"
   ]
  },
  {
   "cell_type": "code",
   "execution_count": null,
   "id": "cf5b791d",
   "metadata": {},
   "outputs": [],
   "source": [
    "entity_instance_mapping_df = rscb_get_author_instance_info(instance_ids)\n",
    "entity_instance_mapping_df"
   ]
  },
  {
   "cell_type": "code",
   "execution_count": null,
   "id": "c9efc13c",
   "metadata": {},
   "outputs": [],
   "source": [
    "entity_instance_mapping_df[\"entity_id\"] = entity_instance_mapping_df.merge(results_df, how=\"left\", on=\"instance_id\").entity_id\n",
    "entity_instance_mapping_df"
   ]
  },
  {
   "cell_type": "markdown",
   "id": "209256c1",
   "metadata": {},
   "source": [
    "## STEP 2 - QUERY UNIPROT to get accession details"
   ]
  },
  {
   "cell_type": "code",
   "execution_count": null,
   "id": "d0eb34f6",
   "metadata": {},
   "outputs": [],
   "source": [
    "uniprot_ids = results_df[\"accession\"].unique()\n",
    "uniprot_ids"
   ]
  },
  {
   "cell_type": "code",
   "execution_count": null,
   "id": "2733b483",
   "metadata": {},
   "outputs": [],
   "source": [
    "     \n",
    "def uniprot_get_details(uniprot_ids):\n",
    "    uniprot_details = {\"accession_id\":[], \n",
    "                       \"id\":[],\n",
    "                       \"full_name\":[],\n",
    "                       \"seq\" : []}\n",
    "    uniprot_accession_url = \"https://www.ebi.ac.uk/proteins/api/proteins/\"\n",
    "    \n",
    "    for uni_id in uniprot_ids:\n",
    "        accession_query = uniprot_accession_url+uni_id\n",
    "        result_uniprot_details = requests.get(accession_query)\n",
    "        if result_uniprot_details.status_code == 200:\n",
    "            res_json = result_uniprot_details.json()\n",
    "            uniprot_details[\"accession_id\"].append( res_json[\"accession\"] )\n",
    "            uniprot_details[\"id\"].append( res_json[\"id\"] )\n",
    "            uniprot_details[\"full_name\"].append( res_json['protein']['recommendedName']['fullName']['value'] )\n",
    "            uniprot_details[\"seq\"].append( res_json['sequence']['sequence'] )\n",
    "            \n",
    "        else:\n",
    "            print(\"Uniprot query failed: response \"+result_uniprot_details.status_code)\n",
    "            return None\n",
    "    return pd.DataFrame(uniprot_details)"
   ]
  },
  {
   "cell_type": "code",
   "execution_count": null,
   "id": "7959ebd3",
   "metadata": {},
   "outputs": [],
   "source": [
    "uniprot_details = uniprot_get_details(uniprot_ids)"
   ]
  },
  {
   "cell_type": "code",
   "execution_count": null,
   "id": "5d327405",
   "metadata": {},
   "outputs": [],
   "source": [
    "results_df_uniprot = results_df.merge(uniprot_details, how=\"left\", left_on=\"accession\", right_on=\"accession_id\")"
   ]
  },
  {
   "cell_type": "code",
   "execution_count": null,
   "id": "7990e7a8",
   "metadata": {},
   "outputs": [],
   "source": [
    "results_access_grouped = results_df_uniprot.groupby(\"accession\").count().reset_index()\n",
    "uniprot_counts = results_access_grouped[[\"accession\", \"pdb_id\"]]\n",
    "uniprot_counts.columns = [\"accession\", \"count\"]\n",
    "uniprot_counts[\"id\"] = uniprot_counts[\"accession\"].apply(lambda x: results_df_uniprot[results_df_uniprot.accession == x].iloc[0].id)\n",
    "uniprot_counts"
   ]
  },
  {
   "cell_type": "markdown",
   "id": "4333eef6",
   "metadata": {},
   "source": [
    "## STEP 3 - SINGLE OUT FEW META UNIPROTs"
   ]
  },
  {
   "cell_type": "code",
   "execution_count": null,
   "id": "3293f276",
   "metadata": {},
   "outputs": [],
   "source": [
    "keyword = \"PK3C\"\n",
    "subunit1_uniprot_details = uniprot_counts[uniprot_counts[\"id\"].str.contains(keyword)]\n",
    "subunit1_uniprot_details"
   ]
  },
  {
   "cell_type": "code",
   "execution_count": null,
   "id": "b3debd38",
   "metadata": {},
   "outputs": [],
   "source": [
    "keyword = \"P85\"\n",
    "subunit2_uniprot_details = uniprot_counts[uniprot_counts[\"id\"].str.contains(keyword)]\n",
    "subunit2_uniprot_details"
   ]
  },
  {
   "cell_type": "code",
   "execution_count": null,
   "id": "2508fac4",
   "metadata": {},
   "outputs": [],
   "source": [
    "meta_uniprots = [\"P42336\", \"P27986\"]"
   ]
  },
  {
   "cell_type": "code",
   "execution_count": null,
   "id": "c34559f1",
   "metadata": {},
   "outputs": [],
   "source": [
    "subunit1_uniprot_details[\"meta_uniprot\"] = list(\"P42336\" for i in range(len(subunit1_uniprot_details)))\n",
    "subunit2_uniprot_details[\"meta_uniprot\"] = list(\"P27986\" for i in range(len(subunit2_uniprot_details)))\n",
    "accessions = list(subunit1_uniprot_details[\"accession\"])\n",
    "accessions.extend(subunit2_uniprot_details[\"accession\"])\n",
    "meta_accessions = list(subunit1_uniprot_details[\"meta_uniprot\"])\n",
    "meta_accessions.extend(subunit2_uniprot_details[\"meta_uniprot\"])\n",
    "meta_uniprot_mapping = dict(zip(accessions, meta_accessions))\n",
    "subunit1_uniprot_details"
   ]
  },
  {
   "cell_type": "code",
   "execution_count": null,
   "id": "e56a62d1",
   "metadata": {},
   "outputs": [],
   "source": [
    "meta_uniprot_mapping"
   ]
  },
  {
   "cell_type": "code",
   "execution_count": null,
   "id": "ccd85afe",
   "metadata": {},
   "outputs": [],
   "source": [
    "meta_uniprot_mapping_df = pd.DataFrame({\"uniprot_src\": meta_uniprot_mapping.keys(), \n",
    "                                        \"uniprot_meta\": meta_uniprot_mapping.values()})\n",
    "meta_uniprot_mapping_df"
   ]
  },
  {
   "cell_type": "code",
   "execution_count": null,
   "id": "1b2cd7c3",
   "metadata": {},
   "outputs": [],
   "source": [
    "results_df = results_df.merge(meta_uniprot_mapping_df, left_on=\"accession\", right_on=\"uniprot_src\", how=\"left\")"
   ]
  },
  {
   "cell_type": "code",
   "execution_count": null,
   "id": "a04a8d4b",
   "metadata": {},
   "outputs": [],
   "source": [
    "results_df"
   ]
  },
  {
   "cell_type": "markdown",
   "id": "b7861cea",
   "metadata": {},
   "source": [
    "## Download structures and fix them"
   ]
  },
  {
   "cell_type": "code",
   "execution_count": null,
   "id": "837e5187",
   "metadata": {},
   "outputs": [],
   "source": [
    "# Make the directory to  store the files in \n",
    "# Change this to any name you'd like\n",
    "pdir = \"./PI3Ks_pdbs/\"\n",
    "Path(pdir).mkdir(parents=True, exist_ok=True)\n",
    "\n",
    "# -----------------STEP 1.1 - download PDBs------------------------ #\n",
    "# Initialize CrystalUtils - it will autimatically (if no file_names provieded):\n",
    "# Download PDBs\n",
    "# Fix them\n",
    "crystal_utils = CrystalUtils(pdb_codes = pdb_ids, dst_folder = pdir)"
   ]
  },
  {
   "cell_type": "code",
   "execution_count": null,
   "id": "f1df11a9",
   "metadata": {},
   "outputs": [],
   "source": [
    "results_df"
   ]
  },
  {
   "cell_type": "code",
   "execution_count": null,
   "id": "ce03ebbd",
   "metadata": {},
   "outputs": [],
   "source": [
    "\n",
    "pdir = \"/mnt/PI3K-experiments/crystal-structures/PI3Ks_pdbs/\"\n",
    "results_df[\"file_loc\"] = results_df[\"pdb_id\"].apply(lambda x:  pdir+\"structure_output/\"+x+\"_fixed.pdb\")"
   ]
  },
  {
   "cell_type": "code",
   "execution_count": null,
   "id": "04d6c341",
   "metadata": {
    "scrolled": true
   },
   "outputs": [],
   "source": [
    "# prepare files for mTM-align\n",
    "\n",
    "for meta_uniprot in results_df.uniprot_meta.unique():\n",
    "    print(meta_uniprot)\n",
    "    meta_uni_res = results_df[results_df.uniprot_meta == meta_uniprot]\n",
    "    files_to_align = []\n",
    "    for row in meta_uni_res.iterrows():\n",
    "        print(row[1].instance_id)\n",
    "        chain_id = row[1].first_asym_id\n",
    "        file_name = row[1].file_loc\n",
    "        new_file = pdir+\"structure_output/\"+row[1].instance_id+\".pdb\"\n",
    "        cmd = \"pdb_keepcoord | pdb_selchain -\"+chain_id+\" \"+file_name+ \" > \" + new_file\n",
    "        system(cmd)\n",
    "        system(\"/miniconda3/bin/python ./add_missing_atoms.py -i {} -o {}\".format(new_file, new_file))\n",
    "        files_to_align.append(new_file)\n",
    "    with open(\"mTM_input_{}\".format(meta_uniprot), \"w\") as file:\n",
    "        file.write(\"\\n\".join(files_to_align))"
   ]
  },
  {
   "cell_type": "code",
   "execution_count": null,
   "id": "1a2820c1",
   "metadata": {},
   "outputs": [],
   "source": [
    "# extract residue index maps\n",
    "file_residue_maps = {}\n",
    "file_residue_maps_rev = {}\n",
    "\n",
    "for row in results_df.iterrows():\n",
    "    \n",
    "    file_loc = row[1].file_loc\n",
    "    pdb_id = row[1].pdb_id\n",
    "    chain_id = row[1].first_asym_id\n",
    "    instance_id = row[1].instance_id\n",
    "    meta_uniprot = row[1].uniprot_meta\n",
    "    parser = Bio.PDB.PDBParser()\n",
    "    struct_tmp = parser.get_structure(pdb_id, file_loc)\n",
    "    \n",
    "    for chain in struct_tmp.get_chains():\n",
    "        if chain.id == chain_id:\n",
    "            file_residues = list(chain.get_residues())\n",
    "            file_residues_ids = [res.id[1] for res in file_residues]\n",
    "            zero_indexed_ids = list(range(len(file_residues)))\n",
    "            file_residue_maps[instance_id+\"-\"+meta_uniprot] = dict(zip(file_residues_ids, zero_indexed_ids))\n",
    "            file_residue_maps_rev[instance_id+\"-\"+meta_uniprot] = dict(zip(zero_indexed_ids, file_residues_ids))\n",
    "        "
   ]
  },
  {
   "cell_type": "code",
   "execution_count": null,
   "id": "4e66c47b",
   "metadata": {},
   "outputs": [],
   "source": [
    "# align with mTM\n",
    "\n",
    "for meta_uniprot in results_df.uniprot_meta.unique():\n",
    "    output_dir = \"mTM-res-{}\".format(meta_uniprot)\n",
    "    if not os.path.exists(output_dir+\"/result.fasta\"):\n",
    "        print(meta_uniprot)\n",
    "        #system(\"/mTM-align/src/mTM-align -i \"+\"mTM_input_{}\".format(meta_uniprot)\n",
    "               +\" -outdir mTM-res-{}\".format(meta_uniprot) \n",
    "               +\" > mTM-{}-progress.txt\".format(meta_uniprot))"
   ]
  },
  {
   "cell_type": "code",
   "execution_count": null,
   "id": "f0f775de",
   "metadata": {},
   "outputs": [],
   "source": [
    "# visualize alignments\n",
    "\n",
    "# visualize with continuous intervals and define an MCS based on the intervals\n",
    "MCS = {}\n",
    "for meta_uniprot in results_df.uniprot_meta.unique():\n",
    "    fasta_res = \"mTM-res-{}\".format(meta_uniprot)+\"/result.fasta\"\n",
    "    #regions = continuous_intervals[meta_uniprot]\n",
    "    #MCS[meta_uniprot] = regions\n",
    "    CrystalUtils(pdb_codes = [], dst_folder = \".\").visualizeMSA(fasta_res)"
   ]
  },
  {
   "cell_type": "code",
   "execution_count": null,
   "id": "ba7118bd",
   "metadata": {
    "scrolled": true
   },
   "outputs": [],
   "source": [
    "# read in the alignments\n",
    "MSTA = {}\n",
    "for meta_uniprot in results_df.uniprot_meta.unique():\n",
    "    fasta_res = \"mTM-res-{}\".format(meta_uniprot)+\"/result.fasta\"\n",
    "    \n",
    "    with open(fasta_res, \"r\") as file:\n",
    "        fasta_lines = file.readlines()\n",
    "        name = None\n",
    "        seq_aligned = {}\n",
    "        for line in fasta_lines:\n",
    "            if line[0] == \">\":\n",
    "                if name is not None:\n",
    "                    seq_aligned[name] = \"\".join(seq_aligned[name]).replace(\"\\n\", \"\")\n",
    "                name = line.split('>')[1][:-5]\n",
    "                line_name = True\n",
    "                print(name)\n",
    "            else:\n",
    "                line_name = False \n",
    "\n",
    "            if not line_name:\n",
    "                if name not in seq_aligned:\n",
    "                    seq_aligned[name] = [line]\n",
    "                else:\n",
    "                    seq_aligned[name].append(line)\n",
    "                line_name = False\n",
    "        if name is not None:\n",
    "            seq_aligned[name] = \"\".join(seq_aligned[name]).replace(\"\\n\", \"\")\n",
    "    MSTA[meta_uniprot] = seq_aligned"
   ]
  },
  {
   "cell_type": "code",
   "execution_count": null,
   "id": "cce0b427",
   "metadata": {},
   "outputs": [],
   "source": [
    "# create MCS from above alignment\n",
    "\n",
    "#converts the string with gaps into list of positions of aa-s\n",
    "def alignment_string_to_numbers(alignment):\n",
    "    num_array = []\n",
    "    cnt = 0\n",
    "    for aa in alignment:\n",
    "        if aa.isalpha():\n",
    "            num_array.append(cnt)\n",
    "            cnt+=1\n",
    "        else:\n",
    "            num_array.append(-1)\n",
    "    return num_array\n",
    "\n",
    "\n",
    "MCS = {}\n",
    "\n",
    "maps = {}\n",
    "maps_reverse = {}\n",
    "for meta_uniprot in results_df.uniprot_meta.unique():\n",
    "    \n",
    "    \n",
    "    msta = MSTA[meta_uniprot]\n",
    "    gaps = set()\n",
    "    for instance_id, seq in msta.items():\n",
    "        \n",
    "        seq_num = alignment_string_to_numbers(seq)\n",
    "        all_num = list(range(len(seq)))\n",
    "        maps[instance_id+\"-\"+meta_uniprot] = dict(zip(seq_num, all_num))\n",
    "        maps_reverse[instance_id+\"-\"+meta_uniprot] = dict(zip(all_num, seq_num))\n",
    "        gaps.update(find_gaps(seq))\n",
    "    \n",
    "    MCS[meta_uniprot] = list(intervals_extract(set(all_num)-gaps))\n",
    "    "
   ]
  },
  {
   "cell_type": "code",
   "execution_count": null,
   "id": "dba873b9",
   "metadata": {},
   "outputs": [],
   "source": [
    "# visualize alignment with MCS regions\n",
    "for meta_uniprot in results_df.uniprot_meta.unique():\n",
    "    fasta_res = \"mTM-res-{}\".format(meta_uniprot)+\"/result.fasta\"\n",
    "    #regions = continuous_intervals[meta_uniprot]\n",
    "    #MCS[meta_uniprot] = regions\n",
    "    CrystalUtils(pdb_codes = [], dst_folder = \".\").visualizeMSA(fasta_res, MCS[meta_uniprot])"
   ]
  },
  {
   "cell_type": "code",
   "execution_count": null,
   "id": "82738ef8",
   "metadata": {},
   "outputs": [],
   "source": [
    "results_df"
   ]
  },
  {
   "cell_type": "code",
   "execution_count": null,
   "id": "4b91a41f",
   "metadata": {},
   "outputs": [],
   "source": [
    "def rename_region_chain_residues(pdb_id, \n",
    "                                 file_name, \n",
    "                                 old_chain, \n",
    "                                 old_region, \n",
    "                                 new_chain, \n",
    "                                 new_region,\n",
    "                                 out_file):\n",
    "    \n",
    "    parser = Bio.PDB.PDBParser()\n",
    "    struct_tmp = parser.get_structure(pdb_id, file_name)\n",
    "    old_residues = [i for i in range(old_region[0], old_region[1]+1)]\n",
    "    new_residues = [i for i in range(new_region[0], new_region[1]+1)]\n",
    "    residue_map = dict(zip(old_residues, new_residues))\n",
    "    \n",
    "    chain_ids = [ chain.id for chain in struct_tmp.get_chains()]\n",
    "    if not old_chain in chain_ids:\n",
    "        print(\"Chain {} of file {} not given a mapping.\".format(chain.id, file_name))\n",
    "        return None\n",
    "    \n",
    "    for chain in struct_tmp.get_chains():\n",
    "        if chain.id == old_chain:\n",
    "            chain.id = new_chain\n",
    "            residues = chain.get_residues()\n",
    "            for residue in residues:\n",
    "                if not residue.id[1] in residue_map:\n",
    "                    print(\"Residue {} of chain {} of file {} not given a mapping.\".format(residue.id[1],\n",
    "                                                                                                chain.id, \n",
    "                                                                                              file_name))\n",
    "                    return None\n",
    "                else:\n",
    "                    residue.id =  (residue.id[0], \n",
    "                                   residue_map[residue.id[1]], \n",
    "                                   residue.id[-1])\n",
    "                    \n",
    "    io = Bio.PDB.PDBIO()\n",
    "    io.set_structure(struct_tmp)\n",
    "    io.save(out_file)           \n",
    "            \n",
    "            \n",
    "    \n",
    "    "
   ]
  },
  {
   "cell_type": "code",
   "execution_count": null,
   "id": "4345dfaf",
   "metadata": {},
   "outputs": [],
   "source": [
    "chain_map = {}\n",
    "chains_str = \"ABCDEFGHIJKLMNOPQRSTUVWYXZ\"\n",
    "for i, meta_uniprot in enumerate(results_df[\"uniprot_meta\"].unique()):\n",
    "    chain_map[meta_uniprot] = chains_str[i]\n",
    "chain_map"
   ]
  },
  {
   "cell_type": "code",
   "execution_count": null,
   "id": "250bfb0e",
   "metadata": {},
   "outputs": [],
   "source": [
    "results_df[results_df.pdb_id == \"4YKN\"]"
   ]
  },
  {
   "cell_type": "code",
   "execution_count": null,
   "id": "56d934c9",
   "metadata": {},
   "outputs": [],
   "source": [
    " maps_reverse[\"4YKN.A\"+\"-\"+\"P27986\"]"
   ]
  },
  {
   "cell_type": "code",
   "execution_count": null,
   "id": "51d479ca",
   "metadata": {},
   "outputs": [],
   "source": [
    " file_residue_maps[\"4YKN.A\"+\"-\"+\"P42336\"]"
   ]
  },
  {
   "cell_type": "code",
   "execution_count": null,
   "id": "1a339d52",
   "metadata": {},
   "outputs": [],
   "source": [
    "# extract MCS from each file\n",
    "file_name_prefix = \"./PI3Ks_pdbs/structure_output/\"\n",
    "\n",
    "for pdb_id in results_df[\"pdb_id\"].unique():\n",
    "    file_name = file_name_prefix+pdb_id+\"_fixed.pdb\"\n",
    "    pdb_id_res = results_df[results_df.pdb_id == pdb_id]\n",
    "    out_file = file_name_prefix+pdb_id+\"_mcs.pdb\"\n",
    "    tmp_files = []\n",
    "    \n",
    "    for i, meta_uniprot in enumerate(results_df[\"uniprot_meta\"].unique()):\n",
    "        row = pdb_id_res[pdb_id_res.uniprot_meta == meta_uniprot].iloc[0]\n",
    "        meta_uniprot = row[\"uniprot_meta\"]\n",
    "        instance_id = row[\"instance_id\"]\n",
    "        chain = row[\"first_asym_id\"]\n",
    "        new_chain = chain_map[meta_uniprot]\n",
    "        seq_map = maps[instance_id+\"-\"+meta_uniprot]\n",
    "        seq_map_rev = maps_reverse[instance_id+\"-\"+meta_uniprot]\n",
    "        resid_map_res = file_residue_maps_rev[instance_id+\"-\"+meta_uniprot]\n",
    "        mcs = MCS[meta_uniprot]\n",
    "        \n",
    "        for i, mcs_region in enumerate(mcs):\n",
    "            file_region_index = [seq_map_rev[mcs_region[0]], seq_map_rev[mcs_region[1]]]\n",
    "            file_region_resid = [resid_map_res[file_region_index[0]], resid_map_res[file_region_index[1]]]\n",
    "            \n",
    "            cont_regions_string = \"{}:{}\".format(file_region_resid[0], file_region_resid[1])\n",
    "            tmp_file = file_name_prefix+pdb_id+\"_mcs_\"+instance_id+\"-\"+meta_uniprot+\"region\"+str(i)+\".pdb\"\n",
    "            #get chain, get residues\n",
    "            cmd = \"pdb_keepcoord | pdb_selchain -\"+chain+\" \"+file_name+ \" | pdb_selres -\"+cont_regions_string+\" | head -n-2 > \"\\\n",
    "                + tmp_file\n",
    "            print(cmd)\n",
    "            system(cmd)\n",
    "            rename_region_chain_residues(pdb_id = pdb_id, \n",
    "                                 file_name = tmp_file, \n",
    "                                 old_chain = chain, \n",
    "                                 old_region = file_region_resid, \n",
    "                                 new_chain = new_chain, \n",
    "                                 new_region = mcs_region,\n",
    "                                 out_file = tmp_file)\n",
    "            tmp_files.append(tmp_file)\n",
    "\n",
    "    system(\"cat {} | grep ^ATOM* > {}\".format(\" \".join(tmp_files), out_file))\n",
    "    #system(\"cat {} > {}\".format(\" \".join(tmp_files), out_file))\n",
    "    system(\"rm {}\".format(\" \".join(tmp_files)))\n"
   ]
  },
  {
   "cell_type": "code",
   "execution_count": null,
   "id": "b6e3d8f9",
   "metadata": {
    "scrolled": true
   },
   "outputs": [],
   "source": [
    "output_traj = \"bb_traj.xtc\"\n",
    "file_name_prefix = \"./PI3Ks_pdbs/structure_output/\"\n",
    "trajs = []\n",
    "tmp_top = None\n",
    "for pdb_id in results_df[\"pdb_id\"].unique():\n",
    "    print(pdb_id)\n",
    "    if pdb_id == \"4YKN\":\n",
    "        file_name = file_name_prefix+pdb_id+\"_mcs.pdb\"\n",
    "        file_name2 = file_name_prefix+pdb_id+\"_bb.pdb\"\n",
    "        #system(\"/miniconda3/bin/python ./add_missing_atoms.py -i {} -o {}\".format(file_name, file_name))\n",
    "        #system(\"pdb_keepcoord {} | grep -v ^MODEL* > {}\".format(file_name, file_name2))\n",
    "        tmp_top = mdtraj.load(file_name).top\n",
    "        atom_sel = tmp_top.select(\"backbone\")\n",
    "        bb_loaded = mdtraj.load(file_name, atom_indices= atom_sel)\n",
    "        bb_loaded.save(file_name2)\n",
    "        continue\n",
    "    file_name = file_name_prefix+pdb_id+\"_mcs.pdb\"\n",
    "    file_name2 = file_name_prefix+pdb_id+\"_bb.pdb\"\n",
    "    system(\"/miniconda3/bin/python ./add_missing_atoms.py -i {} -o {}\".format(file_name, file_name))\n",
    "    #system(\"pdb_keepcoord {} | grep -v ^MODEL* > {}\".format(file_name, file_name2))\n",
    "    tmp_top = mdtraj.load(file_name).top\n",
    "    atom_sel = tmp_top.select(\"backbone\")\n",
    "    bb_loaded = mdtraj.load(file_name, atom_indices= atom_sel)\n",
    "    bb_loaded.save(file_name2)"
   ]
  },
  {
   "cell_type": "code",
   "execution_count": null,
   "id": "a85891d5",
   "metadata": {},
   "outputs": [],
   "source": []
  },
  {
   "cell_type": "code",
   "execution_count": null,
   "id": "cda17c0b",
   "metadata": {},
   "outputs": [],
   "source": [
    "system(\"mdconvert -f $(ls ./PI3Ks_pdbs/structure_output/*_bb.pdb) -o \"+output_traj)"
   ]
  },
  {
   "cell_type": "code",
   "execution_count": null,
   "id": "c95e4a01",
   "metadata": {},
   "outputs": [],
   "source": [
    "MCS[\"P42336\"]"
   ]
  },
  {
   "cell_type": "code",
   "execution_count": null,
   "id": "28e58f5f",
   "metadata": {},
   "outputs": [],
   "source": [
    "list(MCS['P27986'])"
   ]
  },
  {
   "cell_type": "code",
   "execution_count": null,
   "id": "47bb061c",
   "metadata": {},
   "outputs": [],
   "source": [
    "[x for x in MCS['P27986']]"
   ]
  },
  {
   "cell_type": "code",
   "execution_count": null,
   "id": "52e9b63b",
   "metadata": {},
   "outputs": [],
   "source": [
    "#################################################################\n",
    "#SUCCESS\n",
    "#################################################################"
   ]
  }
 ],
 "metadata": {
  "kernelspec": {
   "display_name": "Python 3",
   "language": "python",
   "name": "python3"
  },
  "language_info": {
   "codemirror_mode": {
    "name": "ipython",
    "version": 3
   },
   "file_extension": ".py",
   "mimetype": "text/x-python",
   "name": "python",
   "nbconvert_exporter": "python",
   "pygments_lexer": "ipython3",
   "version": "3.6.7"
  }
 },
 "nbformat": 4,
 "nbformat_minor": 5
}
