{
 "cells": [
  {
   "cell_type": "markdown",
   "id": "6b889a1d",
   "metadata": {},
   "source": [
    "### Dowload the data"
   ]
  },
  {
   "cell_type": "code",
   "execution_count": 1,
   "id": "b8f8f052",
   "metadata": {},
   "outputs": [],
   "source": [
    "import os"
   ]
  },
  {
   "cell_type": "code",
   "execution_count": 2,
   "id": "561390db",
   "metadata": {},
   "outputs": [],
   "source": [
    "path = \"./data\"\n",
    "if not os.path.exists(\"./data\"):\n",
    "    os.makedirs(path)"
   ]
  },
  {
   "cell_type": "code",
   "execution_count": 3,
   "id": "03204581",
   "metadata": {},
   "outputs": [],
   "source": [
    "url_topology = \"https://object.cscs.ch/v1/AUTH_7a51266670fe4d718ac2bc3951dd9f64/\\\n",
    "hbp-d000001_PI3Ka_E545K_pub/PI3Ka/3.Production_runs/2.Biased/MultipleWalkers_metaD/545K/npt_out.pdb\"\n",
    "\n",
    "url_trajectory = \"https://object.cscs.ch/v1/AUTH_7a51266670fe4d718ac2bc3951dd9f64/\\\n",
    "    hbp-d000001_PI3Ka_E545K_pub/PI3Ka/3.Production_runs/2.Biased/MultipleWalkers_metaD/545K/md_combined.xtc\""
   ]
  },
  {
   "cell_type": "code",
   "execution_count": 4,
   "id": "095575dd",
   "metadata": {},
   "outputs": [
    {
     "name": "stdout",
     "output_type": "stream",
     "text": [
      "curl https://object.cscs.ch/v1/AUTH_7a51266670fe4d718ac2bc3951dd9f64/hbp-d000001_PI3Ka_E545K_pub/PI3Ka/3.Production_runs/2.Biased/MultipleWalkers_metaD/545K/npt_out.pdb > data/npt_out.pdb\n"
     ]
    },
    {
     "data": {
      "text/plain": [
       "0"
      ]
     },
     "execution_count": 4,
     "metadata": {},
     "output_type": "execute_result"
    }
   ],
   "source": [
    "\n",
    "cmd = \"curl \"+url_topology+\" > data/npt_out.pdb\"\n",
    "print(cmd)\n",
    "os.system(cmd)"
   ]
  },
  {
   "cell_type": "code",
   "execution_count": null,
   "id": "63e2ee55",
   "metadata": {},
   "outputs": [],
   "source": [
    "\n",
    "cmd = \"curl \"+url_trajectory+\" > data/md_combined.xtc\"\n",
    "print(cmd)\n",
    "os.system(cmd)"
   ]
  }
 ],
 "metadata": {
  "kernelspec": {
   "display_name": "Python 3",
   "language": "python",
   "name": "python3"
  },
  "language_info": {
   "codemirror_mode": {
    "name": "ipython",
    "version": 3
   },
   "file_extension": ".py",
   "mimetype": "text/x-python",
   "name": "python",
   "nbconvert_exporter": "python",
   "pygments_lexer": "ipython3",
   "version": "3.6.7"
  },
  "vscode": {
   "interpreter": {
    "hash": "949777d72b0d2535278d3dc13498b2535136f6dfe0678499012e853ee9abcab1"
   }
  }
 },
 "nbformat": 4,
 "nbformat_minor": 5
}
