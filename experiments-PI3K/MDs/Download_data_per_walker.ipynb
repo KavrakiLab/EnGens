{
 "cells": [
  {
   "cell_type": "code",
   "execution_count": 2,
   "id": "dc2eb3e0",
   "metadata": {},
   "outputs": [],
   "source": [
    "import os"
   ]
  },
  {
   "cell_type": "markdown",
   "id": "153e9ba3",
   "metadata": {},
   "source": [
    "## URL template for MD fetch"
   ]
  },
  {
   "cell_type": "code",
   "execution_count": 3,
   "id": "f74a7f28",
   "metadata": {},
   "outputs": [],
   "source": [
    "url_template = \"https://object.cscs.ch/v1/AUTH_7a51266670fe4d718ac2bc3951dd9f64/\\\n",
    "hbp-d000001_PI3Ka_E545K_pub/PI3Ka/3.Production_runs/2.Biased/MultipleWalkers_metaD/545K/WALKER1/{}\""
   ]
  },
  {
   "cell_type": "markdown",
   "id": "9332300f",
   "metadata": {},
   "source": [
    "## MD xtc file names"
   ]
  },
  {
   "cell_type": "code",
   "execution_count": 4,
   "id": "3bdd5847",
   "metadata": {},
   "outputs": [],
   "source": [
    "md_names = [\"md1_w1.xtc\"]\n",
    "for i in range(2, 19):\n",
    "    md_name = \"md{}_w1\".format(i)\n",
    "    md_name+=\".part00{0:02d}.xtc\".format(i)\n",
    "    md_names.append(md_name)"
   ]
  },
  {
   "cell_type": "code",
   "execution_count": 5,
   "id": "a91d01d6",
   "metadata": {},
   "outputs": [
    {
     "name": "stdout",
     "output_type": "stream",
     "text": [
      "mkdir: cannot create directory ‘./data/walker1’: File exists\r\n"
     ]
    }
   ],
   "source": [
    "%mkdir ./data/walker1"
   ]
  },
  {
   "cell_type": "code",
   "execution_count": 7,
   "id": "f0e29763",
   "metadata": {
    "scrolled": true
   },
   "outputs": [
    {
     "name": "stdout",
     "output_type": "stream",
     "text": [
      "Fetching trajectory: md1_w1.xtc\n",
      "Skipping ./data/walker1/md1_w1.xtc\n",
      "Fetching trajectory: md2_w1.part0002.xtc\n",
      "Skipping ./data/walker1/md2_w1.part0002.xtc\n",
      "Fetching trajectory: md3_w1.part0003.xtc\n",
      "Skipping ./data/walker1/md3_w1.part0003.xtc\n",
      "Fetching trajectory: md4_w1.part0004.xtc\n",
      "Skipping ./data/walker1/md4_w1.part0004.xtc\n",
      "Fetching trajectory: md5_w1.part0005.xtc\n",
      "Skipping ./data/walker1/md5_w1.part0005.xtc\n",
      "Fetching trajectory: md6_w1.part0006.xtc\n",
      "Skipping ./data/walker1/md6_w1.part0006.xtc\n",
      "Fetching trajectory: md7_w1.part0007.xtc\n",
      "Skipping ./data/walker1/md7_w1.part0007.xtc\n",
      "Fetching trajectory: md8_w1.part0008.xtc\n",
      "Skipping ./data/walker1/md8_w1.part0008.xtc\n",
      "Fetching trajectory: md9_w1.part0009.xtc\n",
      "Skipping ./data/walker1/md9_w1.part0009.xtc\n",
      "Fetching trajectory: md10_w1.part0010.xtc\n",
      "Skipping ./data/walker1/md10_w1.part0010.xtc\n",
      "Fetching trajectory: md11_w1.part0011.xtc\n",
      "Skipping ./data/walker1/md11_w1.part0011.xtc\n",
      "Fetching trajectory: md12_w1.part0012.xtc\n",
      "Skipping ./data/walker1/md12_w1.part0012.xtc\n",
      "Fetching trajectory: md13_w1.part0013.xtc\n",
      "Skipping ./data/walker1/md13_w1.part0013.xtc\n",
      "Fetching trajectory: md14_w1.part0014.xtc\n",
      "Skipping ./data/walker1/md14_w1.part0014.xtc\n",
      "Fetching trajectory: md15_w1.part0015.xtc\n",
      "Skipping ./data/walker1/md15_w1.part0015.xtc\n",
      "Fetching trajectory: md16_w1.part0016.xtc\n",
      "Skipping ./data/walker1/md16_w1.part0016.xtc\n",
      "Fetching trajectory: md17_w1.part0017.xtc\n",
      "curl https://object.cscs.ch/v1/AUTH_7a51266670fe4d718ac2bc3951dd9f64/hbp-d000001_PI3Ka_E545K_pub/PI3Ka/3.Production_runs/2.Biased/MultipleWalkers_metaD/545K/WALKER1/md17_w1.part0017.xtc > data/walker1/md17_w1.part0017.xtc\n",
      "Fetching trajectory: md18_w1.part0018.xtc\n",
      "curl https://object.cscs.ch/v1/AUTH_7a51266670fe4d718ac2bc3951dd9f64/hbp-d000001_PI3Ka_E545K_pub/PI3Ka/3.Production_runs/2.Biased/MultipleWalkers_metaD/545K/WALKER1/md18_w1.part0018.xtc > data/walker1/md18_w1.part0018.xtc\n"
     ]
    }
   ],
   "source": [
    "for md_name in md_names:\n",
    "    print(\"Fetching trajectory: {}\".format(md_name))\n",
    "    url = url_template.format(md_name)\n",
    "    file_name = \"./data/walker1/\"+md_name\n",
    "    if os.path.exists(file_name):\n",
    "        print(\"Skipping {}\".format(file_name))\n",
    "    else:\n",
    "        cmd = \"curl \"+url+\" > data/walker1/\"+md_name\n",
    "        print(cmd)\n",
    "        os.system(cmd)"
   ]
  },
  {
   "cell_type": "code",
   "execution_count": 8,
   "id": "451ff30b",
   "metadata": {},
   "outputs": [
    {
     "data": {
      "text/plain": [
       "0"
      ]
     },
     "execution_count": 8,
     "metadata": {},
     "output_type": "execute_result"
    }
   ],
   "source": [
    "# download the TPR topology\n",
    "\n",
    "os.system('curl https://object.cscs.ch/v1/AUTH_7a51266670fe4d718ac2bc3951dd9f64/\\\n",
    "hbp-d000001_PI3Ka_E545K_pub/PI3Ka/3.Production_runs/2.Biased/MultipleWalkers_metaD/\\\n",
    "545K/WALKER1/md_w1.tpr > data/walker1/md_w1.tpr')"
   ]
  },
  {
   "cell_type": "code",
   "execution_count": 9,
   "id": "9d3327e6",
   "metadata": {},
   "outputs": [],
   "source": [
    "# load the TPR topology with MDAnalysis\n",
    "from MDAnalysis.topology.TPRParser import TPRParser\n",
    "import MDAnalysis as mda\n",
    "\n",
    "tpr_parser = TPRParser(\"./data/walker1/md_w1.tpr\")\n",
    "struct = tpr_parser.parse()\n",
    "u = mda.Universe(struct, \"./data/walker1/md1_w1.xtc\")\n"
   ]
  },
  {
   "cell_type": "code",
   "execution_count": 11,
   "id": "624c5dc5",
   "metadata": {},
   "outputs": [
    {
     "name": "stderr",
     "output_type": "stream",
     "text": [
      "/usr/local/lib/python3.6/site-packages/MDAnalysis/coordinates/PDB.py:1080: UserWarning: Found no information for attr: 'altLocs' Using default value of ' '\n",
      "  \"\".format(attrname, default))\n",
      "/usr/local/lib/python3.6/site-packages/MDAnalysis/coordinates/PDB.py:1080: UserWarning: Found no information for attr: 'icodes' Using default value of ' '\n",
      "  \"\".format(attrname, default))\n",
      "/usr/local/lib/python3.6/site-packages/MDAnalysis/coordinates/PDB.py:1080: UserWarning: Found no information for attr: 'chainIDs' Using default value of ''\n",
      "  \"\".format(attrname, default))\n",
      "/usr/local/lib/python3.6/site-packages/MDAnalysis/coordinates/PDB.py:1080: UserWarning: Found no information for attr: 'occupancies' Using default value of '1.0'\n",
      "  \"\".format(attrname, default))\n",
      "/usr/local/lib/python3.6/site-packages/MDAnalysis/coordinates/PDB.py:1080: UserWarning: Found no information for attr: 'tempfactors' Using default value of '0.0'\n",
      "  \"\".format(attrname, default))\n",
      "/usr/local/lib/python3.6/site-packages/MDAnalysis/coordinates/PDB.py:1080: UserWarning: Found no information for attr: 'record_types' Using default value of 'ATOM'\n",
      "  \"\".format(attrname, default))\n",
      "/usr/local/lib/python3.6/site-packages/MDAnalysis/coordinates/PDB.py:1126: UserWarning: Found missing chainIDs. Corresponding atoms will use value of 'X'\n",
      "  \"\".format(default))\n"
     ]
    }
   ],
   "source": [
    "import MDAnalysis\n",
    "# and convert it to PDB\n",
    "topology = u.select_atoms(\"all\")\n",
    "with MDAnalysis.Writer(\"./data/walker1/md1_w1.pdb\", topology.n_atoms) as W:\n",
    "    for i, ts in enumerate(u.trajectory):\n",
    "        W.write(topology)\n",
    "        if i > 0 : break"
   ]
  },
  {
   "cell_type": "code",
   "execution_count": 12,
   "id": "7d4cb9c1",
   "metadata": {},
   "outputs": [],
   "source": [
    "# load this PDB file with mdtraj and and extract protein atom indices\n",
    "import mdtraj as md\n",
    "import numpy as np\n",
    "\n",
    "\n",
    "md_file = md.load(\"./data/walker1/md1_w1.pdb\")\n",
    "protein_selection = md_file.topology.select(\"protein\")\n",
    "np.savetxt(\"./data/walker1/protein_atom_idx.txt\", protein_selection, fmt = \"%d\")"
   ]
  },
  {
   "cell_type": "code",
   "execution_count": 13,
   "id": "9f068a85",
   "metadata": {},
   "outputs": [
    {
     "data": {
      "text/plain": [
       "array([    0,     1,     2, ..., 22161, 22162, 22163])"
      ]
     },
     "execution_count": 13,
     "metadata": {},
     "output_type": "execute_result"
    }
   ],
   "source": [
    "# save the topology too\n",
    "protein_selection"
   ]
  },
  {
   "cell_type": "code",
   "execution_count": null,
   "id": "6e25b618",
   "metadata": {},
   "outputs": [],
   "source": []
  },
  {
   "cell_type": "code",
   "execution_count": 14,
   "id": "dd816ef5",
   "metadata": {},
   "outputs": [
    {
     "name": "stdout",
     "output_type": "stream",
     "text": [
      "./data/walker1/md1_w1.xtc\t    ./data/walker1/md10_w1.part0010.xtc\r\n",
      "./data/walker1/md2_w1.part0002.xtc  ./data/walker1/md11_w1.part0011.xtc\r\n",
      "./data/walker1/md3_w1.part0003.xtc  ./data/walker1/md12_w1.part0012.xtc\r\n",
      "./data/walker1/md4_w1.part0004.xtc  ./data/walker1/md13_w1.part0013.xtc\r\n",
      "./data/walker1/md5_w1.part0005.xtc  ./data/walker1/md14_w1.part0014.xtc\r\n",
      "./data/walker1/md6_w1.part0006.xtc  ./data/walker1/md15_w1.part0015.xtc\r\n",
      "./data/walker1/md7_w1.part0007.xtc  ./data/walker1/md16_w1.part0016.xtc\r\n",
      "./data/walker1/md8_w1.part0008.xtc  ./data/walker1/md17_w1.part0017.xtc\r\n",
      "./data/walker1/md9_w1.part0009.xtc  ./data/walker1/md18_w1.part0018.xtc\r\n"
     ]
    }
   ],
   "source": [
    "!ls -v ./data/walker1/*.xtc"
   ]
  },
  {
   "cell_type": "code",
   "execution_count": 15,
   "id": "46e8db4f",
   "metadata": {},
   "outputs": [
    {
     "name": "stdout",
     "output_type": "stream",
     "text": [
      "converted 3182 frames, 22138 atomsTraceback (most recent call last):\n",
      "  File \"/usr/local/bin/mdconvert\", line 8, in <module>\n",
      "    sys.exit(entry_point())\n",
      "  File \"/usr/local/lib/python3.6/site-packages/mdtraj/scripts/mdconvert.py\", line 500, in entry_point\n",
      "    main(args)\n",
      "  File \"/usr/local/lib/python3.6/site-packages/mdtraj/scripts/mdconvert.py\", line 284, in main\n",
      "    with InFileFormat(fn, 'r') as infile:\n",
      "  File \"mdtraj/formats/xtc/xtc.pyx\", line 255, in mdtraj.formats.xtc.XTCTrajectoryFile.__cinit__\n",
      "OSError: Malformed XTC file. Number of atoms <= 0. Are you sure this is a valid GROMACS xtc file?\n"
     ]
    }
   ],
   "source": [
    "!mdconvert -o ./data/walker1/full_traj.xtc -a ./data/walker1/protein_atom_idx.txt $(ls -v ./data/walker1/*.xtc)"
   ]
  },
  {
   "cell_type": "code",
   "execution_count": 19,
   "id": "4d424191",
   "metadata": {},
   "outputs": [
    {
     "name": "stdout",
     "output_type": "stream",
     "text": [
      "['xyz', 'time', 'step', 'box', 'topology']\n",
      "Warning: 'step', 'time' data from input file(s) will be discarded. output format only supports fields: 'xyz', 'topology', 'cell_angles', 'cell_lengths'\n",
      "converted 1 frames, 22138 atoms \n"
     ]
    }
   ],
   "source": [
    "!mdconvert -o ./data/walker1/full_traj_top.pdb -t ./data/walker1/md1_w1.pdb -i 0 -a ./data/walker1/protein_atom_idx.txt ./data/walker1/md1_w1.xtc"
   ]
  },
  {
   "cell_type": "code",
   "execution_count": null,
   "id": "5291ef8c",
   "metadata": {},
   "outputs": [],
   "source": []
  }
 ],
 "metadata": {
  "kernelspec": {
   "display_name": "Python 3",
   "language": "python",
   "name": "python3"
  },
  "language_info": {
   "codemirror_mode": {
    "name": "ipython",
    "version": 3
   },
   "file_extension": ".py",
   "mimetype": "text/x-python",
   "name": "python",
   "nbconvert_exporter": "python",
   "pygments_lexer": "ipython3",
   "version": "3.6.7"
  }
 },
 "nbformat": 4,
 "nbformat_minor": 5
}
