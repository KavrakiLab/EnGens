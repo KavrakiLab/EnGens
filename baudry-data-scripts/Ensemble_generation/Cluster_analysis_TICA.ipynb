{
 "cells": [
  {
   "cell_type": "code",
   "execution_count": 1,
   "id": "738310b6",
   "metadata": {},
   "outputs": [
    {
     "data": {
      "application/vnd.jupyter.widget-view+json": {
       "model_id": "394881898d8a4301869e5c955cbf5bd9",
       "version_major": 2,
       "version_minor": 0
      },
      "text/plain": []
     },
     "metadata": {},
     "output_type": "display_data"
    }
   ],
   "source": [
    "# required imports \n",
    "from engens.core.EnGens import *\n",
    "import engens.core.FeatureSelector as fs\n",
    "import pickle\n",
    "import mdshare\n",
    "import mdtraj\n",
    "import numpy as np\n",
    "import nglview\n",
    "from IPython.display import Javascript, display\n",
    "import json"
   ]
  },
  {
   "cell_type": "code",
   "execution_count": null,
   "id": "8c58617f",
   "metadata": {},
   "outputs": [],
   "source": [
    "# Location of trajectory and topology files\n",
    "# (you can specify your own files here)\n",
    "top_loc = 'pentapeptide-impl-solv.pdb'\n",
    "traj_loc = 'pentapeptide-00-500ns-impl-solv.xtc'\n",
    "\n",
    "#Instrantiate the engens object\n",
    "\n",
    "#------------------------four options----------------------------#\n",
    "#-----you can uncomment any option that you would like to try-----#\n",
    "\n",
    "#Option 1 - load the full trajectory as a EnGen object \n",
    "\n",
    "#load full trajectory\n",
    "'''\n",
    "engen = EnGen(traj_loc, top_loc)\n",
    "'''\n",
    "\n",
    "# you can align the input trajectory by specifying the align flag to be true:\n",
    "# engen = EnGen(traj_loc, top_loc, align = True)\n",
    "\n",
    "\n",
    "\n",
    "#Option 2 - load a part of the trajectory by specifying a list of atoms of interest (binding site)\n",
    "#for example - first 10 atoms of the structure\n",
    "'''\n",
    "#load first 10 atoms of the trajectory\n",
    "N = 10\n",
    "select_list = [i for i in range(N)]\n",
    "engen = EnGen(traj_loc, top_loc, select_list)\n",
    "'''\n",
    "\n",
    "#Option 3 - load a part of the trajectory by specifying a selection string (binding site)\n",
    "#using atom selection format https://mdtraj.org/1.9.4/atom_selection.html\n",
    "#for example - you can specify residues with id 1, 2, 3 \n",
    "'''\n",
    "#load residues 1,2,3 of the trajectory\n",
    "binding_site_selstr = \"resid 1 or resid 2 or resid 3\"\n",
    "engen = EnGen(traj_loc, top_loc, binding_site_selstr)\n",
    "'''\n",
    "\n",
    "#Option 4 - load a part of the trajectory by selecting residues/atoms interactively\n",
    "# press CTRL and hover over the residues of interest to select them\n",
    "# press SHIFT and hover over residues to unselect them\n",
    "# to delete the selection input text \"none\" \n",
    "# into the filter for selection on the right side of the menu\n",
    "nglwidget = select_residues_nglview(top_loc)\n",
    "nglwidget"
   ]
  }
 ],
 "metadata": {
  "kernelspec": {
   "display_name": "Python 3",
   "language": "python",
   "name": "python3"
  },
  "language_info": {
   "codemirror_mode": {
    "name": "ipython",
    "version": 3
   },
   "file_extension": ".py",
   "mimetype": "text/x-python",
   "name": "python",
   "nbconvert_exporter": "python",
   "pygments_lexer": "ipython3",
   "version": "3.6.7"
  }
 },
 "nbformat": 4,
 "nbformat_minor": 5
}
