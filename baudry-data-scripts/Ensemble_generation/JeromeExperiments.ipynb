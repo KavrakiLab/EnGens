{
 "cells": [
  {
   "cell_type": "code",
   "execution_count": 8,
   "id": "93dc2c8a",
   "metadata": {},
   "outputs": [],
   "source": [
    "# required imports \n",
    "from engens.core.EnGens import *\n",
    "import engens.core.FeatureSelector as fs\n",
    "import pickle\n",
    "import mdshare\n",
    "import mdtraj\n",
    "import numpy as np\n",
    "import nglview\n",
    "from IPython.display import Javascript, display\n",
    "import json\n",
    "from engens.core.ClustEn import *\n",
    "from engens.core.DimReduction import *\n",
    "from engens.core.PlotUtils import *"
   ]
  },
  {
   "cell_type": "markdown",
   "id": "f5f26e60",
   "metadata": {},
   "source": [
    "# TICA - kmeans - single representative - center of the cluster"
   ]
  },
  {
   "cell_type": "code",
   "execution_count": 237,
   "id": "012ffa28",
   "metadata": {},
   "outputs": [
    {
     "name": "stderr",
     "output_type": "stream",
     "text": [
      "Aligning trajectory: 100%|██████████| 3/3 [00:02<00:00,  1.05it/s]\n",
      "Cleaning files...: 100%|██████████| 3/3 [00:00<00:00, 267.15it/s]\n",
      "Making the selection... : 30it [00:02, 13.69it/s]\n",
      "Cleaning files...: 100%|██████████| 30/30 [00:00<00:00, 792.83it/s]"
     ]
    },
    {
     "name": "stdout",
     "output_type": "stream",
     "text": [
      "02-04-22 23:33:42 pyemma.coordinates.data.featurization.featurizer.MDFeaturizer[226] WARNING  Using all residue pairs with schemes like closest or closest-heavy is very time consuming. Consider reducing the residue pairs\n"
     ]
    },
    {
     "name": "stderr",
     "output_type": "stream",
     "text": [
      "\n"
     ]
    },
    {
     "name": "stdout",
     "output_type": "stream",
     "text": [
      "Featurizer no. 0:\n",
      " backbone_torsions&residue_mindist\n",
      "['COS(PHI 0 ALA 61)', 'SIN(PHI 0 ALA 61)', 'COS(PSI 0 TYR 7)', 'SIN(PSI 0 TYR 7)', 'COS(PHI 0 ILE 64)', 'SIN(PHI 0 ILE 64)', 'COS(PSI 0 ALA 61)', 'SIN(PSI 0 ALA 61)', 'COS(PHI 0 SER 65)', 'SIN(PHI 0 SER 65)']...['RES_DIST (closest-heavy) ASN251 - ALA271', 'RES_DIST (closest-heavy) ASN251 - ILE272', 'RES_DIST (closest-heavy) ASN251 - SER275', 'RES_DIST (closest-heavy) ASN251 - HIS276', 'RES_DIST (closest-heavy) ALA263 - ILE272', 'RES_DIST (closest-heavy) ALA263 - SER275', 'RES_DIST (closest-heavy) ALA263 - HIS276', 'RES_DIST (closest-heavy) MET268 - SER275', 'RES_DIST (closest-heavy) MET268 - HIS276', 'RES_DIST (closest-heavy) ALA271 - HIS276']\n",
      " \n",
      "Picked featurized no. 0: backbone_torsions&residue_mindist\n",
      "['COS(PHI 0 ALA 61)', 'SIN(PHI 0 ALA 61)', 'COS(PSI 0 TYR 7)', 'SIN(PSI 0 TYR 7)', 'COS(PHI 0 ILE 64)', 'SIN(PHI 0 ILE 64)', 'COS(PSI 0 ALA 61)', 'SIN(PSI 0 ALA 61)', 'COS(PHI 0 SER 65)', 'SIN(PHI 0 SER 65)', 'COS(PSI 0 ILE 64)', 'SIN(PSI 0 ILE 64)', 'COS(PHI 0 ALA 79)', 'SIN(PHI 0 ALA 79)', 'COS(PSI 0 SER 65)', 'SIN(PSI 0 SER 65)', 'COS(PHI 0 VAL 82)', 'SIN(PHI 0 VAL 82)', 'COS(PSI 0 ALA 79)', 'SIN(PSI 0 ALA 79)', 'COS(PHI 0 LEU 83)', 'SIN(PHI 0 LEU 83)', 'COS(PSI 0 VAL 82)', 'SIN(PSI 0 VAL 82)', 'COS(PHI 0 THR 86)', 'SIN(PHI 0 THR 86)', 'COS(PSI 0 LEU 83)', 'SIN(PSI 0 LEU 83)', 'COS(PHI 0 GLN 87)', 'SIN(PHI 0 GLN 87)', 'COS(PSI 0 THR 86)', 'SIN(PSI 0 THR 86)', 'COS(PHI 0 LEU 165)', 'SIN(PHI 0 LEU 165)', 'COS(PSI 0 GLN 87)', 'SIN(PSI 0 GLN 87)', 'COS(PHI 0 PHE 166)', 'SIN(PHI 0 PHE 166)', 'COS(PSI 0 LEU 165)', 'SIN(PSI 0 LEU 165)', 'COS(PHI 0 GLU 167)', 'SIN(PHI 0 GLU 167)', 'COS(PSI 0 PHE 166)', 'SIN(PSI 0 PHE 166)', 'COS(PHI 0 MET 175)', 'SIN(PHI 0 MET 175)', 'COS(PSI 0 GLU 167)', 'SIN(PSI 0 GLU 167)', 'COS(PHI 0 ASN 179)', 'SIN(PHI 0 ASN 179)', 'COS(PSI 0 MET 175)', 'SIN(PSI 0 MET 175)', 'COS(PHI 0 TRP 244)', 'SIN(PHI 0 TRP 244)', 'COS(PSI 0 ASN 179)', 'SIN(PSI 0 ASN 179)', 'COS(PHI 0 LEU 247)', 'SIN(PHI 0 LEU 247)', 'COS(PSI 0 TRP 244)', 'SIN(PSI 0 TRP 244)', 'COS(PHI 0 HIS 248)', 'SIN(PHI 0 HIS 248)', 'COS(PSI 0 LEU 247)', 'SIN(PSI 0 LEU 247)', 'COS(PHI 0 ILE 250)', 'SIN(PHI 0 ILE 250)', 'COS(PSI 0 HIS 248)', 'SIN(PSI 0 HIS 248)', 'COS(PHI 0 ASN 251)', 'SIN(PHI 0 ASN 251)', 'COS(PSI 0 ILE 250)', 'SIN(PSI 0 ILE 250)', 'COS(PHI 0 ALA 263)', 'SIN(PHI 0 ALA 263)', 'COS(PSI 0 ASN 251)', 'SIN(PSI 0 ASN 251)', 'COS(PHI 0 MET 268)', 'SIN(PHI 0 MET 268)', 'COS(PSI 0 ALA 263)', 'SIN(PSI 0 ALA 263)', 'COS(PHI 0 ALA 271)', 'SIN(PHI 0 ALA 271)', 'COS(PSI 0 MET 268)', 'SIN(PSI 0 MET 268)', 'COS(PHI 0 ILE 272)', 'SIN(PHI 0 ILE 272)', 'COS(PSI 0 ALA 271)', 'SIN(PSI 0 ALA 271)', 'COS(PHI 0 SER 275)', 'SIN(PHI 0 SER 275)', 'COS(PSI 0 ILE 272)', 'SIN(PSI 0 ILE 272)', 'COS(PHI 0 HIS 276)', 'SIN(PHI 0 HIS 276)', 'COS(PSI 0 SER 275)', 'SIN(PSI 0 SER 275)', 'RES_DIST (closest-heavy) TYR7 - SER65', 'RES_DIST (closest-heavy) TYR7 - ALA79', 'RES_DIST (closest-heavy) TYR7 - VAL82', 'RES_DIST (closest-heavy) TYR7 - LEU83', 'RES_DIST (closest-heavy) TYR7 - THR86', 'RES_DIST (closest-heavy) TYR7 - GLN87', 'RES_DIST (closest-heavy) TYR7 - LEU165', 'RES_DIST (closest-heavy) TYR7 - PHE166', 'RES_DIST (closest-heavy) TYR7 - GLU167', 'RES_DIST (closest-heavy) TYR7 - MET175', 'RES_DIST (closest-heavy) TYR7 - ASN179', 'RES_DIST (closest-heavy) TYR7 - TRP244', 'RES_DIST (closest-heavy) TYR7 - LEU247', 'RES_DIST (closest-heavy) TYR7 - HIS248', 'RES_DIST (closest-heavy) TYR7 - ILE250', 'RES_DIST (closest-heavy) TYR7 - ASN251', 'RES_DIST (closest-heavy) TYR7 - ALA263', 'RES_DIST (closest-heavy) TYR7 - MET268', 'RES_DIST (closest-heavy) TYR7 - ALA271', 'RES_DIST (closest-heavy) TYR7 - ILE272', 'RES_DIST (closest-heavy) TYR7 - SER275', 'RES_DIST (closest-heavy) TYR7 - HIS276', 'RES_DIST (closest-heavy) ALA61 - ALA79', 'RES_DIST (closest-heavy) ALA61 - VAL82', 'RES_DIST (closest-heavy) ALA61 - LEU83', 'RES_DIST (closest-heavy) ALA61 - THR86', 'RES_DIST (closest-heavy) ALA61 - GLN87', 'RES_DIST (closest-heavy) ALA61 - LEU165', 'RES_DIST (closest-heavy) ALA61 - PHE166', 'RES_DIST (closest-heavy) ALA61 - GLU167', 'RES_DIST (closest-heavy) ALA61 - MET175', 'RES_DIST (closest-heavy) ALA61 - ASN179', 'RES_DIST (closest-heavy) ALA61 - TRP244', 'RES_DIST (closest-heavy) ALA61 - LEU247', 'RES_DIST (closest-heavy) ALA61 - HIS248', 'RES_DIST (closest-heavy) ALA61 - ILE250', 'RES_DIST (closest-heavy) ALA61 - ASN251', 'RES_DIST (closest-heavy) ALA61 - ALA263', 'RES_DIST (closest-heavy) ALA61 - MET268', 'RES_DIST (closest-heavy) ALA61 - ALA271', 'RES_DIST (closest-heavy) ALA61 - ILE272', 'RES_DIST (closest-heavy) ALA61 - SER275', 'RES_DIST (closest-heavy) ALA61 - HIS276', 'RES_DIST (closest-heavy) ILE64 - VAL82', 'RES_DIST (closest-heavy) ILE64 - LEU83', 'RES_DIST (closest-heavy) ILE64 - THR86', 'RES_DIST (closest-heavy) ILE64 - GLN87', 'RES_DIST (closest-heavy) ILE64 - LEU165', 'RES_DIST (closest-heavy) ILE64 - PHE166', 'RES_DIST (closest-heavy) ILE64 - GLU167', 'RES_DIST (closest-heavy) ILE64 - MET175', 'RES_DIST (closest-heavy) ILE64 - ASN179', 'RES_DIST (closest-heavy) ILE64 - TRP244', 'RES_DIST (closest-heavy) ILE64 - LEU247', 'RES_DIST (closest-heavy) ILE64 - HIS248', 'RES_DIST (closest-heavy) ILE64 - ILE250', 'RES_DIST (closest-heavy) ILE64 - ASN251', 'RES_DIST (closest-heavy) ILE64 - ALA263', 'RES_DIST (closest-heavy) ILE64 - MET268', 'RES_DIST (closest-heavy) ILE64 - ALA271', 'RES_DIST (closest-heavy) ILE64 - ILE272', 'RES_DIST (closest-heavy) ILE64 - SER275', 'RES_DIST (closest-heavy) ILE64 - HIS276', 'RES_DIST (closest-heavy) SER65 - LEU83', 'RES_DIST (closest-heavy) SER65 - THR86', 'RES_DIST (closest-heavy) SER65 - GLN87', 'RES_DIST (closest-heavy) SER65 - LEU165', 'RES_DIST (closest-heavy) SER65 - PHE166', 'RES_DIST (closest-heavy) SER65 - GLU167', 'RES_DIST (closest-heavy) SER65 - MET175', 'RES_DIST (closest-heavy) SER65 - ASN179', 'RES_DIST (closest-heavy) SER65 - TRP244', 'RES_DIST (closest-heavy) SER65 - LEU247', 'RES_DIST (closest-heavy) SER65 - HIS248', 'RES_DIST (closest-heavy) SER65 - ILE250', 'RES_DIST (closest-heavy) SER65 - ASN251', 'RES_DIST (closest-heavy) SER65 - ALA263', 'RES_DIST (closest-heavy) SER65 - MET268', 'RES_DIST (closest-heavy) SER65 - ALA271', 'RES_DIST (closest-heavy) SER65 - ILE272', 'RES_DIST (closest-heavy) SER65 - SER275', 'RES_DIST (closest-heavy) SER65 - HIS276', 'RES_DIST (closest-heavy) ALA79 - THR86', 'RES_DIST (closest-heavy) ALA79 - GLN87', 'RES_DIST (closest-heavy) ALA79 - LEU165', 'RES_DIST (closest-heavy) ALA79 - PHE166', 'RES_DIST (closest-heavy) ALA79 - GLU167', 'RES_DIST (closest-heavy) ALA79 - MET175', 'RES_DIST (closest-heavy) ALA79 - ASN179', 'RES_DIST (closest-heavy) ALA79 - TRP244', 'RES_DIST (closest-heavy) ALA79 - LEU247', 'RES_DIST (closest-heavy) ALA79 - HIS248', 'RES_DIST (closest-heavy) ALA79 - ILE250', 'RES_DIST (closest-heavy) ALA79 - ASN251', 'RES_DIST (closest-heavy) ALA79 - ALA263', 'RES_DIST (closest-heavy) ALA79 - MET268', 'RES_DIST (closest-heavy) ALA79 - ALA271', 'RES_DIST (closest-heavy) ALA79 - ILE272', 'RES_DIST (closest-heavy) ALA79 - SER275', 'RES_DIST (closest-heavy) ALA79 - HIS276', 'RES_DIST (closest-heavy) VAL82 - GLN87', 'RES_DIST (closest-heavy) VAL82 - LEU165', 'RES_DIST (closest-heavy) VAL82 - PHE166', 'RES_DIST (closest-heavy) VAL82 - GLU167', 'RES_DIST (closest-heavy) VAL82 - MET175', 'RES_DIST (closest-heavy) VAL82 - ASN179', 'RES_DIST (closest-heavy) VAL82 - TRP244', 'RES_DIST (closest-heavy) VAL82 - LEU247', 'RES_DIST (closest-heavy) VAL82 - HIS248', 'RES_DIST (closest-heavy) VAL82 - ILE250', 'RES_DIST (closest-heavy) VAL82 - ASN251', 'RES_DIST (closest-heavy) VAL82 - ALA263', 'RES_DIST (closest-heavy) VAL82 - MET268', 'RES_DIST (closest-heavy) VAL82 - ALA271', 'RES_DIST (closest-heavy) VAL82 - ILE272', 'RES_DIST (closest-heavy) VAL82 - SER275', 'RES_DIST (closest-heavy) VAL82 - HIS276', 'RES_DIST (closest-heavy) LEU83 - LEU165', 'RES_DIST (closest-heavy) LEU83 - PHE166', 'RES_DIST (closest-heavy) LEU83 - GLU167', 'RES_DIST (closest-heavy) LEU83 - MET175', 'RES_DIST (closest-heavy) LEU83 - ASN179', 'RES_DIST (closest-heavy) LEU83 - TRP244', 'RES_DIST (closest-heavy) LEU83 - LEU247', 'RES_DIST (closest-heavy) LEU83 - HIS248', 'RES_DIST (closest-heavy) LEU83 - ILE250', 'RES_DIST (closest-heavy) LEU83 - ASN251', 'RES_DIST (closest-heavy) LEU83 - ALA263', 'RES_DIST (closest-heavy) LEU83 - MET268', 'RES_DIST (closest-heavy) LEU83 - ALA271', 'RES_DIST (closest-heavy) LEU83 - ILE272', 'RES_DIST (closest-heavy) LEU83 - SER275', 'RES_DIST (closest-heavy) LEU83 - HIS276', 'RES_DIST (closest-heavy) THR86 - PHE166', 'RES_DIST (closest-heavy) THR86 - GLU167', 'RES_DIST (closest-heavy) THR86 - MET175', 'RES_DIST (closest-heavy) THR86 - ASN179', 'RES_DIST (closest-heavy) THR86 - TRP244', 'RES_DIST (closest-heavy) THR86 - LEU247', 'RES_DIST (closest-heavy) THR86 - HIS248', 'RES_DIST (closest-heavy) THR86 - ILE250', 'RES_DIST (closest-heavy) THR86 - ASN251', 'RES_DIST (closest-heavy) THR86 - ALA263', 'RES_DIST (closest-heavy) THR86 - MET268', 'RES_DIST (closest-heavy) THR86 - ALA271', 'RES_DIST (closest-heavy) THR86 - ILE272', 'RES_DIST (closest-heavy) THR86 - SER275', 'RES_DIST (closest-heavy) THR86 - HIS276', 'RES_DIST (closest-heavy) GLN87 - GLU167', 'RES_DIST (closest-heavy) GLN87 - MET175', 'RES_DIST (closest-heavy) GLN87 - ASN179', 'RES_DIST (closest-heavy) GLN87 - TRP244', 'RES_DIST (closest-heavy) GLN87 - LEU247', 'RES_DIST (closest-heavy) GLN87 - HIS248', 'RES_DIST (closest-heavy) GLN87 - ILE250', 'RES_DIST (closest-heavy) GLN87 - ASN251', 'RES_DIST (closest-heavy) GLN87 - ALA263', 'RES_DIST (closest-heavy) GLN87 - MET268', 'RES_DIST (closest-heavy) GLN87 - ALA271', 'RES_DIST (closest-heavy) GLN87 - ILE272', 'RES_DIST (closest-heavy) GLN87 - SER275', 'RES_DIST (closest-heavy) GLN87 - HIS276', 'RES_DIST (closest-heavy) LEU165 - MET175', 'RES_DIST (closest-heavy) LEU165 - ASN179', 'RES_DIST (closest-heavy) LEU165 - TRP244', 'RES_DIST (closest-heavy) LEU165 - LEU247', 'RES_DIST (closest-heavy) LEU165 - HIS248', 'RES_DIST (closest-heavy) LEU165 - ILE250', 'RES_DIST (closest-heavy) LEU165 - ASN251', 'RES_DIST (closest-heavy) LEU165 - ALA263', 'RES_DIST (closest-heavy) LEU165 - MET268', 'RES_DIST (closest-heavy) LEU165 - ALA271', 'RES_DIST (closest-heavy) LEU165 - ILE272', 'RES_DIST (closest-heavy) LEU165 - SER275', 'RES_DIST (closest-heavy) LEU165 - HIS276', 'RES_DIST (closest-heavy) PHE166 - ASN179', 'RES_DIST (closest-heavy) PHE166 - TRP244', 'RES_DIST (closest-heavy) PHE166 - LEU247', 'RES_DIST (closest-heavy) PHE166 - HIS248', 'RES_DIST (closest-heavy) PHE166 - ILE250', 'RES_DIST (closest-heavy) PHE166 - ASN251', 'RES_DIST (closest-heavy) PHE166 - ALA263', 'RES_DIST (closest-heavy) PHE166 - MET268', 'RES_DIST (closest-heavy) PHE166 - ALA271', 'RES_DIST (closest-heavy) PHE166 - ILE272', 'RES_DIST (closest-heavy) PHE166 - SER275', 'RES_DIST (closest-heavy) PHE166 - HIS276', 'RES_DIST (closest-heavy) GLU167 - TRP244', 'RES_DIST (closest-heavy) GLU167 - LEU247', 'RES_DIST (closest-heavy) GLU167 - HIS248', 'RES_DIST (closest-heavy) GLU167 - ILE250', 'RES_DIST (closest-heavy) GLU167 - ASN251', 'RES_DIST (closest-heavy) GLU167 - ALA263', 'RES_DIST (closest-heavy) GLU167 - MET268', 'RES_DIST (closest-heavy) GLU167 - ALA271', 'RES_DIST (closest-heavy) GLU167 - ILE272', 'RES_DIST (closest-heavy) GLU167 - SER275', 'RES_DIST (closest-heavy) GLU167 - HIS276', 'RES_DIST (closest-heavy) MET175 - LEU247', 'RES_DIST (closest-heavy) MET175 - HIS248', 'RES_DIST (closest-heavy) MET175 - ILE250', 'RES_DIST (closest-heavy) MET175 - ASN251', 'RES_DIST (closest-heavy) MET175 - ALA263', 'RES_DIST (closest-heavy) MET175 - MET268', 'RES_DIST (closest-heavy) MET175 - ALA271', 'RES_DIST (closest-heavy) MET175 - ILE272', 'RES_DIST (closest-heavy) MET175 - SER275', 'RES_DIST (closest-heavy) MET175 - HIS276', 'RES_DIST (closest-heavy) ASN179 - HIS248', 'RES_DIST (closest-heavy) ASN179 - ILE250', 'RES_DIST (closest-heavy) ASN179 - ASN251', 'RES_DIST (closest-heavy) ASN179 - ALA263', 'RES_DIST (closest-heavy) ASN179 - MET268', 'RES_DIST (closest-heavy) ASN179 - ALA271', 'RES_DIST (closest-heavy) ASN179 - ILE272', 'RES_DIST (closest-heavy) ASN179 - SER275', 'RES_DIST (closest-heavy) ASN179 - HIS276', 'RES_DIST (closest-heavy) TRP244 - ILE250', 'RES_DIST (closest-heavy) TRP244 - ASN251', 'RES_DIST (closest-heavy) TRP244 - ALA263', 'RES_DIST (closest-heavy) TRP244 - MET268', 'RES_DIST (closest-heavy) TRP244 - ALA271', 'RES_DIST (closest-heavy) TRP244 - ILE272', 'RES_DIST (closest-heavy) TRP244 - SER275', 'RES_DIST (closest-heavy) TRP244 - HIS276', 'RES_DIST (closest-heavy) LEU247 - ASN251', 'RES_DIST (closest-heavy) LEU247 - ALA263', 'RES_DIST (closest-heavy) LEU247 - MET268', 'RES_DIST (closest-heavy) LEU247 - ALA271', 'RES_DIST (closest-heavy) LEU247 - ILE272', 'RES_DIST (closest-heavy) LEU247 - SER275', 'RES_DIST (closest-heavy) LEU247 - HIS276', 'RES_DIST (closest-heavy) HIS248 - ALA263', 'RES_DIST (closest-heavy) HIS248 - MET268', 'RES_DIST (closest-heavy) HIS248 - ALA271', 'RES_DIST (closest-heavy) HIS248 - ILE272', 'RES_DIST (closest-heavy) HIS248 - SER275', 'RES_DIST (closest-heavy) HIS248 - HIS276', 'RES_DIST (closest-heavy) ILE250 - MET268', 'RES_DIST (closest-heavy) ILE250 - ALA271', 'RES_DIST (closest-heavy) ILE250 - ILE272', 'RES_DIST (closest-heavy) ILE250 - SER275', 'RES_DIST (closest-heavy) ILE250 - HIS276', 'RES_DIST (closest-heavy) ASN251 - ALA271', 'RES_DIST (closest-heavy) ASN251 - ILE272', 'RES_DIST (closest-heavy) ASN251 - SER275', 'RES_DIST (closest-heavy) ASN251 - HIS276', 'RES_DIST (closest-heavy) ALA263 - ILE272', 'RES_DIST (closest-heavy) ALA263 - SER275', 'RES_DIST (closest-heavy) ALA263 - HIS276', 'RES_DIST (closest-heavy) MET268 - SER275', 'RES_DIST (closest-heavy) MET268 - HIS276', 'RES_DIST (closest-heavy) ALA271 - HIS276']\n"
     ]
    }
   ],
   "source": [
    "\n",
    "#~~~~~~~~~~LOAD~~~~~~~~~~~~#\n",
    "top_loc = 'adora2a.pdb'\n",
    "traj_loc = 'adora2a.xtc'\n",
    "\n",
    "binding_site_selstr = \"residue==7 or residue==61 or residue==64 or residue==65 \\\n",
    "or residue==79 or residue==82 or residue==83 or residue==86 or residue==87 or \\\n",
    "residue==165 or residue==166 or residue==167 or residue==175 or residue==179 \\\n",
    "or residue==244 or residue==247 or residue==248 or residue==250 or residue==251 \\\n",
    "or residue==263 or residue==268 or residue==271 or residue==272 or residue==275 or residue==276\"\n",
    "\n",
    "engen = EnGen(traj_loc, top_loc, binding_site_selstr, align=True)\n",
    "\n",
    "#~~~~~~~~~~FEATURIZE~~~~~~~~~~~~#\n",
    "\n",
    "#center of mass and torsion angles\n",
    "feat3 = {\n",
    "            \"add_backbone_torsions\": {\"cossin\":True, \"periodic\":False},\n",
    "            \"add_residue_mindist\": {\"scheme\":'closest-heavy'}\n",
    "}\n",
    "#add the respective features to the engen structure\n",
    "engen.add_featurizer(feat3)\n",
    "\n",
    "#apply features\n",
    "engen.apply_featurizations()\n",
    "#print possible features\n",
    "print(engen.describe_featurizers())\n",
    "#select the number of the desired feature\n",
    "feat_num = 0\n",
    "# initialize selector\n",
    "featsel = fs.UserFeatureSelection(feat_num, engen)\n",
    "#select the feature\n",
    "featsel.select_feature()\n"
   ]
  },
  {
   "cell_type": "code",
   "execution_count": 238,
   "id": "c4339a49",
   "metadata": {},
   "outputs": [
    {
     "name": "stdout",
     "output_type": "stream",
     "text": [
      "Transforming with TICA - might take some time!\n",
      "lag: 1\n",
      "lag: 5\n",
      "lag: 9\n",
      "lag: 13\n",
      "lag: 17\n",
      "lag: 22\n",
      "lag: 26\n",
      "lag: 30\n",
      "lag: 34\n",
      "lag: 38\n",
      "lag: 43\n",
      "lag: 47\n",
      "lag: 51\n",
      "lag: 55\n",
      "lag: 60\n",
      "Chosen lag time: 13\n",
      "Number of processes above lag time: 14\n",
      "Number of clearly resolved processes with TICA: 1\n",
      "Processes (index, timescale): \n",
      "[(0, 659.6316561838645)]\n",
      "5\n"
     ]
    },
    {
     "data": {
      "image/png": "[encoded data removed]",
      "text/plain": [
       "<Figure size 432x288 with 1 Axes>"
      ]
     },
     "metadata": {
      "needs_background": "light"
     },
     "output_type": "display_data"
    },
    {
     "name": "stdout",
     "output_type": "stream",
     "text": [
      "TICA explained variance (with thr = 85) by first 146 components\n",
      "Total of 85.14930140633588% of variance explaned by first 146 ICs.\n"
     ]
    },
    {
     "data": {
      "image/png": "[encoded data removed]",
      "text/plain": [
       "<Figure size 432x288 with 1 Axes>"
      ]
     },
     "metadata": {
      "needs_background": "light"
     },
     "output_type": "display_data"
    }
   ],
   "source": [
    "\n",
    "#~~~~~~~~~~DIMRED~~~~~~~~~~~~#\n",
    "\n",
    "#chose TICA \n",
    "reduction_type = \"TICA\" \n",
    "#to make an informed decision on lag time range see the timescale of your simulation\n",
    "traj_times = mdtraj.load(engen.traj, top=engen.ref).time\n",
    "traj_nframes = len(traj_times)\n",
    "lags = [int(np.log(i)) for i in np.logspace(1,  int(traj_nframes/50), num=15, base=np.e)]\n",
    "#initialize TICA reducer\n",
    "reducer = dimreds[reduction_type](engen, lags)\n",
    "#estimate number of resolved processes and choose the lag time automatically\n",
    "lag = reducer.choose_lag_auto()\n",
    "if lag is None:\n",
    "    reducer.plot_lag_analysis(chosen_lag=0)\n",
    "    plt.show()\n",
    "    lag = int(input(\"Please enter custom lag or run the cell again with different lags\"))\n",
    "lag = 5\n",
    "print(lag)\n",
    "reducer.choose_lag(lag)\n",
    "#visualize TICA resolved process scales with different lags\n",
    "reducer.plot_lag_analysis(chosen_lag=lag)\n",
    "plt.show()\n",
    "#choose variance threshold and number of components\n",
    "var_thr = 85\n",
    "n_components = reducer.get_variance(var_thr=var_thr)\n",
    "reducer.plot_variance(var_thr=var_thr)\n",
    "plt.show()\n",
    "#select the corresponding number of components\n",
    "reducer.choose_n(n_components)\n",
    "reducer.apply()\n"
   ]
  },
  {
   "cell_type": "code",
   "execution_count": 239,
   "id": "5904bb60",
   "metadata": {},
   "outputs": [
    {
     "name": "stdout",
     "output_type": "stream",
     "text": [
      "Clustering with params={'n_clusters': 2}\n",
      "Clustering with params={'n_clusters': 3}\n",
      "Clustering with params={'n_clusters': 4}\n",
      "Clustering with params={'n_clusters': 5}\n",
      "Clustering with params={'n_clusters': 6}\n",
      "Clustering with params={'n_clusters': 7}\n",
      "Clustering with params={'n_clusters': 8}\n",
      "Clustering with params={'n_clusters': 9}\n",
      "Clustering with params={'n_clusters': 10}\n",
      "Clustering with params={'n_clusters': 11}\n",
      "Clustering with params={'n_clusters': 12}\n",
      "Clustering with params={'n_clusters': 13}\n",
      "Clustering with params={'n_clusters': 14}\n",
      "Clustering with params={'n_clusters': 15}\n",
      "Clustering with params={'n_clusters': 16}\n",
      "Clustering with params={'n_clusters': 17}\n",
      "Clustering with params={'n_clusters': 18}\n",
      "Clustering with params={'n_clusters': 19}\n",
      "Clustering with params={'n_clusters': 20}\n",
      "Clustering with params={'n_clusters': 21}\n",
      "Clustering with params={'n_clusters': 22}\n",
      "Clustering with params={'n_clusters': 23}\n",
      "Clustering with params={'n_clusters': 24}\n",
      "Clustering with params={'n_clusters': 25}\n",
      "Clustering with params={'n_clusters': 26}\n",
      "Clustering with params={'n_clusters': 27}\n",
      "Clustering with params={'n_clusters': 28}\n",
      "Clustering with params={'n_clusters': 29}\n",
      "Clustering with params={'n_clusters': 30}\n",
      "Clustering with params={'n_clusters': 31}\n",
      "Clustering with params={'n_clusters': 32}\n",
      "Clustering with params={'n_clusters': 33}\n",
      "Clustering with params={'n_clusters': 34}\n",
      "Clustering with params={'n_clusters': 35}\n",
      "Clustering with params={'n_clusters': 36}\n",
      "Clustering with params={'n_clusters': 37}\n",
      "Clustering with params={'n_clusters': 38}\n",
      "Clustering with params={'n_clusters': 39}\n",
      "Clustering with params={'n_clusters': 40}\n",
      "Clustering with params={'n_clusters': 41}\n",
      "Clustering with params={'n_clusters': 42}\n",
      "Clustering with params={'n_clusters': 43}\n",
      "Clustering with params={'n_clusters': 44}\n",
      "Clustering with params={'n_clusters': 45}\n",
      "Clustering with params={'n_clusters': 46}\n",
      "Clustering with params={'n_clusters': 47}\n",
      "Clustering with params={'n_clusters': 48}\n",
      "Clustering with params={'n_clusters': 49}\n"
     ]
    },
    {
     "data": {
      "image/png": "[encoded data removed]",
      "text/plain": [
       "<Figure size 432x288 with 1 Axes>"
      ]
     },
     "metadata": {
      "needs_background": "light"
     },
     "output_type": "display_data"
    },
    {
     "name": "stdout",
     "output_type": "stream",
     "text": [
      "Optimal params={'n_clusters': 10}\n"
     ]
    },
    {
     "data": {
      "text/plain": [
       "{'n_clusters': 10}"
      ]
     },
     "execution_count": 239,
     "metadata": {},
     "output_type": "execute_result"
    }
   ],
   "source": [
    "\n",
    "#~~~~~~~~~~~CLUST~~~~~~~~~~~~#\n",
    "\n",
    "clustering = \"KM\"\n",
    "cluster_method = clusterings[clustering](engen, n_rep=2)\n",
    "\n",
    "params = [{\"n_clusters\":i} for i in range(2, 50)]\n",
    "cluster_method.cluster_multiple_params(params)\n",
    "\n",
    "# analyze these parameters with the elbow method\n",
    "cluster_method.analyze_elbow_method()"
   ]
  },
  {
   "cell_type": "code",
   "execution_count": 240,
   "id": "4889b073",
   "metadata": {},
   "outputs": [],
   "source": [
    "# pick the number of clusters\n",
    "n = 10\n",
    "cluster_method.choose_n(n)"
   ]
  },
  {
   "cell_type": "code",
   "execution_count": 241,
   "id": "265af960",
   "metadata": {},
   "outputs": [
    {
     "name": "stdout",
     "output_type": "stream",
     "text": [
      "Chosen cluster ids: [0, 1, 2, 3, 4, 5, 6, 7, 8, 9]\n"
     ]
    },
    {
     "data": {
      "image/png": "[encoded data removed]",
      "text/plain": [
       "<Figure size 432x288 with 1 Axes>"
      ]
     },
     "metadata": {
      "needs_background": "light"
     },
     "output_type": "display_data"
    }
   ],
   "source": [
    "cluster_method.choose_clusters(thr=0.01)"
   ]
  },
  {
   "cell_type": "code",
   "execution_count": 242,
   "id": "f9b76e8a",
   "metadata": {},
   "outputs": [
    {
     "name": "stdout",
     "output_type": "stream",
     "text": [
      "0\n",
      "1\n",
      "2\n",
      "3\n",
      "4\n",
      "5\n",
      "6\n",
      "7\n",
      "8\n",
      "9\n"
     ]
    },
    {
     "data": {
      "image/png": "[encoded data removed]",
      "text/plain": [
       "<Figure size 432x288 with 1 Axes>"
      ]
     },
     "metadata": {
      "needs_background": "light"
     },
     "output_type": "display_data"
    }
   ],
   "source": [
    "\n",
    "cluster_method.choose_conformations()"
   ]
  },
  {
   "cell_type": "code",
   "execution_count": 243,
   "id": "2adc2906",
   "metadata": {},
   "outputs": [],
   "source": [
    "result_ensembles = {}"
   ]
  },
  {
   "cell_type": "code",
   "execution_count": 244,
   "id": "3243a4f0",
   "metadata": {},
   "outputs": [],
   "source": [
    "result_ensembles[\"tica-kmeans-centers\"] = cluster_method.chosen_frames"
   ]
  },
  {
   "cell_type": "code",
   "execution_count": 245,
   "id": "8158c425",
   "metadata": {},
   "outputs": [
    {
     "data": {
      "text/plain": [
       "[1459, 373, 2974, 677, 1095, 2167, 1666, 73, 1493, 848]"
      ]
     },
     "execution_count": 245,
     "metadata": {},
     "output_type": "execute_result"
    }
   ],
   "source": [
    "list(cluster_method.chosen_frames)"
   ]
  },
  {
   "cell_type": "markdown",
   "id": "3caef155",
   "metadata": {},
   "source": [
    "## Super-cluster within the cluster - metric tica"
   ]
  },
  {
   "cell_type": "code",
   "execution_count": null,
   "id": "b5aab263",
   "metadata": {},
   "outputs": [],
   "source": []
  },
  {
   "cell_type": "code",
   "execution_count": 246,
   "id": "0a428bdb",
   "metadata": {},
   "outputs": [],
   "source": [
    "from scipy.spatial import distance_matrix\n",
    "from scipy.cluster.hierarchy import ward, fcluster, leaders\n",
    "from scipy.spatial.distance import pdist"
   ]
  },
  {
   "cell_type": "code",
   "execution_count": 247,
   "id": "a875d22d",
   "metadata": {},
   "outputs": [],
   "source": [
    "## assign proportionally the number of representatives accoarding to the number of elements in the cluster\n",
    "\n",
    "number_of_seats = 34 \n",
    "number_of_clusters = 10\n",
    "seats_left = number_of_seats\n",
    "seats = np.zeros(number_of_clusters)\n",
    "votes = np.histogram(cluster_method.labels[cluster_method.chosen_index], bins=np.arange(0, number_of_clusters+1))[0]\n",
    "vote_list = np.histogram(cluster_method.labels[cluster_method.chosen_index], bins=np.arange(0, number_of_clusters+1))[0]\n",
    "while seats_left > 0:\n",
    "    max_prop = np.argmax(vote_list)\n",
    "    seats[max_prop] += 1 \n",
    "    vote_list[max_prop] = float(votes[max_prop])/(seats[max_prop]+1)\n",
    "    seats_left -= 1"
   ]
  },
  {
   "cell_type": "code",
   "execution_count": 248,
   "id": "b9b63d8c",
   "metadata": {},
   "outputs": [
    {
     "data": {
      "text/plain": [
       "array([6., 5., 2., 1., 3., 5., 2., 3., 5., 2.])"
      ]
     },
     "execution_count": 248,
     "metadata": {},
     "output_type": "execute_result"
    }
   ],
   "source": [
    "seats"
   ]
  },
  {
   "cell_type": "code",
   "execution_count": 249,
   "id": "f8d51f63",
   "metadata": {},
   "outputs": [
    {
     "name": "stdout",
     "output_type": "stream",
     "text": [
      "0\n",
      "1\n",
      "2\n",
      "3\n",
      "4\n",
      "5\n",
      "6\n",
      "7\n",
      "8\n",
      "9\n"
     ]
    }
   ],
   "source": [
    "## do hierarchical clustering within each cluster\n",
    "hub_frames = []\n",
    "labels = cluster_method.labels[cluster_method.chosen_index]\n",
    "for cluster_id in set(labels):\n",
    "    print(cluster_id)\n",
    "    clust_indexes = np.argwhere(labels == cluster_id).flatten()\n",
    "    cluster_data = engen.dimred_data[clust_indexes]\n",
    "    dist_mat = pdist(cluster_data)\n",
    "    Z = ward(dist_mat)\n",
    "    T = cut_tree(Z, seats[cluster_id]).flatten()\n",
    "    #tmp_hubs = []\n",
    "    for subclust_id in range(int(seats[cluster_id])):\n",
    "        elems = np.argwhere(T==subclust_id)\n",
    "        elems_dist = dist_mat[elems]\n",
    "        elems_dist_sum = np.apply_over_axes(np.sum, elems_dist, (1)).flatten()\n",
    "        hub_subclust = np.argmin(elems_dist_sum)\n",
    "        hub_cluster_ind = elems[hub_subclust]\n",
    "        hub_frame_ind = clust_indexes[hub_cluster_ind]\n",
    "        hub_frames.append(hub_frame_ind[0])\n",
    "    #hub_frames.append(tmp_hubs)"
   ]
  },
  {
   "cell_type": "code",
   "execution_count": 250,
   "id": "dc45bfe3",
   "metadata": {},
   "outputs": [
    {
     "data": {
      "text/plain": [
       "[2764,\n",
       " 2601,\n",
       " 1379,\n",
       " 1435,\n",
       " 1432,\n",
       " 2674,\n",
       " 258,\n",
       " 5,\n",
       " 636,\n",
       " 761,\n",
       " 640,\n",
       " 2792,\n",
       " 2999,\n",
       " 674,\n",
       " 924,\n",
       " 1090,\n",
       " 915,\n",
       " 1193,\n",
       " 1196,\n",
       " 2077,\n",
       " 2571,\n",
       " 2102,\n",
       " 1797,\n",
       " 1650,\n",
       " 171,\n",
       " 269,\n",
       " 103,\n",
       " 2969,\n",
       " 1581,\n",
       " 1485,\n",
       " 1523,\n",
       " 2356,\n",
       " 853,\n",
       " 891]"
      ]
     },
     "execution_count": 250,
     "metadata": {},
     "output_type": "execute_result"
    }
   ],
   "source": [
    "hub_frames"
   ]
  },
  {
   "cell_type": "markdown",
   "id": "a8c7b4ba",
   "metadata": {},
   "source": [
    "## Sub-cluster within the cluster - metric RMSD"
   ]
  },
  {
   "cell_type": "code",
   "execution_count": null,
   "id": "4bdee88d",
   "metadata": {},
   "outputs": [],
   "source": [
    "traj = mdtraj.load(\"adora2a-aligned.xtc\", top = \"adora2a.pdb\")\n",
    "distances = np.empty((traj.n_frames, traj.n_frames))\n",
    "for i in range(traj.n_frames):\n",
    "    distances[i] = mdtraj.rmsd(traj, traj, i)"
   ]
  },
  {
   "cell_type": "code",
   "execution_count": 270,
   "id": "b95908e8",
   "metadata": {},
   "outputs": [
    {
     "name": "stdout",
     "output_type": "stream",
     "text": [
      "0\n",
      "6\n",
      "1\n",
      "5\n",
      "2\n",
      "2\n",
      "3\n",
      "1\n",
      "4\n",
      "3\n",
      "5\n",
      "5\n",
      "6\n",
      "2\n",
      "7\n",
      "3\n",
      "8\n",
      "5\n",
      "9\n",
      "2\n"
     ]
    }
   ],
   "source": [
    "## do hierarchical clustering within each cluster\n",
    "import scipy\n",
    "\n",
    "    \n",
    "hub_frames = []\n",
    "labels = cluster_method.labels[cluster_method.chosen_index]\n",
    "for cluster_id in set(labels):\n",
    "    print(cluster_id)\n",
    "    clust_indexes = np.argwhere(labels == cluster_id).flatten()\n",
    "    trajs = []\n",
    "    dist_mat = distances[clust_indexes, :][:, clust_indexes]\n",
    "    \n",
    "    #linkage = scipy.cluster.hierarchy.linkage(dist_mat, method='average')\n",
    "    #subclusters = scipy.cluster.hierarchy.fcluster(linkage, t=0.2, criterion=\"distance\")\n",
    "    Z = ward(dist_mat)\n",
    "    T = cut_tree(Z, seats[cluster_id]).flatten()\n",
    "\n",
    "    tmp_hubs = []\n",
    "#    for subclust_id in set(subclusters):\n",
    "#        elems = np.argwhere(subclusters==subclust_id)\n",
    "    for subclust_id in range(int(seats[cluster_id])):\n",
    "        elems = np.argwhere(T==subclust_id)\n",
    "        elems_dist = dist_mat[elems.flatten(), :][:, elems.flatten()]\n",
    "        elems_dist_sum = np.apply_over_axes(np.sum, elems_dist<0.2, (1)).flatten()\n",
    "        hub_subclust = np.argmax(elems_dist_sum)\n",
    "        hub_cluster_ind = elems[hub_subclust]\n",
    "        hub_frame_ind = clust_indexes[hub_cluster_ind]\n",
    "        tmp_hubs.append(hub_frame_ind[0])\n",
    "    print(len(tmp_hubs))\n",
    "    hub_frames.extend(tmp_hubs)"
   ]
  },
  {
   "cell_type": "code",
   "execution_count": 271,
   "id": "2bc650fb",
   "metadata": {},
   "outputs": [
    {
     "data": {
      "text/plain": [
       "[2645,\n",
       " 2601,\n",
       " 1276,\n",
       " 1357,\n",
       " 2678,\n",
       " 2028,\n",
       " 12,\n",
       " 225,\n",
       " 292,\n",
       " 389,\n",
       " 617,\n",
       " 2970,\n",
       " 2860,\n",
       " 741,\n",
       " 1079,\n",
       " 908,\n",
       " 1156,\n",
       " 2542,\n",
       " 2101,\n",
       " 2518,\n",
       " 1246,\n",
       " 2528,\n",
       " 1740,\n",
       " 1621,\n",
       " 168,\n",
       " 104,\n",
       " 481,\n",
       " 1554,\n",
       " 1465,\n",
       " 1823,\n",
       " 2345,\n",
       " 2929,\n",
       " 1006,\n",
       " 824]"
      ]
     },
     "execution_count": 271,
     "metadata": {},
     "output_type": "execute_result"
    }
   ],
   "source": [
    "hub_frames"
   ]
  },
  {
   "cell_type": "code",
   "execution_count": 269,
   "id": "9c8d3212",
   "metadata": {},
   "outputs": [
    {
     "data": {
      "text/plain": [
       "(510, 510)"
      ]
     },
     "execution_count": 269,
     "metadata": {},
     "output_type": "execute_result"
    }
   ],
   "source": [
    "dist_mat.shape"
   ]
  },
  {
   "cell_type": "code",
   "execution_count": 225,
   "id": "1725df1a",
   "metadata": {},
   "outputs": [
    {
     "data": {
      "text/plain": [
       "(261, 261)"
      ]
     },
     "execution_count": 225,
     "metadata": {},
     "output_type": "execute_result"
    }
   ],
   "source": [
    "distances[clust_indexes, :][:, clust_indexes].shape"
   ]
  },
  {
   "cell_type": "code",
   "execution_count": 220,
   "id": "1ee65621",
   "metadata": {},
   "outputs": [
    {
     "data": {
      "text/plain": [
       "(3000, 3000)"
      ]
     },
     "execution_count": 220,
     "metadata": {},
     "output_type": "execute_result"
    }
   ],
   "source": [
    "distances.shape"
   ]
  },
  {
   "cell_type": "code",
   "execution_count": 201,
   "id": "a9cd5cda",
   "metadata": {},
   "outputs": [
    {
     "data": {
      "text/plain": [
       "<mdtraj.Trajectory with 2 frames, 201 atoms, 25 residues, without unitcells at 0x7fb0b6953748>"
      ]
     },
     "execution_count": 201,
     "metadata": {},
     "output_type": "execute_result"
    }
   ],
   "source": [
    "mdtraj.join([mdtraj.load_frame(engen.traj, 1, top = engen.ref), mdtraj.load_frame(engen.traj, 1, top = engen.ref)])"
   ]
  },
  {
   "cell_type": "code",
   "execution_count": 190,
   "id": "b70e10f4",
   "metadata": {},
   "outputs": [
    {
     "data": {
      "text/plain": [
       "array([], shape=(0, 1), dtype=int64)"
      ]
     },
     "execution_count": 190,
     "metadata": {},
     "output_type": "execute_result"
    }
   ],
   "source": [
    "np.argwhere(Z[:-1, 1]==316)"
   ]
  },
  {
   "cell_type": "code",
   "execution_count": 163,
   "id": "dd37aa38",
   "metadata": {},
   "outputs": [
    {
     "data": {
      "text/plain": [
       "array([305.        , 313.        ,   4.78302521,  38.        ])"
      ]
     },
     "execution_count": 163,
     "metadata": {},
     "output_type": "execute_result"
    }
   ],
   "source": [
    "Z[154, :]"
   ]
  },
  {
   "cell_type": "code",
   "execution_count": 165,
   "id": "c044ce9e",
   "metadata": {},
   "outputs": [
    {
     "data": {
      "text/plain": [
       "array([319.        , 320.        ,   7.36982255, 124.        ])"
      ]
     },
     "execution_count": 165,
     "metadata": {},
     "output_type": "execute_result"
    }
   ],
   "source": [
    "Z[159, :]"
   ]
  },
  {
   "cell_type": "code",
   "execution_count": 156,
   "id": "9dee7bbe",
   "metadata": {},
   "outputs": [
    {
     "data": {
      "text/plain": [
       "array([[ 67.        ,  95.        ,   1.83763685,   2.        ],\n",
       "       [ 71.        ,  74.        ,   1.87009161,   2.        ],\n",
       "       [  9.        , 104.        ,   1.87906144,   2.        ],\n",
       "       ...,\n",
       "       [317.        , 318.        ,   6.08443409,  89.        ],\n",
       "       [319.        , 320.        ,   7.36982255, 124.        ],\n",
       "       [316.        , 321.        ,   7.95289664, 162.        ]])"
      ]
     },
     "execution_count": 156,
     "metadata": {},
     "output_type": "execute_result"
    }
   ],
   "source": [
    "Z"
   ]
  },
  {
   "cell_type": "code",
   "execution_count": 164,
   "id": "a3fe3e58",
   "metadata": {},
   "outputs": [
    {
     "data": {
      "text/plain": [
       "159"
      ]
     },
     "execution_count": 164,
     "metadata": {},
     "output_type": "execute_result"
    }
   ],
   "source": [
    "321-162"
   ]
  },
  {
   "cell_type": "code",
   "execution_count": 135,
   "id": "b3d419ff",
   "metadata": {},
   "outputs": [
    {
     "data": {
      "text/plain": [
       "(324,)"
      ]
     },
     "execution_count": 135,
     "metadata": {},
     "output_type": "execute_result"
    }
   ],
   "source": [
    "T.shape"
   ]
  },
  {
   "cell_type": "code",
   "execution_count": 146,
   "id": "3aab66a8",
   "metadata": {},
   "outputs": [
    {
     "data": {
      "text/plain": [
       "array([0, 0, 0, ..., 0, 0, 0], dtype=int32)"
      ]
     },
     "execution_count": 146,
     "metadata": {},
     "output_type": "execute_result"
    }
   ],
   "source": [
    "T.astype(\"i\") "
   ]
  },
  {
   "cell_type": "code",
   "execution_count": 127,
   "id": "6448416c",
   "metadata": {},
   "outputs": [],
   "source": [
    "T.dtype=int"
   ]
  },
  {
   "cell_type": "code",
   "execution_count": 110,
   "id": "408f239c",
   "metadata": {},
   "outputs": [],
   "source": [
    "from  scipy.cluster.hierarchy import cut_tree"
   ]
  },
  {
   "cell_type": "code",
   "execution_count": 139,
   "id": "278672d5",
   "metadata": {},
   "outputs": [
    {
     "data": {
      "text/plain": [
       "(162,)"
      ]
     },
     "execution_count": 139,
     "metadata": {},
     "output_type": "execute_result"
    }
   ],
   "source": [
    "cut_tree(Z, 2).flatten().shape"
   ]
  },
  {
   "cell_type": "code",
   "execution_count": 128,
   "id": "d3be6f67",
   "metadata": {},
   "outputs": [
    {
     "data": {
      "text/plain": [
       "array([0, 0, 0, ..., 0, 0, 0])"
      ]
     },
     "execution_count": 128,
     "metadata": {},
     "output_type": "execute_result"
    }
   ],
   "source": [
    "T"
   ]
  },
  {
   "cell_type": "code",
   "execution_count": 50,
   "id": "d3066347",
   "metadata": {},
   "outputs": [
    {
     "data": {
      "text/plain": [
       "array([5, 5, 2, ..., 6, 6, 6], dtype=int32)"
      ]
     },
     "execution_count": 50,
     "metadata": {},
     "output_type": "execute_result"
    }
   ],
   "source": [
    "cluster_method.labels[cluster_method.chosen_index]"
   ]
  },
  {
   "cell_type": "code",
   "execution_count": 47,
   "id": "a34293ed",
   "metadata": {},
   "outputs": [
    {
     "name": "stdout",
     "output_type": "stream",
     "text": [
      "0\n",
      "[ 628  812  897 ... 1182 1184 1185]\n",
      "[1 1 1 ... 1 1 1]\n",
      "0\n",
      "~~~~~~~~~~~~~~\n",
      "1\n",
      "[1190 1191 1193 ... 2813 2913 2944]\n",
      "[1 1 1 ... 6 1 2]\n",
      "0\n",
      "~~~~~~~~~~~~~~\n",
      "2\n",
      "[   2   24   27 ... 1107 1111 1114]\n",
      "[1 3 1 ... 2 1 1]\n",
      "0\n",
      "~~~~~~~~~~~~~~\n",
      "3\n",
      "[1189 1192 1194 ... 2740 2764 2979]\n",
      "[ 1  1  1 ...  5 13  8]\n",
      "0\n",
      "~~~~~~~~~~~~~~\n",
      "4\n",
      "[  21  638  639 ... 1122 1165 1186]\n",
      "[1 1 1 ... 1 1 1]\n",
      "0\n",
      "~~~~~~~~~~~~~~\n",
      "5\n",
      "[  0   1   3 ... 881 884 968]\n",
      "[1 1 1 ... 1 1 1]\n",
      "0\n",
      "~~~~~~~~~~~~~~\n",
      "6\n",
      "[1187 1188 1199 ... 2997 2998 2999]\n",
      "[1 1 3 ... 1 1 9]\n",
      "0\n",
      "~~~~~~~~~~~~~~\n",
      "7\n",
      "[1183 1246 1472 ... 2617 2788 2882]\n",
      "[ 1 13  1 ...  1  1  1]\n",
      "0\n",
      "~~~~~~~~~~~~~~\n",
      "8\n",
      "[1200 1209 1215 ... 2966 2967 2974]\n",
      "[ 1  5  1 ...  1  1 12]\n",
      "0\n",
      "~~~~~~~~~~~~~~\n",
      "9\n",
      "[  23   84   91 ...  780  807 1023]\n",
      "[1 1 1 ... 1 1 1]\n",
      "0\n",
      "~~~~~~~~~~~~~~\n",
      "10\n",
      "[  6   7   8 ... 627 753 754]\n",
      "[1 1 1 ... 1 1 1]\n",
      "0\n",
      "~~~~~~~~~~~~~~\n"
     ]
    }
   ],
   "source": [
    "hub_frames = []\n",
    "labels = cluster_method.labels[cluster_method.chosen_index]\n",
    "\n",
    "for cluster_id in set(labels):\n",
    "    print(cluster_id)\n",
    "    clust_indexes = np.argwhere(labels == cluster_id).flatten()\n",
    "    print(clust_indexes)\n",
    "    cluster_data = engen.dimred_data[clust_indexes]\n",
    "    dist_mat = distance_matrix(cluster_data, cluster_data)\n",
    "    dist_mat_sum = np.apply_over_axes(np.sum, dist_mat<2, (1)).flatten()\n",
    "    print(dist_mat_sum)\n",
    "    hub_index = np.argmin(dist_mat_sum)\n",
    "    print(hub_index)\n",
    "    hub_frame_index = clust_indexes[hub_index]\n",
    "    hub_frames.append(hub_frame_index)\n",
    "    print(\"~~~~~~~~~~~~~~\")"
   ]
  },
  {
   "cell_type": "code",
   "execution_count": 51,
   "id": "d9fba52f",
   "metadata": {},
   "outputs": [
    {
     "data": {
      "text/plain": [
       "array([1, 2, 3, 4, 5, 6, 7, 8, 9])"
      ]
     },
     "execution_count": 51,
     "metadata": {},
     "output_type": "execute_result"
    }
   ],
   "source": [
    "np.arange(1,10)"
   ]
  },
  {
   "cell_type": "code",
   "execution_count": 32,
   "id": "46c6ff5d",
   "metadata": {},
   "outputs": [
    {
     "data": {
      "text/plain": [
       "array([   2,   24,   27, ..., 1107, 1111, 1114])"
      ]
     },
     "execution_count": 32,
     "metadata": {},
     "output_type": "execute_result"
    }
   ],
   "source": [
    "np.argwhere(cluster_method.labels[cluster_method.chosen_index] == 2).flatten()"
   ]
  },
  {
   "cell_type": "code",
   "execution_count": 35,
   "id": "8c31ff2f",
   "metadata": {},
   "outputs": [],
   "source": [
    "tmp = engen.dimred_data[np.argwhere(cluster_method.labels[cluster_method.chosen_index] == 2).flatten()]"
   ]
  },
  {
   "cell_type": "code",
   "execution_count": 42,
   "id": "11680476",
   "metadata": {},
   "outputs": [
    {
     "data": {
      "text/plain": [
       "134"
      ]
     },
     "execution_count": 42,
     "metadata": {},
     "output_type": "execute_result"
    }
   ],
   "source": [
    "np.argmin(np.apply_over_axes(np.sum, distance_matrix(tmp, tmp), (1)).flatten())"
   ]
  }
 ],
 "metadata": {
  "kernelspec": {
   "display_name": "Python 3",
   "language": "python",
   "name": "python3"
  },
  "language_info": {
   "codemirror_mode": {
    "name": "ipython",
    "version": 3
   },
   "file_extension": ".py",
   "mimetype": "text/x-python",
   "name": "python",
   "nbconvert_exporter": "python",
   "pygments_lexer": "ipython3",
   "version": "3.6.7"
  }
 },
 "nbformat": 4,
 "nbformat_minor": 5
}
