{
 "cells": [
  {
   "cell_type": "markdown",
   "metadata": {},
   "source": [
    "# Workflow 1 - extract features from the trajectory\n",
    "\n",
    "**Input:** reference PDB and trajectory\n",
    "\n",
    "\n",
    "**Output:** featurized trajectory\n",
    "<hr>\n",
    "Steps:\n",
    "\n",
    "1. Load reference PDB and trajectory in the EnGen object\n",
    "3. Provide set of featurizations of interest (or use default)\n",
    "4. Evaluate different featurization (optional)\n",
    "5. Choose the best featurization\n",
    "6. Extract those features"
   ]
  },
  {
   "cell_type": "code",
   "execution_count": null,
   "metadata": {
    "scrolled": true
   },
   "outputs": [],
   "source": [
    "# required imports \n",
    "from engens.core.EnGens import *\n",
    "import engens.core.FeatureSelector as fs\n",
    "import pickle\n",
    "import mdshare\n",
    "import mdtraj\n",
    "import numpy as np\n",
    "import nglview\n",
    "from IPython.display import Javascript, display\n",
    "import json"
   ]
  },
  {
   "cell_type": "markdown",
   "metadata": {},
   "source": [
    "### Step 1 - load the structure and trajectory\n",
    "\n",
    "Provide the path to the files with the reference trajectory and topology.\n",
    "(You can use any format that <a fref = https://mdtraj.org/1.9.4/api/generated/mdtraj.load.html> mdtraj.load </a> will take as input).\n",
    "\n",
    "Optionally, provide a subset of the structure that you will use for featurization (e.g. binding site) as a <a href=https://mdtraj.org/1.9.4/atom_selection.html> atom selection string </a> or a list of atom indices.\n"
   ]
  },
  {
   "cell_type": "code",
   "execution_count": null,
   "metadata": {},
   "outputs": [],
   "source": [
    "# If you do not have trajectories of your own you can fetch this pentapeptide example \n",
    "# or any other example from mdshare platform: https://markovmodel.github.io/mdshare/\n",
    "\n",
    "pdb = mdshare.fetch('pentapeptide-impl-solv.pdb', working_directory='.')\n",
    "files = mdshare.fetch('pentapeptide-00-500ns-impl-solv.xtc', working_directory='.')"
   ]
  },
  {
   "cell_type": "code",
   "execution_count": null,
   "metadata": {
    "scrolled": true,
    "tags": []
   },
   "outputs": [],
   "source": [
    "# Location of trajectory and topology files\n",
    "# (you can specify your own files here)\n",
    "top_loc = 'pentapeptide-impl-solv.pdb'\n",
    "traj_loc = 'pentapeptide-00-500ns-impl-solv.xtc'\n",
    "\n",
    "#Instrantiate the engens object\n",
    "\n",
    "#------------------------four options----------------------------#\n",
    "#-----you can uncomment any option that you would like to try-----#\n",
    "\n",
    "#Option 1 - load the full trajectory as a EnGen object \n",
    "\n",
    "#load full trajectory\n",
    "'''\n",
    "engen = EnGen(traj_loc, top_loc)\n",
    "'''\n",
    "\n",
    "# you can align the input trajectory by specifying the align flag to be true:\n",
    "# engen = EnGen(traj_loc, top_loc, align = True)\n",
    "\n",
    "\n",
    "\n",
    "#Option 2 - load a part of the trajectory by specifying a list of atoms of interest (binding site)\n",
    "#for example - first 10 atoms of the structure\n",
    "'''\n",
    "#load first 10 atoms of the trajectory\n",
    "N = 10\n",
    "select_list = [i for i in range(N)]\n",
    "engen = EnGen(traj_loc, top_loc, select_list)\n",
    "'''\n",
    "\n",
    "#Option 3 - load a part of the trajectory by specifying a selection string (binding site)\n",
    "#using atom selection format https://mdtraj.org/1.9.4/atom_selection.html\n",
    "#for example - you can specify residues with id 1, 2, 3 \n",
    "'''\n",
    "#load residues 1,2,3 of the trajectory\n",
    "binding_site_selstr = \"resid 1 or resid 2 or resid 3\"\n",
    "engen = EnGen(traj_loc, top_loc, binding_site_selstr)\n",
    "'''\n",
    "\n",
    "#Option 4 - load a part of the trajectory by selecting residues/atoms interactively\n",
    "# press CTRL and hover over the residues of interest to select them\n",
    "# press SHIFT and hover over residues to unselect them\n",
    "# to delete the selection input text \"none\" \n",
    "# into the filter for selection on the right side of the menu\n",
    "nglwidget = select_residues_nglview(top_loc)\n",
    "nglwidget"
   ]
  },
  {
   "cell_type": "code",
   "execution_count": null,
   "metadata": {},
   "outputs": [],
   "source": [
    "## Option 4 - continue selection 1\n",
    "selection = None\n",
    "display(Javascript(js_script))"
   ]
  },
  {
   "cell_type": "code",
   "execution_count": null,
   "metadata": {},
   "outputs": [],
   "source": [
    "## Option 4 - continue selection 2\n",
    "binding_site_selstr = get_selstring(selection)\n",
    "#binding_site_selstr = \"(10 <= resid) and (resid <= 50)\" \n",
    "engen = EnGen(traj_loc, top_loc, binding_site_selstr, align = True)\n",
    "\n",
    "#------------------------end of options----------------------------#"
   ]
  },
  {
   "cell_type": "code",
   "execution_count": null,
   "metadata": {},
   "outputs": [],
   "source": [
    "\n",
    "#visualize the trajectory (optional - if trajectory too large, skip this step)\n",
    "nglwidget = engen.show_animated_traj()\n",
    "nglwidget.clear_representations()\n",
    "nglwidget.add_ball_and_stick()\n",
    "nglwidget.center()\n",
    "nglwidget"
   ]
  },
  {
   "cell_type": "markdown",
   "metadata": {},
   "source": [
    "### Step 2 - select different featurizations\n",
    "\n",
    "Here we select ways to featurize the trajectory. Any PyEmma <a href = http://www.emma-project.org/latest/api/generated/pyemma.coordinates.featurizer.html> trajectory featurization </a> can be used in this step and any of the parameters of the respective featurizations can be provided. Users can also use the default initialization which includes three sets of features: (1) amino-acid pairwise distances; (2) torsion angles and (3) amino-acid pairwise distances with the torsion angels."
   ]
  },
  {
   "cell_type": "code",
   "execution_count": null,
   "metadata": {},
   "outputs": [],
   "source": [
    "# Select the featurization for EnGens\n",
    "# (this step is performed on the selection you loaded above)\n",
    "\n",
    "#------------------------two options----------------------------#\n",
    "#-----you can uncomment any option that you would like to try-----#\n",
    "\n",
    "# Option 1 - extract the default features \n",
    "# ~~~~~~~~~~~~~~~~~~~~~~~~~~~~~~~~~~~~~~~~~ #\n",
    "# in this case the three default featurizations  will be added to engen object: \n",
    "# (1) aadist, (2) tangle and (3) aadist&tangle\n",
    "# ~~~~~~~~~~~~~~~~~~~~~~~~~~~~~~~~~~~~~~~~~~ #\n",
    "\n",
    "\n",
    "# remove any existing featurizers\n",
    "engen.reset_featurizers()\n",
    "\n",
    "# initialize default features \n",
    "#engen.init_featurizers_default()\n",
    "\n",
    "\n",
    "# Option 2 - define the features you want to add on your own \n",
    "# ~~~~~~~~~~~~~~~~~~~~~~~~~~~~~~~~~~~~~~~~~ #\n",
    "# using any of the available featurizationswith PyEmma \n",
    "# http://www.emma-project.org/latest/api/generated/pyemma.coordinates.featurizer.html\n",
    "# with coresponding parameters\n",
    "# in this example we add three featurizations to the engen object: \n",
    "# (1) all-atoms, (2) C-alpha distances, (3) center-of-mass (COM) & tangles\n",
    "# ~~~~~~~~~~~~~~~~~~~~~~~~~~~~~~~~~~~~~~~~~ #\n",
    "\n",
    "\n",
    "# remove any existing featurizers\n",
    "\n",
    "engen.reset_featurizers()\n",
    "\n",
    "#all-atoms\n",
    "feat1 = {\n",
    "    \"add_sidechain_torsions\": {}\n",
    "}\n",
    "#add the respective features to the engen structure\n",
    "engen.add_featurizer(feat1)\n",
    "\n",
    "#C-alpha distances\n",
    "feat2 = {\n",
    "    \"add_backbone_torsions\": {\"cossin\":True, \"periodic\":False}\n",
    "}\n",
    "#add the respective features to the engen structure\n",
    "engen.add_featurizer(feat2)\n",
    "\n",
    "#center of mass and torsion angles\n",
    "feat3 = {\n",
    "    \"add_residue_COM\": {\"residue_indices\": [0, 1,2]},\n",
    "    \"add_distances_ca\": {\"periodic\":True, \"excluded_neighbors\":0}\n",
    "}\n",
    "#add the respective features to the engen structure\n",
    "engen.add_featurizer(feat3)\n",
    "\n",
    "\n",
    "\n",
    "#------------------------end of options----------------------------#\n",
    "\n",
    "# print the desctiption of the default features\n",
    "description = engen.describe_featurizers()\n",
    "print(description)"
   ]
  },
  {
   "cell_type": "markdown",
   "metadata": {},
   "source": [
    "### Step 3 - evaluate the featurizations\n",
    "\n",
    "This step is optional - we recommend evaluating the featurizations and picking the best using PyEmma's implementation of <a href=http://www.emma-project.org/latest/tutorials/notebooks/00-pentapeptide-showcase.html#Feature-selection> VAMP approach </a>.\n",
    "\n",
    "This helps you choose a set of features with which to proceed to the next Workflow."
   ]
  },
  {
   "cell_type": "code",
   "execution_count": null,
   "metadata": {},
   "outputs": [],
   "source": [
    "\n",
    "#provide a range of lags and dimensions to train on\n",
    "\n",
    "#to make an informed decision on lag times see the timescale of your simulation\n",
    "traj_times = mdtraj.load(engen.traj, top=engen.ref).time\n",
    "#number of frames\n",
    "traj_nframes = len(traj_times)\n",
    "lags = [int(np.log(i)) for i in np.logspace(100, int(traj_nframes/50), num=3, base=np.e)]\n",
    "dims = [i + 1 for i in range(1,3)]\n",
    "\n",
    "#initialize VAMP2 featurizer and run it\n",
    "featsel = fs.VAMP2FeatureSelection(lags, dims, engen)\n",
    "featsel.run_vamp()\n",
    "\n",
    "#plot VAMP2 results\n",
    "featsel.plot_results()"
   ]
  },
  {
   "cell_type": "markdown",
   "metadata": {},
   "source": [
    "### Step 4 - pick the featurization\n",
    "\n",
    "We suggest using the featurization which gives you the highest VAMP2 score from the analysis above. To do so, run the cell below."
   ]
  },
  {
   "cell_type": "code",
   "execution_count": null,
   "metadata": {},
   "outputs": [],
   "source": [
    "# Select using the VAMP2 selector from above \n",
    "\n",
    "featsel.select_feature()\n",
    "\n",
    "\n",
    "# ~~~~~~~~~~~~~~~~~~~~~~~~~~~~~~~~~~ #\n",
    "# alternatively you can chose any feature regardless of the VAMP2 score by running the code commented here\n",
    "\n",
    "'''\n",
    "#apply features\n",
    "engen.apply_featurizations()\n",
    "#print possible features\n",
    "print(engen.describe_featurizers())\n",
    "#select the number of the desired feature\n",
    "feat_num = 1\n",
    "# initialize selector\n",
    "featsel = fs.UserFeatureSelection(feat_num, engen)\n",
    "#select the feature\n",
    "featsel.select_feature()\n",
    "'''\n",
    "# ~~~~~~~~~~~~~~~~~~~~~~~~~~~~~~~~ #\n",
    "print()"
   ]
  },
  {
   "cell_type": "markdown",
   "metadata": {},
   "source": [
    "### Step 5 - save the results as input for Workflow2 - dimensionality reduction"
   ]
  },
  {
   "cell_type": "code",
   "execution_count": null,
   "metadata": {},
   "outputs": [],
   "source": [
    "# save the results for next workflow\n",
    "\n",
    "with open(\"wf1_resulting_EnGen.pickle\", \"wb\") as file:\n",
    "    pickle.dump(engen, file, -1)"
   ]
  }
 ],
 "metadata": {
  "interpreter": {
   "hash": "d429d429aea2339123034138905f0cd1b56c1cbab1e9830e5564dfad92aaa54f"
  },
  "kernelspec": {
   "display_name": "Python 3",
   "language": "python",
   "name": "python3"
  },
  "language_info": {
   "codemirror_mode": {
    "name": "ipython",
    "version": 3
   },
   "file_extension": ".py",
   "mimetype": "text/x-python",
   "name": "python",
   "nbconvert_exporter": "python",
   "pygments_lexer": "ipython3",
   "version": "3.6.7"
  }
 },
 "nbformat": 4,
 "nbformat_minor": 4
}
