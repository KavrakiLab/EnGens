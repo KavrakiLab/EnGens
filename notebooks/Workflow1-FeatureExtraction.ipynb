{
 "cells": [
  {
   "cell_type": "markdown",
   "metadata": {},
   "source": [
    "# Workflow 1 - extract features from the trajectory\n",
    "\n",
    "**Input:** reference PDB and trajectory\n",
    "\n",
    "\n",
    "**Output:** featurized trajectory\n",
    "<hr>\n",
    "Steps:\n",
    "\n",
    "1. Load reference PDB and trajectory in the EnGen object\n",
    "3. Provide set of featurizations of interest (or use default)\n",
    "4. Evaluate different featurization (optional)\n",
    "5. Choose the best featurization\n",
    "6. Extract those features"
   ]
  },
  {
   "cell_type": "code",
   "execution_count": 1,
   "metadata": {
    "scrolled": true
   },
   "outputs": [
    {
     "data": {
      "application/vnd.jupyter.widget-view+json": {
       "model_id": "6ff4537d6a57405eb4d28ae6a5c36eed",
       "version_major": 2,
       "version_minor": 0
      },
      "text/plain": []
     },
     "metadata": {},
     "output_type": "display_data"
    }
   ],
   "source": [
    "# required imports \n",
    "from engens.core.EnGens import EnGen\n",
    "import engens.core.FeatureSelector as fs\n",
    "import pickle\n",
    "import mdshare\n",
    "import mdtraj"
   ]
  },
  {
   "cell_type": "markdown",
   "metadata": {},
   "source": [
    "### Step 1 - load the structure and trajectory\n",
    "\n",
    "Provide the path to the files with the reference trajectory and topology.\n",
    "(You can use any format that <a fref = https://mdtraj.org/1.9.4/api/generated/mdtraj.load.html> mdtraj.load </a> will take as input).\n",
    "\n",
    "Optionally, provide a subset of the structure that you will use for featurization (e.g. binding site) as a <a href=https://mdtraj.org/1.9.4/atom_selection.html> atom selection string </a> or a list of atom indices.\n"
   ]
  },
  {
   "cell_type": "code",
   "execution_count": 2,
   "metadata": {},
   "outputs": [],
   "source": [
    "# If you do not have trajectories of your own you can fetch this pentapeptide example \n",
    "# or any other example from mdshare platform: https://markovmodel.github.io/mdshare/\n",
    "\n",
    "pdb = mdshare.fetch('pentapeptide-impl-solv.pdb', working_directory='.')\n",
    "files = mdshare.fetch('pentapeptide-00-500ns-impl-solv.xtc', working_directory='.')"
   ]
  },
  {
   "cell_type": "code",
   "execution_count": 3,
   "metadata": {
    "collapsed": true,
    "scrolled": true
   },
   "outputs": [
    {
     "data": {
      "application/vnd.jupyter.widget-view+json": {
       "model_id": "774e3b0d4a214d548656d94a2a5aaa71",
       "version_major": 2,
       "version_minor": 0
      },
      "text/plain": [
       "NGLWidget(max_frame=5000)"
      ]
     },
     "metadata": {},
     "output_type": "display_data"
    },
    {
     "data": {
      "application/vnd.jupyter.widget-view+json": {
       "model_id": "75276265351348fc9ac898da38190102",
       "version_major": 2,
       "version_minor": 0
      },
      "text/plain": [
       "Tab(children=(Box(children=(Box(children=(Box(children=(Label(value='step'), IntSlider(value=1, min=-100)), la…"
      ]
     },
     "metadata": {},
     "output_type": "display_data"
    }
   ],
   "source": [
    "# Location of trajectory and topology files\n",
    "# (you can specify your own files here)\n",
    "top_loc = \"./pentapeptide-impl-solv.pdb\"\n",
    "traj_loc = \"./pentapeptide-00-500ns-impl-solv.xtc\"\n",
    "\n",
    "#Instrantiate the engens object\n",
    "\n",
    "#------------------------three options----------------------------#\n",
    "#-----you can uncomment any option that you would like to try-----#\n",
    "\n",
    "#Option 1 - load the full trajectory as a EnGen object \n",
    "'''\n",
    "#load full trajectory\n",
    "engen = EnGen(traj_loc, top_loc)\n",
    "'''\n",
    "\n",
    "#Option 2 - load a part of the trajectory by specifying a list of atoms of interest (binding site)\n",
    "#for example - first 10 atoms of the structure\n",
    "'''\n",
    "#load first 10 atoms of the trajectory\n",
    "N = 10\n",
    "select_list = [i for i in range(N)]\n",
    "engen = EnGen(traj_loc, top_loc, select_list)\n",
    "'''\n",
    "\n",
    "#Option 3 - load a part of the trajectory by specifying a selection string (binding site)\n",
    "#using atom selection format https://mdtraj.org/1.9.4/atom_selection.html\n",
    "#for example - you can specify residues with id 1, 2, 3 \n",
    "'''\n",
    "#load residues 1,2,3 of the trajectory\n",
    "binding_site_selstr = \"resid 1 or resid 2 or resid 3\"\n",
    "engen = EnGen(traj_loc, top_loc, binding_site_selstr)\n",
    "'''\n",
    "\n",
    "#------------------------end of options----------------------------#\n",
    "\n",
    "#visualize the trajectory (optional - if trajectory too large, skip this step)\n",
    "nglwidget = engen.show_animated_traj()\n",
    "\n",
    "nglwidget"
   ]
  },
  {
   "cell_type": "markdown",
   "metadata": {},
   "source": [
    "### Step 2 - select different featurizations\n",
    "\n",
    "Here we select ways to featurize the trajectory. Any PyEmma <a href = http://www.emma-project.org/latest/api/generated/pyemma.coordinates.featurizer.html> trajectory featurization </a> can be used in this step and any of the parameters of the respective featurizations can be provided. Users can also use the default initialization which includes three sets of features: (1) amino-acid pairwise distances; (2) torsion angles and (3) amino-acid pairwise distances with the torsion angels."
   ]
  },
  {
   "cell_type": "code",
   "execution_count": 4,
   "metadata": {},
   "outputs": [
    {
     "name": "stdout",
     "output_type": "stream",
     "text": [
      "Featurizer no. 0:\n",
      " all\n",
      "['ATOM:TRP 1 N 0 x', 'ATOM:TRP 1 N 0 y', 'ATOM:TRP 1 N 0 z', 'ATOM:TRP 1 H 1 x', 'ATOM:TRP 1 H 1 y', 'ATOM:TRP 1 H 1 z', 'ATOM:TRP 1 H2 2 x', 'ATOM:TRP 1 H2 2 y', 'ATOM:TRP 1 H2 2 z', 'ATOM:TRP 1 CA 3 x']...['ATOM:LEU 5 C 90 z', 'ATOM:LEU 5 O 91 x', 'ATOM:LEU 5 O 91 y', 'ATOM:LEU 5 O 91 z', 'ATOM:LEU 5 OXT 92 x', 'ATOM:LEU 5 OXT 92 y', 'ATOM:LEU 5 OXT 92 z', 'ATOM:LEU 5 H2 93 x', 'ATOM:LEU 5 H2 93 y', 'ATOM:LEU 5 H2 93 z']\n",
      " Featurizer no. 1:\n",
      " distances_ca\n",
      "['DIST: TRP 1 CA 3 - LEU 2 CA 27', 'DIST: TRP 1 CA 3 - ALA 3 CA 46', 'DIST: TRP 1 CA 3 - LEU 4 CA 56', 'DIST: TRP 1 CA 3 - LEU 5 CA 75', 'DIST: LEU 2 CA 27 - ALA 3 CA 46', 'DIST: LEU 2 CA 27 - LEU 4 CA 56', 'DIST: LEU 2 CA 27 - LEU 5 CA 75', 'DIST: ALA 3 CA 46 - LEU 4 CA 56', 'DIST: ALA 3 CA 46 - LEU 5 CA 75', 'DIST: LEU 4 CA 56 - LEU 5 CA 75']...['DIST: TRP 1 CA 3 - LEU 2 CA 27', 'DIST: TRP 1 CA 3 - ALA 3 CA 46', 'DIST: TRP 1 CA 3 - LEU 4 CA 56', 'DIST: TRP 1 CA 3 - LEU 5 CA 75', 'DIST: LEU 2 CA 27 - ALA 3 CA 46', 'DIST: LEU 2 CA 27 - LEU 4 CA 56', 'DIST: LEU 2 CA 27 - LEU 5 CA 75', 'DIST: ALA 3 CA 46 - LEU 4 CA 56', 'DIST: ALA 3 CA 46 - LEU 5 CA 75', 'DIST: LEU 4 CA 56 - LEU 5 CA 75']\n",
      " Featurizer no. 2:\n",
      " residue_COM&backbone_torsions\n",
      "['LEU2 COM-x (all)', 'LEU2 COM-y (all)', 'LEU2 COM-z (all)', 'ALA3 COM-x (all)', 'ALA3 COM-y (all)', 'ALA3 COM-z (all)', 'LEU4 COM-x (all)', 'LEU4 COM-y (all)', 'LEU4 COM-z (all)', 'COS(PHI 0 LEU 2)']...['COS(PSI 0 LEU 2)', 'SIN(PSI 0 LEU 2)', 'COS(PHI 0 LEU 4)', 'SIN(PHI 0 LEU 4)', 'COS(PSI 0 ALA 3)', 'SIN(PSI 0 ALA 3)', 'COS(PHI 0 LEU 5)', 'SIN(PHI 0 LEU 5)', 'COS(PSI 0 LEU 4)', 'SIN(PSI 0 LEU 4)']\n",
      " \n"
     ]
    }
   ],
   "source": [
    "# Select the featurization for EnGens\n",
    "# (this step is performed on the selection you loaded above)\n",
    "\n",
    "#------------------------two options----------------------------#\n",
    "#-----you can uncomment any option that you would like to try-----#\n",
    "\n",
    "# Option 1 - extract the default features \n",
    "# ~~~~~~~~~~~~~~~~~~~~~~~~~~~~~~~~~~~~~~~~~ #\n",
    "# in this case the three default featurizations  will be added to engen object: \n",
    "# (1) aadist, (2) tangle and (3) aadist&tangle\n",
    "# ~~~~~~~~~~~~~~~~~~~~~~~~~~~~~~~~~~~~~~~~~~ #\n",
    "\n",
    "'''\n",
    "# remove any existing featurizers\n",
    "engen.reset_featurizers()\n",
    "\n",
    "# initialize default features \n",
    "engen.init_featurizers_default()\n",
    "'''\n",
    "\n",
    "# Option 2 - define the features you want to add on your own \n",
    "# ~~~~~~~~~~~~~~~~~~~~~~~~~~~~~~~~~~~~~~~~~ #\n",
    "# using any of the available featurizationswith PyEmma \n",
    "# http://www.emma-project.org/latest/api/generated/pyemma.coordinates.featurizer.html\n",
    "# with coresponding parameters\n",
    "# in this example we add three featurizations to the engen object: \n",
    "# (1) all-atoms, (2) C-alpha distances, (3) center-of-mass (COM) & tangles\n",
    "# ~~~~~~~~~~~~~~~~~~~~~~~~~~~~~~~~~~~~~~~~~ #\n",
    "\n",
    "'''\n",
    "# remove any existing featurizers\n",
    "engen.reset_featurizers()\n",
    "\n",
    "#all-atoms\n",
    "feat1 = {\n",
    "    \"add_all\": {}\n",
    "}\n",
    "#add the respective features to the engen structure\n",
    "engen.add_featurizer(feat1)\n",
    "\n",
    "#C-alpha distances\n",
    "feat2 = {\n",
    "    \"add_distances_ca\": {\"periodic\":True, \"excluded_neighbors\":0}\n",
    "}\n",
    "#add the respective features to the engen structure\n",
    "engen.add_featurizer(feat2)\n",
    "\n",
    "#center of mass and torsion angles\n",
    "feat3 = {\n",
    "    \"add_residue_COM\": {\"residue_indices\": [1,2,3]},\n",
    "    \"add_backbone_torsions\": {\"cossin\":True, \"periodic\":False}\n",
    "}\n",
    "#add the respective features to the engen structure\n",
    "engen.add_featurizer(feat3)\n",
    "'''\n",
    "\n",
    "#------------------------end of options----------------------------#\n",
    "\n",
    "# print the desctiption of the default features\n",
    "description = engen.describe_featurizers()\n",
    "print(description)"
   ]
  },
  {
   "cell_type": "markdown",
   "metadata": {},
   "source": [
    "### Step 3 - evaluate the featurizations\n",
    "\n",
    "This step is optional - we recommend evaluating the featurizations and picking the best using PyEmma's implementation of <a href=http://www.emma-project.org/latest/tutorials/notebooks/00-pentapeptide-showcase.html#Feature-selection> VAMP approach </a>.\n",
    "\n",
    "This helps you choose a set of features with which to proceed to the next Workflow."
   ]
  },
  {
   "cell_type": "code",
   "execution_count": 14,
   "metadata": {},
   "outputs": [
    {
     "name": "stdout",
     "output_type": "stream",
     "text": [
      "Choosing features with VAMP might take some time...\n",
      "Running VAMP with different parameters. Might take some time.\n",
      "dimension =2, lag=50\n",
      "dimension =2, lag=500\n",
      "dimension =2, lag=1667\n",
      "dimension =2, lag=2500\n",
      "dimension =3, lag=50\n",
      "dimension =3, lag=500\n",
      "dimension =3, lag=1667\n",
      "dimension =3, lag=2500\n"
     ]
    },
    {
     "name": "stderr",
     "output_type": "stream",
     "text": [
      "/usr/local/lib/python3.6/site-packages/engens/core/FeatureSelector.py:123: UserWarning: FixedFormatter should only be used together with FixedLocator\n",
      "  axes[i][j].set_xticklabels(names, rotation=30)\n"
     ]
    },
    {
     "data": {
      "image/png": "[encoded data removed]",
      "text/plain": [
       "<Figure size 1152x432 with 8 Axes>"
      ]
     },
     "metadata": {
      "needs_background": "light"
     },
     "output_type": "display_data"
    }
   ],
   "source": [
    "\n",
    "#provide a range of lags and dimensions to train on\n",
    "\n",
    "#to make an informed decision on lag times see the timescale of your simulation\n",
    "traj_times = mdtraj.load(engen.traj, top=engen.ref).time\n",
    "#number of frames\n",
    "traj_nframes = len(traj_times)\n",
    "lags = [int(traj_nframes/100), int(traj_nframes/10),int(traj_nframes/3), int(traj_nframes/2)]\n",
    "dims = [i + 1 for i in range(1,3)]\n",
    "\n",
    "#initialize VAMP2 featurizer and run it\n",
    "featsel = fs.VAMP2FeatureSelection(lags, dims, engen)\n",
    "featsel.run_vamp()\n",
    "\n",
    "#plot VAMP2 results\n",
    "featsel.plot_results()"
   ]
  },
  {
   "cell_type": "markdown",
   "metadata": {},
   "source": [
    "### Step 4 - pick the featurization\n",
    "\n",
    "We suggest using the featurization which gives you the highest VAMP2 score from the analysis above. To do so, run the cell below."
   ]
  },
  {
   "cell_type": "code",
   "execution_count": 15,
   "metadata": {},
   "outputs": [
    {
     "name": "stdout",
     "output_type": "stream",
     "text": [
      "Choosing features with VAMP might take some time...\n",
      "Using recycled VAMP2 scores.\n",
      "Picked featurized no. 0: all\n",
      "With maximum VAMP2 score no. 0\n",
      "['ATOM:TRP 1 N 0 x', 'ATOM:TRP 1 N 0 y', 'ATOM:TRP 1 N 0 z', 'ATOM:TRP 1 H 1 x', 'ATOM:TRP 1 H 1 y', 'ATOM:TRP 1 H 1 z', 'ATOM:TRP 1 H2 2 x', 'ATOM:TRP 1 H2 2 y', 'ATOM:TRP 1 H2 2 z', 'ATOM:TRP 1 CA 3 x', 'ATOM:TRP 1 CA 3 y', 'ATOM:TRP 1 CA 3 z', 'ATOM:TRP 1 HA 4 x', 'ATOM:TRP 1 HA 4 y', 'ATOM:TRP 1 HA 4 z', 'ATOM:TRP 1 CB 5 x', 'ATOM:TRP 1 CB 5 y', 'ATOM:TRP 1 CB 5 z', 'ATOM:TRP 1 HB3 6 x', 'ATOM:TRP 1 HB3 6 y', 'ATOM:TRP 1 HB3 6 z', 'ATOM:TRP 1 HB2 7 x', 'ATOM:TRP 1 HB2 7 y', 'ATOM:TRP 1 HB2 7 z', 'ATOM:TRP 1 CG 8 x', 'ATOM:TRP 1 CG 8 y', 'ATOM:TRP 1 CG 8 z', 'ATOM:TRP 1 CD1 9 x', 'ATOM:TRP 1 CD1 9 y', 'ATOM:TRP 1 CD1 9 z', 'ATOM:TRP 1 HD1 10 x', 'ATOM:TRP 1 HD1 10 y', 'ATOM:TRP 1 HD1 10 z', 'ATOM:TRP 1 NE1 11 x', 'ATOM:TRP 1 NE1 11 y', 'ATOM:TRP 1 NE1 11 z', 'ATOM:TRP 1 HE1 12 x', 'ATOM:TRP 1 HE1 12 y', 'ATOM:TRP 1 HE1 12 z', 'ATOM:TRP 1 CE2 13 x', 'ATOM:TRP 1 CE2 13 y', 'ATOM:TRP 1 CE2 13 z', 'ATOM:TRP 1 CD2 14 x', 'ATOM:TRP 1 CD2 14 y', 'ATOM:TRP 1 CD2 14 z', 'ATOM:TRP 1 CE3 15 x', 'ATOM:TRP 1 CE3 15 y', 'ATOM:TRP 1 CE3 15 z', 'ATOM:TRP 1 HE3 16 x', 'ATOM:TRP 1 HE3 16 y', 'ATOM:TRP 1 HE3 16 z', 'ATOM:TRP 1 CZ3 17 x', 'ATOM:TRP 1 CZ3 17 y', 'ATOM:TRP 1 CZ3 17 z', 'ATOM:TRP 1 HZ3 18 x', 'ATOM:TRP 1 HZ3 18 y', 'ATOM:TRP 1 HZ3 18 z', 'ATOM:TRP 1 CZ2 19 x', 'ATOM:TRP 1 CZ2 19 y', 'ATOM:TRP 1 CZ2 19 z', 'ATOM:TRP 1 HZ2 20 x', 'ATOM:TRP 1 HZ2 20 y', 'ATOM:TRP 1 HZ2 20 z', 'ATOM:TRP 1 CH2 21 x', 'ATOM:TRP 1 CH2 21 y', 'ATOM:TRP 1 CH2 21 z', 'ATOM:TRP 1 HH2 22 x', 'ATOM:TRP 1 HH2 22 y', 'ATOM:TRP 1 HH2 22 z', 'ATOM:TRP 1 C 23 x', 'ATOM:TRP 1 C 23 y', 'ATOM:TRP 1 C 23 z', 'ATOM:TRP 1 O 24 x', 'ATOM:TRP 1 O 24 y', 'ATOM:TRP 1 O 24 z', 'ATOM:LEU 2 N 25 x', 'ATOM:LEU 2 N 25 y', 'ATOM:LEU 2 N 25 z', 'ATOM:LEU 2 H 26 x', 'ATOM:LEU 2 H 26 y', 'ATOM:LEU 2 H 26 z', 'ATOM:LEU 2 CA 27 x', 'ATOM:LEU 2 CA 27 y', 'ATOM:LEU 2 CA 27 z', 'ATOM:LEU 2 HA 28 x', 'ATOM:LEU 2 HA 28 y', 'ATOM:LEU 2 HA 28 z', 'ATOM:LEU 2 CB 29 x', 'ATOM:LEU 2 CB 29 y', 'ATOM:LEU 2 CB 29 z', 'ATOM:LEU 2 HB3 30 x', 'ATOM:LEU 2 HB3 30 y', 'ATOM:LEU 2 HB3 30 z', 'ATOM:LEU 2 HB2 31 x', 'ATOM:LEU 2 HB2 31 y', 'ATOM:LEU 2 HB2 31 z', 'ATOM:LEU 2 CG 32 x', 'ATOM:LEU 2 CG 32 y', 'ATOM:LEU 2 CG 32 z', 'ATOM:LEU 2 HG 33 x', 'ATOM:LEU 2 HG 33 y', 'ATOM:LEU 2 HG 33 z', 'ATOM:LEU 2 CD1 34 x', 'ATOM:LEU 2 CD1 34 y', 'ATOM:LEU 2 CD1 34 z', 'ATOM:LEU 2 HD11 35 x', 'ATOM:LEU 2 HD11 35 y', 'ATOM:LEU 2 HD11 35 z', 'ATOM:LEU 2 HD12 36 x', 'ATOM:LEU 2 HD12 36 y', 'ATOM:LEU 2 HD12 36 z', 'ATOM:LEU 2 HD13 37 x', 'ATOM:LEU 2 HD13 37 y', 'ATOM:LEU 2 HD13 37 z', 'ATOM:LEU 2 CD2 38 x', 'ATOM:LEU 2 CD2 38 y', 'ATOM:LEU 2 CD2 38 z', 'ATOM:LEU 2 HD21 39 x', 'ATOM:LEU 2 HD21 39 y', 'ATOM:LEU 2 HD21 39 z', 'ATOM:LEU 2 HD22 40 x', 'ATOM:LEU 2 HD22 40 y', 'ATOM:LEU 2 HD22 40 z', 'ATOM:LEU 2 HD23 41 x', 'ATOM:LEU 2 HD23 41 y', 'ATOM:LEU 2 HD23 41 z', 'ATOM:LEU 2 C 42 x', 'ATOM:LEU 2 C 42 y', 'ATOM:LEU 2 C 42 z', 'ATOM:LEU 2 O 43 x', 'ATOM:LEU 2 O 43 y', 'ATOM:LEU 2 O 43 z', 'ATOM:ALA 3 N 44 x', 'ATOM:ALA 3 N 44 y', 'ATOM:ALA 3 N 44 z', 'ATOM:ALA 3 H 45 x', 'ATOM:ALA 3 H 45 y', 'ATOM:ALA 3 H 45 z', 'ATOM:ALA 3 CA 46 x', 'ATOM:ALA 3 CA 46 y', 'ATOM:ALA 3 CA 46 z', 'ATOM:ALA 3 HA 47 x', 'ATOM:ALA 3 HA 47 y', 'ATOM:ALA 3 HA 47 z', 'ATOM:ALA 3 CB 48 x', 'ATOM:ALA 3 CB 48 y', 'ATOM:ALA 3 CB 48 z', 'ATOM:ALA 3 HB1 49 x', 'ATOM:ALA 3 HB1 49 y', 'ATOM:ALA 3 HB1 49 z', 'ATOM:ALA 3 HB2 50 x', 'ATOM:ALA 3 HB2 50 y', 'ATOM:ALA 3 HB2 50 z', 'ATOM:ALA 3 HB3 51 x', 'ATOM:ALA 3 HB3 51 y', 'ATOM:ALA 3 HB3 51 z', 'ATOM:ALA 3 C 52 x', 'ATOM:ALA 3 C 52 y', 'ATOM:ALA 3 C 52 z', 'ATOM:ALA 3 O 53 x', 'ATOM:ALA 3 O 53 y', 'ATOM:ALA 3 O 53 z', 'ATOM:LEU 4 N 54 x', 'ATOM:LEU 4 N 54 y', 'ATOM:LEU 4 N 54 z', 'ATOM:LEU 4 H 55 x', 'ATOM:LEU 4 H 55 y', 'ATOM:LEU 4 H 55 z', 'ATOM:LEU 4 CA 56 x', 'ATOM:LEU 4 CA 56 y', 'ATOM:LEU 4 CA 56 z', 'ATOM:LEU 4 HA 57 x', 'ATOM:LEU 4 HA 57 y', 'ATOM:LEU 4 HA 57 z', 'ATOM:LEU 4 CB 58 x', 'ATOM:LEU 4 CB 58 y', 'ATOM:LEU 4 CB 58 z', 'ATOM:LEU 4 HB3 59 x', 'ATOM:LEU 4 HB3 59 y', 'ATOM:LEU 4 HB3 59 z', 'ATOM:LEU 4 HB2 60 x', 'ATOM:LEU 4 HB2 60 y', 'ATOM:LEU 4 HB2 60 z', 'ATOM:LEU 4 CG 61 x', 'ATOM:LEU 4 CG 61 y', 'ATOM:LEU 4 CG 61 z', 'ATOM:LEU 4 HG 62 x', 'ATOM:LEU 4 HG 62 y', 'ATOM:LEU 4 HG 62 z', 'ATOM:LEU 4 CD1 63 x', 'ATOM:LEU 4 CD1 63 y', 'ATOM:LEU 4 CD1 63 z', 'ATOM:LEU 4 HD11 64 x', 'ATOM:LEU 4 HD11 64 y', 'ATOM:LEU 4 HD11 64 z', 'ATOM:LEU 4 HD12 65 x', 'ATOM:LEU 4 HD12 65 y', 'ATOM:LEU 4 HD12 65 z', 'ATOM:LEU 4 HD13 66 x', 'ATOM:LEU 4 HD13 66 y', 'ATOM:LEU 4 HD13 66 z', 'ATOM:LEU 4 CD2 67 x', 'ATOM:LEU 4 CD2 67 y', 'ATOM:LEU 4 CD2 67 z', 'ATOM:LEU 4 HD21 68 x', 'ATOM:LEU 4 HD21 68 y', 'ATOM:LEU 4 HD21 68 z', 'ATOM:LEU 4 HD22 69 x', 'ATOM:LEU 4 HD22 69 y', 'ATOM:LEU 4 HD22 69 z', 'ATOM:LEU 4 HD23 70 x', 'ATOM:LEU 4 HD23 70 y', 'ATOM:LEU 4 HD23 70 z', 'ATOM:LEU 4 C 71 x', 'ATOM:LEU 4 C 71 y', 'ATOM:LEU 4 C 71 z', 'ATOM:LEU 4 O 72 x', 'ATOM:LEU 4 O 72 y', 'ATOM:LEU 4 O 72 z', 'ATOM:LEU 5 N 73 x', 'ATOM:LEU 5 N 73 y', 'ATOM:LEU 5 N 73 z', 'ATOM:LEU 5 H 74 x', 'ATOM:LEU 5 H 74 y', 'ATOM:LEU 5 H 74 z', 'ATOM:LEU 5 CA 75 x', 'ATOM:LEU 5 CA 75 y', 'ATOM:LEU 5 CA 75 z', 'ATOM:LEU 5 HA 76 x', 'ATOM:LEU 5 HA 76 y', 'ATOM:LEU 5 HA 76 z', 'ATOM:LEU 5 CB 77 x', 'ATOM:LEU 5 CB 77 y', 'ATOM:LEU 5 CB 77 z', 'ATOM:LEU 5 HB3 78 x', 'ATOM:LEU 5 HB3 78 y', 'ATOM:LEU 5 HB3 78 z', 'ATOM:LEU 5 HB2 79 x', 'ATOM:LEU 5 HB2 79 y', 'ATOM:LEU 5 HB2 79 z', 'ATOM:LEU 5 CG 80 x', 'ATOM:LEU 5 CG 80 y', 'ATOM:LEU 5 CG 80 z', 'ATOM:LEU 5 HG 81 x', 'ATOM:LEU 5 HG 81 y', 'ATOM:LEU 5 HG 81 z', 'ATOM:LEU 5 CD1 82 x', 'ATOM:LEU 5 CD1 82 y', 'ATOM:LEU 5 CD1 82 z', 'ATOM:LEU 5 HD11 83 x', 'ATOM:LEU 5 HD11 83 y', 'ATOM:LEU 5 HD11 83 z', 'ATOM:LEU 5 HD12 84 x', 'ATOM:LEU 5 HD12 84 y', 'ATOM:LEU 5 HD12 84 z', 'ATOM:LEU 5 HD13 85 x', 'ATOM:LEU 5 HD13 85 y', 'ATOM:LEU 5 HD13 85 z', 'ATOM:LEU 5 CD2 86 x', 'ATOM:LEU 5 CD2 86 y', 'ATOM:LEU 5 CD2 86 z', 'ATOM:LEU 5 HD21 87 x', 'ATOM:LEU 5 HD21 87 y', 'ATOM:LEU 5 HD21 87 z', 'ATOM:LEU 5 HD22 88 x', 'ATOM:LEU 5 HD22 88 y', 'ATOM:LEU 5 HD22 88 z', 'ATOM:LEU 5 HD23 89 x', 'ATOM:LEU 5 HD23 89 y', 'ATOM:LEU 5 HD23 89 z', 'ATOM:LEU 5 C 90 x', 'ATOM:LEU 5 C 90 y', 'ATOM:LEU 5 C 90 z', 'ATOM:LEU 5 O 91 x', 'ATOM:LEU 5 O 91 y', 'ATOM:LEU 5 O 91 z', 'ATOM:LEU 5 OXT 92 x', 'ATOM:LEU 5 OXT 92 y', 'ATOM:LEU 5 OXT 92 z', 'ATOM:LEU 5 H2 93 x', 'ATOM:LEU 5 H2 93 y', 'ATOM:LEU 5 H2 93 z']\n",
      "\n"
     ]
    }
   ],
   "source": [
    "# Select using the VAMP2 selector from above \n",
    "\n",
    "featsel.select_feature()\n",
    "\n",
    "# ~~~~~~~~~~~~~~~~~~~~~~~~~~~~~~~~~~ #\n",
    "# alternatively you can chose any feature regardless of the VAMP2 score by running the code commented here\n",
    "\n",
    "'''\n",
    "#print possible features\n",
    "print(engen.describe_featurizers())\n",
    "#select the number of the desired feature\n",
    "feat_num = 1\n",
    "# initialize selector\n",
    "featsel = fs.UserFeatureSelection(feat_num, engen)\n",
    "#select the feature\n",
    "featsel.select_feature()\n",
    "'''\n",
    "# ~~~~~~~~~~~~~~~~~~~~~~~~~~~~~~~~ #\n",
    "print()"
   ]
  },
  {
   "cell_type": "markdown",
   "metadata": {},
   "source": [
    "### Step 5 - save the results as input for Workflow2 - dimensionality reduction"
   ]
  },
  {
   "cell_type": "code",
   "execution_count": 16,
   "metadata": {},
   "outputs": [],
   "source": [
    "# save the results for next workflow\n",
    "\n",
    "with open(\"wf1_resulting_EnGen.pickle\", \"wb\") as file:\n",
    "    pickle.dump(engen, file, -1)"
   ]
  }
 ],
 "metadata": {
  "interpreter": {
   "hash": "d429d429aea2339123034138905f0cd1b56c1cbab1e9830e5564dfad92aaa54f"
  },
  "kernelspec": {
   "display_name": "Python 3",
   "language": "python",
   "name": "python3"
  },
  "language_info": {
   "codemirror_mode": {
    "name": "ipython",
    "version": 3
   },
   "file_extension": ".py",
   "mimetype": "text/x-python",
   "name": "python",
   "nbconvert_exporter": "python",
   "pygments_lexer": "ipython3",
   "version": "3.6.7"
  }
 },
 "nbformat": 4,
 "nbformat_minor": 2
}
