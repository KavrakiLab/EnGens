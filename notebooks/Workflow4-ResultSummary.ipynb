{
 "cells": [
  {
   "cell_type": "markdown",
   "id": "84049a68-a77c-4c94-a514-d42bcad97ebe",
   "metadata": {},
   "source": [
    "# Workflow 4 - analyze the results\n",
    "<hr>\n",
    "\n",
    "1. Cluster interactive plots\n",
    "2. Movie trajectory plots"
   ]
  },
  {
   "cell_type": "code",
   "execution_count": null,
   "id": "82f31d4d-948a-4ef7-b5d8-769c19c8210a",
   "metadata": {},
   "outputs": [],
   "source": [
    "#required imports\n",
    "from ipywidgets import interact, interactive, fixed, interact_manual\n",
    "from ipywidgets import interactive, fixed, IntSlider, VBox, HBox, Layout\n",
    "import ipywidgets as widgets\n",
    "import matplotlib.patheffects as PathEffects\n",
    "from IPython.display import display,clear_output\n",
    "import numpy as np\n",
    "import matplotlib.pyplot as plt\n",
    "from matplotlib import cm\n",
    "from engens.core.EnGens import EnGen\n",
    "from engens.core.ClustEn import *\n",
    "from engens.core.FeatureSelector import *\n",
    "from engens.core.DimReduction import *\n",
    "from engens.core.PlotUtils import *\n",
    "import pickle as pk\n",
    "import os"
   ]
  },
  {
   "cell_type": "code",
   "execution_count": null,
   "id": "1a80fa07",
   "metadata": {},
   "outputs": [],
   "source": [
    "plt.ioff()"
   ]
  },
  {
   "cell_type": "code",
   "execution_count": null,
   "id": "50cf9534-5be7-4403-96c7-b04ab465390b",
   "metadata": {},
   "outputs": [],
   "source": [
    "engen = None\n",
    "with open(\"wf3_resulting_EnGen.pickle\", \"rb\") as file:\n",
    "    engen = pk.load(file)\n",
    "clust = None\n",
    "with open(\"wf3_resulting_Clust.pickle\", \"rb\") as file:\n",
    "    clust = pk.load(file)"
   ]
  },
  {
   "cell_type": "code",
   "execution_count": null,
   "id": "d960c819",
   "metadata": {},
   "outputs": [],
   "source": [
    "%matplotlib inline"
   ]
  },
  {
   "cell_type": "markdown",
   "id": "eccaf8b4",
   "metadata": {},
   "source": [
    "## Cluster plots\n",
    "<hr>"
   ]
  },
  {
   "cell_type": "code",
   "execution_count": null,
   "id": "dcfeebd7",
   "metadata": {},
   "outputs": [],
   "source": [
    "p_utils1 = PlotUtils(engen, clust, stride=20)\n",
    "# if your trajectory is very large plotting this dashboard migth take some time\n",
    "# because one point for every frame has to be plotted\n",
    "# if you want a faster plot - provide the stride - run:\n",
    "# p_utils1 = PlotUtils(engen, clust, stride=20)\n",
    "# this will load every 20th frame from the trajectory\n",
    "p_utils1.dashboard1(path = \"./res_ensemble\")"
   ]
  },
  {
   "cell_type": "markdown",
   "id": "4d3c7dda",
   "metadata": {},
   "source": [
    "## Trajectory movie\n",
    "<hr>"
   ]
  },
  {
   "cell_type": "code",
   "execution_count": null,
   "id": "28482fc3",
   "metadata": {},
   "outputs": [],
   "source": [
    "p_utils1.view_movie(\"cartoon\")"
   ]
  },
  {
   "cell_type": "code",
   "execution_count": null,
   "id": "86673751",
   "metadata": {},
   "outputs": [],
   "source": [
    "p_utils1.view_movie(\"ball_and_stick\")"
   ]
  }
 ],
 "metadata": {
  "kernelspec": {
   "display_name": "Python 3",
   "language": "python",
   "name": "python3"
  },
  "language_info": {
   "codemirror_mode": {
    "name": "ipython",
    "version": 3
   },
   "file_extension": ".py",
   "mimetype": "text/x-python",
   "name": "python",
   "nbconvert_exporter": "python",
   "pygments_lexer": "ipython3",
   "version": "3.6.7"
  }
 },
 "nbformat": 4,
 "nbformat_minor": 5
}
