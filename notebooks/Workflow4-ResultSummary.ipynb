{
 "cells": [
  {
   "cell_type": "markdown",
   "id": "84049a68-a77c-4c94-a514-d42bcad97ebe",
   "metadata": {},
   "source": [
    "# Workflow 4 - analyze the results\n",
    "<hr>\n",
    "\n",
    "1. Cluster interactive plots\n",
    "2. Structure plots\n",
    "3. Movie trajectory plots"
   ]
  },
  {
   "cell_type": "code",
   "execution_count": 1,
   "id": "82f31d4d-948a-4ef7-b5d8-769c19c8210a",
   "metadata": {},
   "outputs": [
    {
     "data": {
      "application/vnd.jupyter.widget-view+json": {
       "model_id": "82add75915f549e9ab7ada62aee88ad7",
       "version_major": 2,
       "version_minor": 0
      },
      "text/plain": []
     },
     "metadata": {},
     "output_type": "display_data"
    }
   ],
   "source": [
    "#required imports\n",
    "from ipywidgets import interact, interactive, fixed, interact_manual\n",
    "from ipywidgets import interactive, fixed, IntSlider, VBox, HBox, Layout\n",
    "import ipywidgets as widgets\n",
    "import matplotlib.patheffects as PathEffects\n",
    "from IPython.display import display,clear_output\n",
    "import numpy as np\n",
    "import matplotlib.pyplot as plt\n",
    "from matplotlib import cm\n",
    "from engens.core.EnGens import EnGen\n",
    "from engens.core.ClustEn import *\n",
    "from engens.core.FeatureSelector import *\n",
    "from engens.core.DimReduction import *\n",
    "import pickle as pk\n",
    "import os"
   ]
  },
  {
   "cell_type": "code",
   "execution_count": 2,
   "id": "50cf9534-5be7-4403-96c7-b04ab465390b",
   "metadata": {},
   "outputs": [],
   "source": [
    "engen = None\n",
    "with open(\"wf3_resulting_EnGen.pickle\", \"rb\") as file:\n",
    "    engen = pk.load(file)\n",
    "clust = None\n",
    "with open(\"wf3_resulting_Clust.pickle\", \"rb\") as file:\n",
    "    clust = pk.load(file)\n",
    "dimred = None\n",
    "with open(\"wf2_resulting_Reducer.pickle\", \"rb\") as file:\n",
    "    dimred = pk.load(file)"
   ]
  },
  {
   "cell_type": "code",
   "execution_count": 3,
   "id": "d960c819",
   "metadata": {},
   "outputs": [],
   "source": [
    "%matplotlib inline"
   ]
  },
  {
   "cell_type": "markdown",
   "id": "eccaf8b4",
   "metadata": {},
   "source": [
    "## Cluster plots\n",
    "<hr>"
   ]
  },
  {
   "cell_type": "code",
   "execution_count": 4,
   "id": "9f0c439b",
   "metadata": {},
   "outputs": [],
   "source": [
    "traj_len = dimred.transformed_data.shape[0]\n",
    "\n",
    "x = dimred.transformed_data[:,0]\n",
    "y =  dimred.transformed_data[:,1]\n",
    "x_max, y_max, x_min, y_min = (max(x), max(y), min(x), min(y))\n",
    "frame_c = cm.plasma(np.linspace(0, traj_len, traj_len)/traj_len)\n",
    "color_opt = \"frame\"\n",
    "cluster_c = clust.labels[clust.chosen_index]\n",
    "c=frame_c\n",
    "scat_size=10\n",
    "\n",
    "rep_fnum = clust.chosen_frames\n",
    "rep_len = rep_fnum.shape[0]\n",
    "rep_x = x[rep_fnum]\n",
    "rep_y = y[rep_fnum]\n",
    "rep_c = cm.Set1(np.linspace(0, rep_len, rep_len)/rep_len)\n",
    "rep_size = 400\n",
    "reps_text = []"
   ]
  },
  {
   "cell_type": "code",
   "execution_count": 5,
   "id": "360f70d0",
   "metadata": {},
   "outputs": [],
   "source": [
    "\n",
    "from plotly.offline import iplot\n",
    "from plotly.graph_objs import graph_objs as go\n",
    "\n",
    "def view_timeline():\n",
    "    pfig = go.Figure()\n",
    "    scatter = go.Scatter(x=list(range(5001)), y=clust.labels[clust.chosen_index],              \n",
    "            marker=dict(\n",
    "                size=3,\n",
    "                color=clust.labels[clust.chosen_index],\n",
    "                colorscale=\"Viridis\"\n",
    "            ),\n",
    "        mode=\"markers\"\n",
    "        )\n",
    "    pfig.add_trace(scatter)\n",
    "    for i, rf in enumerate(rep_fnum): \n",
    "        atxt = \"Cluster \"+str(clust.labels[clust.chosen_index][rf])+\"; Frame \"+str(rf)\n",
    "        pfig.add_vline(x=rf, line_width=1, line_dash=\"dash\", line_color=\"red\", \n",
    "              annotation_text=atxt)\n",
    "    pfig.update_layout(go.Layout(width=800, height=400),\n",
    "    xaxis_title=\"trajectory frames\",\n",
    "    yaxis_title=\"cluster\",\n",
    "    hovermode=\"x\"\n",
    "                )\n",
    "    pfig.update_yaxes(dtick=\"d\")\n",
    "    iplot(pfig)"
   ]
  },
  {
   "cell_type": "code",
   "execution_count": 6,
   "id": "da44a49d",
   "metadata": {},
   "outputs": [],
   "source": [
    "def view_PCs():\n",
    "    marker_labels = []\n",
    "    lablist = list(clust.labels[clust.chosen_index])\n",
    "    for i, elem in enumerate(lablist):\n",
    "        marker_labels.append(\"cluster=\"+str(elem)+\" \\n frame=\"+str(i))\n",
    "    \n",
    "    pfig = go.Figure()\n",
    "    scatter = go.Scatter(x=x, y=y,              \n",
    "            marker=dict(\n",
    "                size=3,\n",
    "                color=clust.labels[clust.chosen_index],\n",
    "                colorscale=\"Viridis\"\n",
    "            ),\n",
    "        mode=\"markers\",\n",
    "        text = marker_labels,\n",
    "        hovertemplate = \"<b>%{text}</b>\"\n",
    "        )\n",
    "    pfig.add_trace(scatter)\n",
    "    scatter = go.Scatter(x=rep_x, y=rep_y,              \n",
    "            marker=dict(\n",
    "                size=6,\n",
    "                color='red',\n",
    "                line=dict(width=2,color='DarkSlateGrey')\n",
    "            ),\n",
    "        mode=\"markers\",\n",
    "        text = rep_fnum,\n",
    "        hovertemplate = \"<b>Representative (frame - %{text})</b>\"\n",
    "        )\n",
    "    pfig.add_trace(scatter)\n",
    "    pfig.update_layout(go.Layout(width=450, height=450,showlegend=False),\n",
    "    xaxis_title=\"C1\",\n",
    "    yaxis_title=\"C2\")\n",
    "    iplot(pfig)"
   ]
  },
  {
   "cell_type": "code",
   "execution_count": 7,
   "id": "2b134304",
   "metadata": {},
   "outputs": [],
   "source": [
    "\n",
    "def view_bar():\n",
    "    bar = go.Bar(x=list(range(clust.chosen_index+2)) ,\n",
    "                 y=clust.cluster_weights(clust.chosen_index),\n",
    "                 marker={'color': list(range(clust.chosen_index+2)), 'colorscale': \"Viridis\"})\n",
    "    pfig = go.Figure()\n",
    "    pfig.add_trace(bar)\n",
    "    pfig.update_layout(go.Layout(width=450, height=450),\n",
    "        xaxis_title=\"cluster\",\n",
    "        yaxis_title=\"cluster weight\")\n",
    "    pfig.update_xaxes(dtick=\"d\")\n",
    "    if not clust.thr == None:\n",
    "        pfig.add_hline(y=clust.thr, line_width=2, line_dash=\"dash\", line_color=\"black\", \n",
    "                  annotation_text=\"cluster cutoff\")\n",
    "    iplot(pfig)"
   ]
  },
  {
   "cell_type": "code",
   "execution_count": 8,
   "id": "38c9da51",
   "metadata": {},
   "outputs": [
    {
     "data": {
      "application/vnd.jupyter.widget-view+json": {
       "model_id": "9b9e5c350f9f4033946788ab2ee4e2c9",
       "version_major": 2,
       "version_minor": 0
      },
      "text/plain": [
       "VBox(children=(HBox(children=(interactive(children=(Output(),), _dom_classes=('widget-interact',)), interactiv…"
      ]
     },
     "metadata": {},
     "output_type": "display_data"
    }
   ],
   "source": [
    "widg1 = interactive(view_timeline)\n",
    "widg2 = interactive(view_PCs)\n",
    "widg3 = interactive(view_bar)\n",
    "display(VBox([HBox([widg2, widg3]), widg1]))"
   ]
  },
  {
   "cell_type": "markdown",
   "id": "2a5b5d2d",
   "metadata": {},
   "source": [
    "## Structure plots\n",
    "<hr>"
   ]
  },
  {
   "cell_type": "code",
   "execution_count": 9,
   "id": "0d47b783",
   "metadata": {},
   "outputs": [],
   "source": [
    "import nglview as nv\n",
    "import pytraj as pt\n",
    "import matplotlib.colors as mc"
   ]
  },
  {
   "cell_type": "code",
   "execution_count": 10,
   "id": "3d5a849c",
   "metadata": {},
   "outputs": [],
   "source": [
    "colors = cm.viridis(np.linspace(0, clust.chosen_index+2, clust.chosen_index+2)/(clust.chosen_index+2))"
   ]
  },
  {
   "cell_type": "code",
   "execution_count": 11,
   "id": "fd59925d",
   "metadata": {},
   "outputs": [],
   "source": [
    "res_pdbs = []\n",
    "for file in os.listdir(\"./res_ensemble\"):\n",
    "    if file[-4:] == \".pdb\":\n",
    "        res_pdbs.append(file)\n",
    "\n",
    "nw = nv.NGLWidget()\n",
    "for i, pdb_file in enumerate(res_pdbs):\n",
    "    clust_n = clust.labels[clust.chosen_index][clust.chosen_frames[i]] \n",
    "    name = \"Cluster - \"+str(clust_n)\n",
    "    nw.add_component(\"./res_ensemble/\"+pdb_file, name=name,default_representation=False)\n",
    "    nw[i].add_ball_and_stick(color = mc.rgb2hex(colors[clust_n]))"
   ]
  },
  {
   "cell_type": "code",
   "execution_count": 12,
   "id": "97ac8157",
   "metadata": {},
   "outputs": [
    {
     "data": {
      "application/vnd.jupyter.widget-view+json": {
       "model_id": "935bf62888db46f79f0d7203799fe171",
       "version_major": 2,
       "version_minor": 0
      },
      "text/plain": [
       "NGLWidget()"
      ]
     },
     "metadata": {},
     "output_type": "display_data"
    }
   ],
   "source": [
    "nw.center()\n",
    "nw"
   ]
  },
  {
   "cell_type": "markdown",
   "id": "4d3c7dda",
   "metadata": {},
   "source": [
    "## Trajectory movie plots\n",
    "<hr>"
   ]
  },
  {
   "cell_type": "code",
   "execution_count": 13,
   "id": "88c3bd70-71ca-4d92-b905-70f2fcf18a86",
   "metadata": {},
   "outputs": [
    {
     "data": {
      "application/vnd.jupyter.widget-view+json": {
       "model_id": "87f9b7bf7d8045d49766ce15db5e19e3",
       "version_major": 2,
       "version_minor": 0
      },
      "text/plain": [
       "HBox(children=(VBox(), VBox(children=(VBox(children=(HBox(children=(HBox(children=(Play(value=1, max=5001), In…"
      ]
     },
     "metadata": {},
     "output_type": "display_data"
    }
   ],
   "source": [
    "traj_len = dimred.transformed_data.shape[0]\n",
    "\n",
    "x = dimred.transformed_data[:,0]\n",
    "y =  dimred.transformed_data[:,1]\n",
    "x_max, y_max, x_min, y_min = (max(x), max(y), min(x), min(y))\n",
    "frame_c = cm.plasma(np.linspace(0, traj_len, traj_len)/traj_len)\n",
    "color_opt = \"frame\"\n",
    "cluster_c = clust.labels[clust.chosen_index]\n",
    "c=frame_c\n",
    "scat_size=10\n",
    "\n",
    "rep_fnum = clust.chosen_frames\n",
    "rep_len = rep_fnum.shape[0]\n",
    "rep_x = x[rep_fnum]\n",
    "rep_y = y[rep_fnum]\n",
    "rep_c = cm.Set1(np.linspace(0, rep_len, rep_len)/rep_len)\n",
    "rep_size = 400\n",
    "reps_text = []\n",
    "for i, elem in enumerate(rep_fnum):\n",
    "    reps_text.append(\"C\"+str(i)+\"-F\"+str(elem))\n",
    "    \n",
    "\n",
    "out_frame_cmap = widgets.Output()\n",
    "gradient = np.linspace(0, traj_len, traj_len)/traj_len\n",
    "gradient = np.vstack((gradient, gradient))\n",
    "with out_frame_cmap:\n",
    "    plt.figure(figsize=(7, 0.2))\n",
    "    plt.imshow(gradient, aspect='auto', cmap=\"plasma\")\n",
    "    plt.gca().set_axis_off()\n",
    "    plt.show()\n",
    "\n",
    "out_plot = widgets.Output(layout=widgets.Layout(height='400px', width = '500px', justify_content='center'))\n",
    "\n",
    "\n",
    "global ax\n",
    "ax=None\n",
    "global reps\n",
    "reps = None\n",
    "global reps_vis\n",
    "reps_vis = False\n",
    "reps2 = None\n",
    "\n",
    "\n",
    "with out_plot:\n",
    "    fig = plt.figure(figsize=(15, 10))\n",
    "    ax = fig.add_subplot(1, 1, 1)\n",
    "    scatter = ax.scatter(x[1], y[1],\n",
    "            color = c[1, :], cmap=\"plasma\",\n",
    "            s=scat_size, alpha =0.5, )\n",
    "    \n",
    "    reps=ax.scatter(rep_x, rep_y, s=rep_size, color=rep_c, marker=\"*\",\n",
    "        edgecolors=\"black\")\n",
    "    reps.set_visible(reps_vis)\n",
    "    ax.set_xlim([x_min, x_max])\n",
    "    ax.set_ylim([y_min, y_max])\n",
    "    ax.set_xlabel('C1')\n",
    "    ax.set_ylabel('C2')\n",
    "    plt.show()\n",
    "    \n",
    "\n",
    "\n",
    "def update(slider, x, y, c):\n",
    "    frames = slider\n",
    "    new_y = y[:frames]\n",
    "    new_x = x[:frames]\n",
    "    reps_vis = reps.get_visible()\n",
    "    ax.clear()\n",
    "    scatter = ax.scatter(new_x, new_y,\n",
    "        c = c[:frames, :], cmap=\"plasma\",\n",
    "        s=10, alpha =0.5, )\n",
    "        \n",
    "    ax.scatter(x[frames], y[frames],\n",
    "        color=\"red\",\n",
    "        s=100, alpha =1, marker=\"D\",\n",
    "        edgecolors=\"black\")\n",
    "    \n",
    "    reps2 = ax.scatter(rep_x, rep_y, s=rep_size, color=rep_c, marker=\"*\", edgecolors=\"black\", visible=reps_vis)\n",
    "    for i, txt in enumerate(reps_text):\n",
    "        txt_tmp = ax.annotate(txt, (rep_x[i], rep_y[i]), visible=reps_vis, fontsize=20, color=rep_c[i], weight=\"bold\")\n",
    "        txt_tmp.set_path_effects([PathEffects.withStroke(linewidth=3, foreground='black')])\n",
    "        \n",
    "    #reps = tmp\n",
    "    ax.set_xlim([x_min, x_max])\n",
    "    ax.set_ylim([y_min, y_max])\n",
    "    with out_plot:\n",
    "        clear_output(wait=True)\n",
    "        display(ax.figure)\n",
    "    return slider\n",
    "\n",
    "play = widgets.Play(\n",
    "    value=1,\n",
    "    min=0,\n",
    "    max=traj_len,\n",
    "    step=1,\n",
    "    disabled=False\n",
    ")\n",
    "\n",
    "\n",
    "frame_slider = widgets.IntSlider(value=1,min=0,max=traj_len,step=10,description='show frames:\\n',)\n",
    "\n",
    "widgets.jslink((play, 'value'), (frame_slider, 'value'))\n",
    "box_fslider = HBox([play, frame_slider])\n",
    "\n",
    "slider = interactive(update, slider=frame_slider, x = fixed(x), y = fixed(y), c = fixed(c))\n",
    "\n",
    "\n",
    "box = widgets.Checkbox(False, description='show cluster representatives')\n",
    "def changed(b):\n",
    "    value = b[\"owner\"].value\n",
    "    if value:\n",
    "        reps_vis = True\n",
    "    else:\n",
    "        reps_vis = False\n",
    "    reps.set_visible(reps_vis)\n",
    "    update(frame_slider.value, x, y, c)    \n",
    "box.observe(changed)\n",
    "\n",
    "\n",
    "command_pallete = HBox([box_fslider, out_frame_cmap, box], layout=Layout(display='flex', flex_flow='column'))\n",
    "nglwidget = engen.show_animated_traj()\n",
    "nglwidget.clear_representations()\n",
    "nglwidget.add_ball_and_stick()\n",
    "\n",
    "interactive1 = VBox([command_pallete, out_plot])\n",
    "\n",
    "#box_layout = Layout(display='flex', flex_flow='row', justify_content='center', align_items='center')\n",
    "\n",
    "display(HBox([ VBox([]), VBox([interactive1, nglwidget]), VBox([])]))"
   ]
  }
 ],
 "metadata": {
  "kernelspec": {
   "display_name": "Python 3",
   "language": "python",
   "name": "python3"
  },
  "language_info": {
   "codemirror_mode": {
    "name": "ipython",
    "version": 3
   },
   "file_extension": ".py",
   "mimetype": "text/x-python",
   "name": "python",
   "nbconvert_exporter": "python",
   "pygments_lexer": "ipython3",
   "version": "3.6.7"
  }
 },
 "nbformat": 4,
 "nbformat_minor": 5
}
