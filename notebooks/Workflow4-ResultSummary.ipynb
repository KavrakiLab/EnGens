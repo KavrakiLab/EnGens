{
 "cells": [
  {
   "cell_type": "markdown",
   "id": "84049a68-a77c-4c94-a514-d42bcad97ebe",
   "metadata": {},
   "source": [
    "# Workflow 4 - analyze the results\n",
    "<hr>\n",
    "\n",
    "1. Cluster interactive plots\n",
    "2. Movie trajectory plots"
   ]
  },
  {
   "cell_type": "code",
   "execution_count": null,
   "id": "82f31d4d-948a-4ef7-b5d8-769c19c8210a",
   "metadata": {},
   "outputs": [],
   "source": [
    "#required imports\n",
    "from ipywidgets import interact, interactive, fixed, interact_manual\n",
    "from ipywidgets import interactive, fixed, IntSlider, VBox, HBox, Layout\n",
    "import ipywidgets as widgets\n",
    "import matplotlib.patheffects as PathEffects\n",
    "from IPython.display import display,clear_output\n",
    "import numpy as np\n",
    "import matplotlib.pyplot as plt\n",
    "from matplotlib import cm\n",
    "from engens.core.EnGens import EnGen\n",
    "from engens.core.ClustEn import *\n",
    "from engens.core.FeatureSelector import *\n",
    "from engens.core.DimReduction import *\n",
    "from engens.core.PlotUtils import *\n",
    "import pickle as pk\n",
    "import os\n"
   ]
  },
  {
   "cell_type": "code",
   "execution_count": null,
   "id": "1a80fa07",
   "metadata": {},
   "outputs": [],
   "source": [
    "plt.ioff()"
   ]
  },
  {
   "cell_type": "code",
   "execution_count": null,
   "id": "50cf9534-5be7-4403-96c7-b04ab465390b",
   "metadata": {},
   "outputs": [],
   "source": [
    "engen = None\n",
    "with open(\"wf3_resulting_EnGen.pickle\", \"rb\") as file:\n",
    "    engen = pk.load(file)\n",
    "clust = None\n",
    "with open(\"wf3_resulting_Clust.pickle\", \"rb\") as file:\n",
    "    clust = pk.load(file)"
   ]
  },
  {
   "cell_type": "code",
   "execution_count": null,
   "id": "d960c819",
   "metadata": {},
   "outputs": [],
   "source": [
    "%matplotlib inline"
   ]
  },
  {
   "cell_type": "markdown",
   "id": "eccaf8b4",
   "metadata": {},
   "source": [
    "## Cluster plots\n",
    "<hr>"
   ]
  },
  {
   "cell_type": "code",
   "execution_count": null,
   "id": "dcfeebd7",
   "metadata": {
    "scrolled": false
   },
   "outputs": [],
   "source": [
    "p_utils1 = PlotUtils(engen, clust, stride=20)\n",
    "# if your trajectory is very large plotting this dashboard migth take some time\n",
    "# because one point for every frame has to be plotted\n",
    "# if you want a faster plot - provide the stride - run:\n",
    "# p_utils1 = PlotUtils(engen, clust, stride=20)\n",
    "# this will load every 20th frame from the trajectory\n",
    "p_utils1.dashboard1(path = \"./res_ensemble\")"
   ]
  },
  {
   "cell_type": "markdown",
   "id": "78fd0beb",
   "metadata": {},
   "source": [
    "## View multiple structures per cluster\n",
    "<hr>"
   ]
  },
  {
   "cell_type": "code",
   "execution_count": null,
   "id": "d9946fe6",
   "metadata": {},
   "outputs": [],
   "source": [
    "cluster_index = 0\n",
    "n_frames = 5"
   ]
  },
  {
   "cell_type": "code",
   "execution_count": null,
   "id": "58586680",
   "metadata": {},
   "outputs": [],
   "source": [
    "p_utils1.plot_frames_from_cluster(cluster_index, n_frames, \n",
    "                                  plot_representative=True)"
   ]
  },
  {
   "cell_type": "code",
   "execution_count": null,
   "id": "e913d49c",
   "metadata": {},
   "outputs": [],
   "source": [
    "cluster_index = 2\n",
    "n_frames = 5"
   ]
  },
  {
   "cell_type": "code",
   "execution_count": null,
   "id": "bdcc8a4c",
   "metadata": {},
   "outputs": [],
   "source": [
    "# You can ask for the sampled frames to be extracted into a folder of your choice\n",
    "p_utils1.plot_frames_from_cluster(cluster_index, n_frames, \n",
    "                                  plot_representative=True,\n",
    "                                 extract_selected=True,\n",
    "                                folder_path=\"./cluster3_samples\")"
   ]
  },
  {
   "cell_type": "markdown",
   "id": "4d3c7dda",
   "metadata": {},
   "source": [
    "## Trajectory movie\n",
    "<hr>"
   ]
  },
  {
   "cell_type": "code",
   "execution_count": null,
   "id": "28482fc3",
   "metadata": {},
   "outputs": [],
   "source": [
    "p_utils1.view_movie(\"cartoon\")"
   ]
  },
  {
   "cell_type": "code",
   "execution_count": null,
   "id": "86673751",
   "metadata": {},
   "outputs": [],
   "source": [
    "p_utils1.view_movie(\"ball_and_stick\")"
   ]
  },
  {
   "cell_type": "markdown",
   "id": "72708238",
   "metadata": {},
   "source": [
    "## Additional info per cluster - distance between two residues\n",
    "<hr>"
   ]
  },
  {
   "cell_type": "code",
   "execution_count": null,
   "id": "128693ce",
   "metadata": {},
   "outputs": [],
   "source": [
    "residue1_index = 0\n",
    "residue2_index = 3"
   ]
  },
  {
   "cell_type": "code",
   "execution_count": null,
   "id": "4f342c15",
   "metadata": {},
   "outputs": [],
   "source": [
    "from pyemma.coordinates import source\n",
    "\n",
    "pyemma_src = source(engen.traj, top=engen.ref, chunksize=100)\n",
    "pyemma_src.featurizer.add_residue_mindist([[residue1_index,residue2_index]])\n",
    "\n",
    "data = p_utils1.load_as_memmap(pyemma_src)"
   ]
  },
  {
   "cell_type": "code",
   "execution_count": null,
   "id": "1f2dc014",
   "metadata": {},
   "outputs": [],
   "source": [
    "scatter_fig = p_utils1.plot_custom_feature_scatter(data[:, 0].flatten(), \n",
    "                                                   y_title=\"residue mindist {}-{}\".format(residue1_index, residue2_index))"
   ]
  },
  {
   "cell_type": "code",
   "execution_count": null,
   "id": "daa8156e",
   "metadata": {},
   "outputs": [],
   "source": [
    "box_fig = p_utils1.plot_custom_feature_box(data[:, 0].flatten(), \n",
    "                                                   y_title=\"residue mindist {}-{}\".format(residue1_index, residue2_index))"
   ]
  },
  {
   "cell_type": "markdown",
   "id": "50074ab4",
   "metadata": {},
   "source": [
    "## Additional info per cluster - RMSD to a frame\n",
    "<hr>"
   ]
  },
  {
   "cell_type": "code",
   "execution_count": null,
   "id": "9c400d72",
   "metadata": {},
   "outputs": [],
   "source": [
    "ref_frame = 3294"
   ]
  },
  {
   "cell_type": "code",
   "execution_count": null,
   "id": "45deb552",
   "metadata": {},
   "outputs": [],
   "source": [
    "from pyemma.coordinates import source\n",
    "\n",
    "pyemma_src = source(engen.traj, top=engen.ref, chunksize=100)\n",
    "pyemma_src.featurizer.add_minrmsd_to_ref(engen.traj, ref_frame=ref_frame)\n",
    "\n",
    "data = p_utils1.load_as_memmap(pyemma_src)"
   ]
  },
  {
   "cell_type": "code",
   "execution_count": null,
   "id": "2d573987",
   "metadata": {},
   "outputs": [],
   "source": [
    "scatter_fig = p_utils1.plot_custom_feature_scatter(data[:, 0].flatten(), \n",
    "                                                   y_title=\"RMSD to frame {}\".format(ref_frame))"
   ]
  },
  {
   "cell_type": "code",
   "execution_count": null,
   "id": "dc97ffb7",
   "metadata": {},
   "outputs": [],
   "source": [
    "scatter_fig = p_utils1.plot_custom_feature_box(data[:, 0].flatten(), \n",
    "                                                   y_title=\"RMSD to frame {}\".format(ref_frame))"
   ]
  },
  {
   "cell_type": "markdown",
   "id": "973fe60d",
   "metadata": {},
   "source": [
    "## Additional info per cluster - RMSD to another structure (given a PDB file)\n",
    "<hr>"
   ]
  },
  {
   "cell_type": "code",
   "execution_count": null,
   "id": "638b2b65",
   "metadata": {},
   "outputs": [],
   "source": [
    "ref_file = \"./pentapeptide-00-500ns-impl-solv-aligned-engen-selected.pdb\""
   ]
  },
  {
   "cell_type": "code",
   "execution_count": null,
   "id": "bc0b8e97",
   "metadata": {},
   "outputs": [],
   "source": [
    "from pyemma.coordinates import source\n",
    "\n",
    "pyemma_src = source(engen.traj, top=engen.ref, chunksize=100)\n",
    "pyemma_src.featurizer.add_minrmsd_to_ref(mdtraj.load(ref_file))\n",
    "\n",
    "data = p_utils1.load_as_memmap(pyemma_src)"
   ]
  },
  {
   "cell_type": "code",
   "execution_count": null,
   "id": "217ca96f",
   "metadata": {},
   "outputs": [],
   "source": [
    "scatter_fig = p_utils1.plot_custom_feature_scatter(data[:, 0].flatten(), \n",
    "                                                   y_title=\"RMSD to structure\")"
   ]
  },
  {
   "cell_type": "code",
   "execution_count": null,
   "id": "3bcafe02",
   "metadata": {},
   "outputs": [],
   "source": [
    "scatter_fig = p_utils1.plot_custom_feature_box(data[:, 0].flatten(), \n",
    "                                                   y_title=\"RMSD to frame {}\".format(ref_frame))"
   ]
  },
  {
   "cell_type": "markdown",
   "id": "6337c927",
   "metadata": {},
   "source": [
    "## Additional info per cluster - component from dimensionality reduction\n",
    "<hr>"
   ]
  },
  {
   "cell_type": "code",
   "execution_count": null,
   "id": "4f8929b1",
   "metadata": {},
   "outputs": [],
   "source": [
    "component_index = 2"
   ]
  },
  {
   "cell_type": "code",
   "execution_count": null,
   "id": "d356ef66",
   "metadata": {},
   "outputs": [],
   "source": [
    "data = engen.dimred_data[:, component_index]"
   ]
  },
  {
   "cell_type": "code",
   "execution_count": null,
   "id": "2bb34ca5",
   "metadata": {},
   "outputs": [],
   "source": [
    "scatter_fig = p_utils1.plot_custom_feature_scatter(data, \n",
    "                                                   y_title=\"Value of component {}\".format(component_index))"
   ]
  },
  {
   "cell_type": "code",
   "execution_count": null,
   "id": "2434aa31",
   "metadata": {},
   "outputs": [],
   "source": [
    "scatter_fig = p_utils1.plot_custom_feature_box(data, \n",
    "                                                   y_title=\"Value of component {}\".format(component_index))"
   ]
  },
  {
   "cell_type": "code",
   "execution_count": null,
   "id": "03e47d76",
   "metadata": {},
   "outputs": [],
   "source": []
  }
 ],
 "metadata": {
  "kernelspec": {
   "display_name": "Python 3",
   "language": "python",
   "name": "python3"
  },
  "language_info": {
   "codemirror_mode": {
    "name": "ipython",
    "version": 3
   },
   "file_extension": ".py",
   "mimetype": "text/x-python",
   "name": "python",
   "nbconvert_exporter": "python",
   "pygments_lexer": "ipython3",
   "version": "3.6.7"
  }
 },
 "nbformat": 4,
 "nbformat_minor": 5
}
