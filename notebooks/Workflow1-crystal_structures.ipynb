{
 "cells": [
  {
   "cell_type": "code",
   "execution_count": 1,
   "metadata": {},
   "outputs": [],
   "source": [
    "from pathlib import Path\n",
    "import Bio\n",
    "from Bio.PDB import PDBList\n",
    "import shutil\n",
    "from Bio.PDB import PDBParser\n",
    "import mdtraj\n",
    "from Bio.Align.Applications import ClustalOmegaCommandline\n",
    "import subprocess\n",
    "import biotite.sequence as seq\n",
    "import biotite.sequence.graphics as graphics\n",
    "from Bio import SeqIO\n",
    "import matplotlib.pyplot as plt\n",
    "from os import path, system\n",
    "from engens.core.CrystalUtils import *"
   ]
  },
  {
   "cell_type": "markdown",
   "metadata": {},
   "source": [
    "# List of PDB files/ids - as input to the workflow"
   ]
  },
  {
   "cell_type": "code",
   "execution_count": 2,
   "metadata": {},
   "outputs": [
    {
     "name": "stdout",
     "output_type": "stream",
     "text": [
      "4 total PI3K pdb ids used here.\n"
     ]
    }
   ],
   "source": [
    "# Get the PDB ID-s of your files\n",
    "\n",
    "# Our example:\n",
    "# PI3K pdb IDs - from the paper: https://doi.org/10.1016/j.jmb.2020.09.002 \n",
    "# Supplementary material table S2.\n",
    "\n",
    "pdbIds =  \"2rd0 3hhm 3hiz 4jps\".split()\n",
    "'''\n",
    "5swg 5swo 5swp 5swr 5swt 5sx8 5sx9 5sxa \\\n",
    "5sxb 5sxc 5sxd 5sxe 5sxf 5sxi 5sxj 5sxk \\\n",
    "5uk8 5ukj 5ul1 5xgh 5xgi 5xgj 6nct \\\n",
    "4a55 2y3a \\\n",
    "5dxu 5m6u 5t8f 5ubt 5vlr 6g6w 6pyr 6pyu\".split()\n",
    "'''\n",
    "\n",
    "print(\"{} total PI3K pdb ids used here.\".format(len(pdbIds)))"
   ]
  },
  {
   "cell_type": "markdown",
   "metadata": {},
   "source": [
    "## Step 1  - download PDBs"
   ]
  },
  {
   "cell_type": "code",
   "execution_count": 3,
   "metadata": {
    "scrolled": true
   },
   "outputs": [
    {
     "name": "stderr",
     "output_type": "stream",
     "text": [
      "100%|██████████| 4/4 [00:00<00:00, 1231.90it/s]"
     ]
    },
    {
     "name": "stdout",
     "output_type": "stream",
     "text": [
      "Fetching and fixing: 2rd0\n",
      "Already found\n",
      "Fetching and fixing: 3hhm\n",
      "Already found\n",
      "Fetching and fixing: 3hiz\n",
      "Already found\n",
      "Fetching and fixing: 4jps\n",
      "Already found\n"
     ]
    },
    {
     "name": "stderr",
     "output_type": "stream",
     "text": [
      "\n"
     ]
    }
   ],
   "source": [
    "# Make the directory to  store the files in \n",
    "# Change this to any name you'd like\n",
    "pdir = \"./PI3Ks_pdbs/\"\n",
    "Path(pdir).mkdir(parents=True, exist_ok=True)\n",
    "\n",
    "# -----------------STEP 1.1 - download PDBs------------------------ #\n",
    "# Initialize CrystalUtils - it will autimatically (if no file_names provieded):\n",
    "# Download PDBs\n",
    "# Fix them\n",
    "crystal_utils = CrystalUtils(pdb_codes = pdbIds, dst_folder = pdir)"
   ]
  },
  {
   "cell_type": "code",
   "execution_count": 4,
   "metadata": {},
   "outputs": [
    {
     "data": {
      "text/plain": [
       "'PI3Ks_pdbs/sequence_output/sequences.fasta'"
      ]
     },
     "execution_count": 4,
     "metadata": {},
     "output_type": "execute_result"
    }
   ],
   "source": [
    "# -----------------STEP 1.2 - extract protein sequences------------------------ #\n",
    "# Fasta file name - place to store the sequence\n",
    "crystal_utils.extract_protein_sequence()\n"
   ]
  },
  {
   "cell_type": "code",
   "execution_count": 5,
   "metadata": {},
   "outputs": [
    {
     "name": "stdout",
     "output_type": "stream",
     "text": [
      "Running MSA of the sequences\n",
      "Running MSA of the sequences\n",
      "Found PI3Ks_pdbs/sequence_output/sequence_aligned.fasta\n",
      "Continuous region #1 found starting in AA range 14-239\n",
      "Continuous region #2 found starting in AA range 256-318\n",
      "Continuous region #3 found starting in AA range 327-414\n",
      "Continuous region #4 found starting in AA range 425-499\n",
      "Continuous region #5 found starting in AA range 523-858\n",
      "Continuous region #6 found starting in AA range 869-935\n",
      "Continuous region #7 found starting in AA range 948-965\n",
      "Visualization od MSA and common regions: PI3Ks_pdbs/sequence_output/sequence_aligned_regions.html\n",
      "Extracting substructures\n",
      "Extracting common regions from each file (backbone)\n"
     ]
    },
    {
     "name": "stderr",
     "output_type": "stream",
     "text": [
      "Extracting common regions from each file (backbone): 100%|██████████| 4/4 [00:00<00:00, 9383.23it/s]"
     ]
    },
    {
     "name": "stdout",
     "output_type": "stream",
     "text": [
      "File exists: PI3Ks_pdbs/structure_output/2rd0_fixed_bbstrip.pdb\n",
      "File exists: PI3Ks_pdbs/structure_output/3hhm_fixed_bbstrip.pdb\n",
      "File exists: PI3Ks_pdbs/structure_output/3hiz_fixed_bbstrip.pdb\n",
      "File exists: PI3Ks_pdbs/structure_output/4jps_fixed_bbstrip.pdb\n",
      "Converting to trajectory bb_traj.xtc\n"
     ]
    },
    {
     "name": "stderr",
     "output_type": "stream",
     "text": [
      "\n"
     ]
    },
    {
     "name": "stdout",
     "output_type": "stream",
     "text": [
      "Extracting common regions from each file (full residues)\n"
     ]
    },
    {
     "name": "stderr",
     "output_type": "stream",
     "text": [
      "Extracting common regions from each file (full residues): 100%|██████████| 4/4 [00:00<00:00, 8077.62it/s]"
     ]
    },
    {
     "name": "stdout",
     "output_type": "stream",
     "text": [
      "File exists: PI3Ks_pdbs/structure_output/2rd0_fixedresstrip.pdb\n",
      "File exists: PI3Ks_pdbs/structure_output/3hhm_fixedresstrip.pdb\n",
      "File exists: PI3Ks_pdbs/structure_output/3hiz_fixedresstrip.pdb\n",
      "File exists: PI3Ks_pdbs/structure_output/4jps_fixedresstrip.pdb\n",
      "Converting to trajectory resstrip_traj.xtc\n"
     ]
    },
    {
     "name": "stderr",
     "output_type": "stream",
     "text": [
      "\n"
     ]
    }
   ],
   "source": [
    "# -----------------STEP 1.3 - compute MSA with clustal omega------------------------ #\n",
    "# ----------------- and extract maximum common substructure ------------------------ #\n",
    "print(\"Running MSA of the sequences\")\n",
    "crystal_utils.performMSA()"
   ]
  },
  {
   "cell_type": "code",
   "execution_count": 13,
   "metadata": {},
   "outputs": [
    {
     "data": {
      "text/html": [
       "\n",
       "        <iframe\n",
       "            width=\"1050\"\n",
       "            height=\"200\"\n",
       "            src=\"PI3Ks_pdbs/sequence_output/sequence_aligned_regions.html\"\n",
       "            frameborder=\"0\"\n",
       "            allowfullscreen\n",
       "        ></iframe>\n",
       "        "
      ],
      "text/plain": [
       "<IPython.lib.display.IFrame at 0x7f2176f2d160>"
      ]
     },
     "execution_count": 13,
     "metadata": {},
     "output_type": "execute_result"
    }
   ],
   "source": [
    "# ----------------- visualize and inspect the alignment! ------------------------ #\n",
    "from IPython.display import IFrame\n",
    "IFrame('PI3Ks_pdbs/sequence_output/sequence_aligned_regions.html', width=1050, height=200)"
   ]
  },
  {
   "cell_type": "markdown",
   "metadata": {},
   "source": [
    "# Now - continue with the normal workflow: but add the list of pdb files as an argument to EnGens\n",
    "\n",
    "- remember to align the trajectory (align = True when constructing EnGen)\n",
    "- make sure your binding_site_selstr is something that is generalizable to different possibly mutated residues\n",
    "- same for the featurization (do not use all atom featurization - since different residues have different number of atoms)\n",
    "- do not use TICA/HDE\n",
    "- do not use VAMP nets to select features\n",
    "\n",
    "these are only for use with time series data (MDs)"
   ]
  },
  {
   "cell_type": "code",
   "execution_count": 15,
   "metadata": {},
   "outputs": [
    {
     "data": {
      "application/vnd.jupyter.widget-view+json": {
       "model_id": "dbcee82bac264e5aad06ad5ae83b7489",
       "version_major": 2,
       "version_minor": 0
      },
      "text/plain": []
     },
     "metadata": {},
     "output_type": "display_data"
    },
    {
     "name": "stderr",
     "output_type": "stream",
     "text": [
      "Aligning trajectory: 100%|██████████| 1/1 [00:00<00:00,  5.80it/s]\n",
      "Cleaning files...: 100%|██████████| 1/1 [00:00<00:00, 5825.42it/s]\n",
      "Aligning pdb files (might take a while): 100%|██████████| 4/4 [00:00<00:00,  4.39it/s]\n",
      "Loading files (might take a while): 100%|██████████| 4/4 [00:01<00:00,  2.14it/s]\n"
     ]
    }
   ],
   "source": [
    "import glob\n",
    "from engens.core.EnGens import *\n",
    "\n",
    "# input files:\n",
    "pdb_files_processed = glob.glob(path.join(crystal_utils.dst_structure, \"*resstrip.pdb\"))\n",
    "# any random bbstrip file\n",
    "top_loc = path.join(crystal_utils.dst_structure, crystal_utils.pdb_codes[0]+'_fixed_bbstrip.pdb')\n",
    "# backbone - common residue trajectory\n",
    "traj_loc = path.join(crystal_utils.dst_structure, \"bb_traj.xtc\")\n",
    "# input files - containing full common residues\n",
    "input_files = pdb_files_processed\n",
    "structure_names = [name[name.rfind(\"/\")+1:name.rfind(\"/\")+5] for name in input_files]\n",
    "\n",
    "engen = EnGen(traj_loc, top_loc, cryst_pdb_list = True, file_names = input_files, structure_names = structure_names, align=True)\n"
   ]
  },
  {
   "cell_type": "markdown",
   "metadata": {},
   "source": [
    "# Workflow 1 - extract features from the PDB files\n",
    "\n",
    "**Input:** reference PDB and trajectory\n",
    "\n",
    "\n",
    "**Output:** featurized trajectory\n",
    "<hr>\n",
    "Steps:\n",
    "\n",
    "1. Load reference PDB and trajectory in the EnGen object\n",
    "3. Provide set of featurizations of interest (or use default)\n",
    "4. Evaluate different featurization (optional)\n",
    "5. Choose the best featurization\n",
    "6. Extract those features"
   ]
  },
  {
   "cell_type": "code",
   "execution_count": 16,
   "metadata": {
    "scrolled": true
   },
   "outputs": [],
   "source": [
    "# required imports \n",
    "import engens.core.FeatureSelector as fs\n",
    "import pickle\n",
    "import mdshare\n",
    "import mdtraj\n",
    "import numpy as np\n",
    "import nglview\n",
    "from IPython.display import Javascript, display\n",
    "import json"
   ]
  },
  {
   "cell_type": "markdown",
   "metadata": {},
   "source": [
    "### Step 1 - load the structure and trajectory\n",
    "\n",
    "Provide the path to the files with the reference trajectory and topology.\n",
    "(You can use any format that <a fref = https://mdtraj.org/1.9.4/api/generated/mdtraj.load.html> mdtraj.load </a> will take as input).\n",
    "\n",
    "Optionally, provide a subset of the structure that you will use for featurization (e.g. binding site) as a <a href=https://mdtraj.org/1.9.4/atom_selection.html> atom selection string </a> or a list of atom indices.\n"
   ]
  },
  {
   "cell_type": "code",
   "execution_count": 18,
   "metadata": {},
   "outputs": [
    {
     "data": {
      "application/vnd.jupyter.widget-view+json": {
       "model_id": "7a85b06e3b124cd5b1c03193282cddee",
       "version_major": 2,
       "version_minor": 0
      },
      "text/plain": [
       "ThemeManager()"
      ]
     },
     "metadata": {},
     "output_type": "display_data"
    },
    {
     "data": {
      "application/vnd.jupyter.widget-view+json": {
       "model_id": "a40bee03e1594a78a678bb74f0020d0c",
       "version_major": 2,
       "version_minor": 0
      },
      "text/plain": [
       "NGLWidget(gui_style='ngl')"
      ]
     },
     "metadata": {},
     "output_type": "display_data"
    }
   ],
   "source": [
    "nglwidget = select_residues_nglview(top_loc)\n",
    "nglwidget"
   ]
  },
  {
   "cell_type": "code",
   "execution_count": 19,
   "metadata": {},
   "outputs": [
    {
     "data": {
      "application/javascript": [
       "\n",
       "var x = document.nglview.stage.getRepresentationsByName(\"selection\");\n",
       "var stickRepr = x['list'][0];\n",
       "var rules = JSON.stringify(stickRepr.repr.selection.selection.rules);\n",
       "console.log(\"Hello\");\n",
       "console.log(rules);\n",
       "var command = \"selection = '\" + rules + \"'\";\n",
       "IPython.notebook.kernel.execute(command);\n",
       "IPython.notebook.kernel.execute(\"selection = json.loads(selection)\");\n"
      ],
      "text/plain": [
       "<IPython.core.display.Javascript object>"
      ]
     },
     "metadata": {},
     "output_type": "display_data"
    }
   ],
   "source": [
    "## Option 4 - continue selection 1\n",
    "selection = None\n",
    "display(Javascript(js_script))"
   ]
  },
  {
   "cell_type": "code",
   "execution_count": null,
   "metadata": {},
   "outputs": [],
   "source": [
    "## Option 4 - continue selection 2\n",
    "if not selection is None and len(selection) > 0:\n",
    "    binding_site_selstr = get_selstring(selection)\n",
    "    #binding_site_selstr = \"(10 <= resid) and (resid <= 50)\" \n",
    "    engen = EnGen(traj_loc, top_loc, binding_site_selstr, align = True)\n",
    "\n",
    "#------------------------end of options----------------------------#"
   ]
  },
  {
   "cell_type": "code",
   "execution_count": 20,
   "metadata": {},
   "outputs": [
    {
     "data": {
      "application/vnd.jupyter.widget-view+json": {
       "model_id": "24e443e411ce4c8f86d516b597d0d2cd",
       "version_major": 2,
       "version_minor": 0
      },
      "text/plain": [
       "NGLWidget(max_frame=48)"
      ]
     },
     "metadata": {},
     "output_type": "display_data"
    },
    {
     "data": {
      "application/vnd.jupyter.widget-view+json": {
       "model_id": "883edcc35fbb4006b146a2285cf46651",
       "version_major": 2,
       "version_minor": 0
      },
      "text/plain": [
       "Tab(children=(Box(children=(Box(children=(Box(children=(Label(value='step'), IntSlider(value=1, min=-100)), la…"
      ]
     },
     "metadata": {},
     "output_type": "display_data"
    }
   ],
   "source": [
    "\n",
    "#visualize the trajectory (optional - if trajectory too large, skip this step)\n",
    "nglwidget = engen.show_animated_traj()\n",
    "nglwidget.clear_representations()\n",
    "nglwidget.add_ball_and_stick()\n",
    "nglwidget.center()\n",
    "nglwidget"
   ]
  },
  {
   "cell_type": "code",
   "execution_count": 21,
   "metadata": {},
   "outputs": [],
   "source": [
    "nglview.write_html(\"tmp.html\", [nglwidget], frame_range=(0, 20))"
   ]
  },
  {
   "cell_type": "markdown",
   "metadata": {},
   "source": [
    "### Step 2 - select different featurizations\n",
    "\n",
    "Here we select ways to featurize the trajectory. Any PyEmma <a href = http://www.emma-project.org/latest/api/generated/pyemma.coordinates.featurizer.html> trajectory featurization </a> can be used in this step and any of the parameters of the respective featurizations can be provided. Users can also use the default initialization which includes three sets of features: (1) amino-acid pairwise distances; (2) torsion angles and (3) amino-acid pairwise distances with the torsion angels."
   ]
  },
  {
   "cell_type": "code",
   "execution_count": null,
   "metadata": {},
   "outputs": [],
   "source": [
    "# remove any existing featurizers\n",
    "engen.reset_featurizers()\n",
    "# initialize default features \n",
    "engen.init_featurizers_default()\n",
    "description = engen.describe_featurizers()\n",
    "print(description)"
   ]
  },
  {
   "cell_type": "code",
   "execution_count": null,
   "metadata": {},
   "outputs": [],
   "source": [
    "# Split chains to groups and assign group distances as features\n",
    "\n",
    "tmp_traj = mdtraj.load(engen.ref)\n",
    "df_top = tmp_traj.topology.to_dataframe()[0]\n",
    "\n",
    "groups = {}\n",
    "groups_list = []\n",
    "for chain in df_top.chainID.unique():\n",
    "    group_resSeq = df_top[df_top.chainID == chain].serial\n",
    "    groups_list.append(list(group_resSeq))\n",
    "    groups[chain] = list(group_resSeq)"
   ]
  },
  {
   "cell_type": "code",
   "execution_count": null,
   "metadata": {},
   "outputs": [],
   "source": [
    "df_top"
   ]
  },
  {
   "cell_type": "code",
   "execution_count": null,
   "metadata": {},
   "outputs": [],
   "source": [
    "# remove any existing featurizers\n",
    "engen.reset_featurizers()\n",
    "\n",
    "#center of mass and torsion angles\n",
    "feat = {\n",
    "    \"add_group_mindist\": {\"group_definitions\": groups_list}\n",
    "}\n",
    "\n",
    "#add the respective features to the engen structure\n",
    "engen.add_featurizer(feat)\n",
    "description = engen.describe_featurizers()\n",
    "print(description)"
   ]
  },
  {
   "cell_type": "markdown",
   "metadata": {},
   "source": [
    "### Step 3 - evaluate the featurizations\n",
    "\n",
    "This step is optional - we recommend evaluating the featurizations and picking the best using PyEmma's implementation of <a href=http://www.emma-project.org/latest/tutorials/notebooks/00-pentapeptide-showcase.html#Feature-selection> VAMP approach </a>.\n",
    "\n",
    "This helps you choose a set of features with which to proceed to the next Workflow."
   ]
  },
  {
   "cell_type": "markdown",
   "metadata": {},
   "source": [
    "### Not an option for crystal structure input!!"
   ]
  },
  {
   "cell_type": "markdown",
   "metadata": {},
   "source": [
    "### Step 4 - pick the featurization\n",
    "\n",
    "We suggest using the featurization which gives you the highest VAMP2 score from the analysis above. To do so, run the cell below."
   ]
  },
  {
   "cell_type": "code",
   "execution_count": null,
   "metadata": {},
   "outputs": [],
   "source": [
    "#apply features\n",
    "engen.apply_featurizations()\n",
    "#print possible features\n",
    "print(engen.describe_featurizers())\n",
    "#select the number of the desired feature\n",
    "feat_num = 0\n",
    "# initialize selector\n",
    "featsel = fs.UserFeatureSelection(feat_num, engen)\n",
    "#select the feature\n",
    "featsel.select_feature()"
   ]
  },
  {
   "cell_type": "markdown",
   "metadata": {},
   "source": [
    "### Step 5 - save the results as input for Workflow2 - dimensionality reduction"
   ]
  },
  {
   "cell_type": "code",
   "execution_count": null,
   "metadata": {},
   "outputs": [],
   "source": [
    "# save the results for next workflow\n",
    "with open(\"wf1_resulting_EnGen.pickle\", \"wb\") as file:\n",
    "    pickle.dump(engen, file, -1)"
   ]
  }
 ],
 "metadata": {
  "interpreter": {
   "hash": "d429d429aea2339123034138905f0cd1b56c1cbab1e9830e5564dfad92aaa54f"
  },
  "kernelspec": {
   "display_name": "Python 3",
   "language": "python",
   "name": "python3"
  },
  "language_info": {
   "codemirror_mode": {
    "name": "ipython",
    "version": 3
   },
   "file_extension": ".py",
   "mimetype": "text/x-python",
   "name": "python",
   "nbconvert_exporter": "python",
   "pygments_lexer": "ipython3",
   "version": "3.6.7"
  }
 },
 "nbformat": 4,
 "nbformat_minor": 4
}
