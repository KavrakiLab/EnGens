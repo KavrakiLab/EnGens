{
 "cells": [
  {
   "cell_type": "code",
   "execution_count": 38,
   "metadata": {},
   "outputs": [],
   "source": [
    "from pathlib import Path\n",
    "import Bio\n",
    "from Bio.PDB import PDBList\n",
    "import shutil\n",
    "from Bio.PDB import PDBParser\n",
    "import mdtraj\n",
    "from Bio.Align.Applications import ClustalOmegaCommandline\n",
    "import subprocess\n",
    "from Bio import SeqIO\n",
    "import matplotlib.pyplot as plt\n",
    "from os import path, system\n",
    "from engens.core.CrystalUtils import *\n",
    "import requests\n",
    "import pandas as pd"
   ]
  },
  {
   "cell_type": "code",
   "execution_count": 29,
   "metadata": {},
   "outputs": [],
   "source": [
    "# get PDBRenum files\n",
    "def get_pdb_bioassembly_pdbrenum(pdb_id, dst):\n",
    "    cmd_get_pdbrenum = \"wget http://dunbrack3.fccc.edu/PDBrenum/output_PDB_assembly/{}_renum.pdb1.gz\".format(pdb_id)\n",
    "    ret = os.system(cmd_get_pdbrenum)\n",
    "    \n",
    "    cmd_get_pdbrenum = \"mv {}_renum.pdb1.gz {}/{}_renum.pdb1.gz\".format(pdb_id, dst, pdb_id)\n",
    "    ret = os.system(cmd_get_pdbrenum)\n",
    "    cmd_ungz = \"gzip -d {}/{}_renum.pdb1.gz\".format(dst, pdb_id)\n",
    "    ret = os.system(cmd_ungz)\n",
    "    res_file = \"{}/{}_renum.pdb1\".format(dst, pdb_id)\n",
    "    return res_file"
   ]
  },
  {
   "cell_type": "code",
   "execution_count": 30,
   "metadata": {},
   "outputs": [],
   "source": [
    "# fix files with PDBFixer\n",
    "def fix_pdb_files(input_file, output_file):\n",
    "    pdbfixer_command = \"pdbfix.py -i {} -o {}\".format(input_file,output_file)\n",
    "    os.system(pdbfixer_command)\n",
    "    return output_file"
   ]
  },
  {
   "cell_type": "code",
   "execution_count": 39,
   "metadata": {},
   "outputs": [],
   "source": [
    "# for the given PDB entry get associated entities\n",
    "def rscb_entities_from_entries(pdb_ids):\n",
    "    pdb_ids_str = \"[\\\"\"+\"\\\",\\\"\".join(pdb_ids)+\"\\\"]\"\n",
    "\n",
    "    # QUERY - get the entity ids for the given entry ids\n",
    "    query = \"\"\"query {\n",
    "      entries(entry_ids: \"\"\"+pdb_ids_str+\"\"\"){\n",
    "        polymer_entities {\n",
    "          rcsb_id\n",
    "          rcsb_polymer_entity_container_identifiers {\n",
    "            reference_sequence_identifiers {\n",
    "              database_accession\n",
    "              database_name\n",
    "            }\n",
    "          }\n",
    "        }\n",
    "      }\n",
    "    }\"\"\"  \n",
    "    \n",
    "    url = 'https://data.rcsb.org/graphql'\n",
    "    r = requests.post(url, json={'query': query})\n",
    "    print(r.status_code)\n",
    "    \n",
    "    if r.status_code == 200:\n",
    "        json_data = r.json()\n",
    "\n",
    "        #reformat dictionary\n",
    "        ref_json_data = []\n",
    "        for i, elem in enumerate(json_data[\"data\"][\"entries\"]):\n",
    "            pdb_id = pdb_ids[i]\n",
    "            elem_polymers = elem[\"polymer_entities\"]\n",
    "            for ep in elem_polymers:\n",
    "                rcsb_id = ep[\"rcsb_id\"]\n",
    "                if ep[\"rcsb_polymer_entity_container_identifiers\"][\"reference_sequence_identifiers\"] is not None:\n",
    "                    for seq_id in ep[\"rcsb_polymer_entity_container_identifiers\"][\"reference_sequence_identifiers\"]:\n",
    "                        assecion = seq_id[\"database_accession\"]\n",
    "                        db_name = seq_id[\"database_name\"]\n",
    "                        ref_json_data.append({\"pdb_id\":pdb_id, \\\n",
    "                                              \"entity_id\": rcsb_id,\\\n",
    "                                              \"accession\": assecion,\\\n",
    "                                              \"database\": db_name})\n",
    "                else:\n",
    "                    ref_json_data.append({\"pdb_id\":pdb_id, \\\n",
    "                                          \"entity_id\": rcsb_id,\\\n",
    "                                          \"accession\": None,\\\n",
    "                                          \"database\": None})\n",
    "                    \n",
    "        results_df = pd.DataFrame(ref_json_data)\n",
    "        return results_df\n",
    "    else:\n",
    "        print(\"HTTP Request error {} for RSCB polymer_entities query\".format(r.status_code))\n",
    "        return None\n",
    "    \n",
    "    "
   ]
  },
  {
   "cell_type": "code",
   "execution_count": 42,
   "metadata": {},
   "outputs": [],
   "source": [
    "#For the given entity ID - get the chain number\n",
    "def rscb_polymer_chains_info(entity_ids):\n",
    "    \n",
    "    entity_id_str = \"[\\\"\" + \"\\\",\\\"\".join(entity_ids)+\"\\\"]\"\n",
    "    \n",
    "    # QUERY - get the entry ids for all the above to collect asym_ids\n",
    "    query = \"\"\"\n",
    "    query {\n",
    "      polymer_entities(entity_ids:\"\"\"+entity_id_str+\"\"\") {\n",
    "        rcsb_id\n",
    "        rcsb_entity_source_organism {\n",
    "          ncbi_taxonomy_id\n",
    "          ncbi_scientific_name\n",
    "        }\n",
    "        rcsb_cluster_membership {\n",
    "          cluster_id\n",
    "          identity\n",
    "        }\n",
    "        rcsb_polymer_entity_container_identifiers{\n",
    "          asym_ids\n",
    "        }\n",
    "      }\n",
    "    }\n",
    "    \"\"\"\n",
    "    \n",
    "    url = 'https://data.rcsb.org/graphql'\n",
    "    r = requests.post(url, json={'query': query})\n",
    "    print(r.status_code)\n",
    "    \n",
    "    if r.status_code == 200:\n",
    "        json_data = r.json()\n",
    "        polymer_entity_data = json_data['data'][\"polymer_entities\"]\n",
    "        entity_instance_connection = {\"entity_id\": [], \"asym_ids\":[]}\n",
    "        for elem in polymer_entity_data:\n",
    "            rcsb_id = elem[\"rcsb_id\"]\n",
    "            identifiers = elem[\"rcsb_polymer_entity_container_identifiers\"]\n",
    "            entity_instance_connection[\"asym_ids\"].append(identifiers[\"asym_ids\"])\n",
    "            entity_instance_connection[\"entity_id\"].append(rcsb_id)\n",
    "        entity_instance_connection_df = pd.DataFrame(entity_instance_connection)\n",
    "        return entity_instance_connection_df\n",
    "    else:\n",
    "        print(\"HTTP Request error {} for RSCB polymer_entities query\".format(r.status_code))\n",
    "        return None"
   ]
  },
  {
   "cell_type": "code",
   "execution_count": 61,
   "metadata": {},
   "outputs": [],
   "source": [
    "def rscb_get_author_instance_info(instance_ids):\n",
    "    \n",
    "    entity_instance_ids = \"[\\\"\" + \"\\\",\\\"\".join(instance_ids)+\"\\\"]\"\n",
    "    \n",
    "    # QUERY - find the author chain id and author sequence mapping\n",
    "    query = \"\"\"\n",
    "    query {\n",
    "      polymer_entity_instances(instance_ids: \"\"\"+entity_instance_ids+\"\"\") {\n",
    "        rcsb_id\n",
    "        rcsb_polymer_entity_instance_container_identifiers {\n",
    "          asym_id\n",
    "          auth_asym_id,\n",
    "          auth_to_entity_poly_seq_mapping\n",
    "        }\n",
    "      }\n",
    "    }\n",
    "\n",
    "    \"\"\"\n",
    "    \n",
    "    url = 'https://data.rcsb.org/graphql'\n",
    "    r = requests.post(url, json={'query': query})\n",
    "    print(r.status_code)\n",
    "    \n",
    "    if r.status_code == 200:\n",
    "        json_data = r.json()\n",
    "        polymer_entity_instances_data = json_data['data'][\"polymer_entity_instances\"]\n",
    "        entity_instances_mappings = {\"instance_id\": [], \"asym_id\":[], \"auth_asym_id\":[], \"auth_seq_map\":[]}\n",
    "        for elem in polymer_entity_instances_data:\n",
    "            rcsb_id = elem[\"rcsb_id\"]\n",
    "            identifiers = elem[\"rcsb_polymer_entity_instance_container_identifiers\"]\n",
    "            entity_instances_mappings[\"instance_id\"].append(rcsb_id)\n",
    "            entity_instances_mappings[\"asym_id\"].append(identifiers[\"asym_id\"])\n",
    "            entity_instances_mappings[\"auth_asym_id\"].append(identifiers[\"auth_asym_id\"])\n",
    "            entity_instances_mappings[\"auth_seq_map\"].append(identifiers[\"auth_to_entity_poly_seq_mapping\"])\n",
    "        entity_instance_mapping_df = pd.DataFrame(entity_instances_mappings)\n",
    "        return entity_instance_mapping_df\n",
    "    else:\n",
    "        print(\"HTTP Request error {} for RSCB polymer_entity_instances query\".format(r.status_code))\n",
    "        return None"
   ]
  },
  {
   "cell_type": "code",
   "execution_count": 70,
   "metadata": {},
   "outputs": [],
   "source": [
    "def uniprot_get_details(uniprot_ids):\n",
    "    uniprot_details = {\"accession_id\":[], \n",
    "                       \"id\":[],\n",
    "                       \"full_name\":[],\n",
    "                       \"seq\" : []}\n",
    "    uniprot_accession_url = \"https://www.ebi.ac.uk/proteins/api/proteins/\"\n",
    "    \n",
    "    for uni_id in uniprot_ids:\n",
    "        accession_query = uniprot_accession_url+uni_id\n",
    "        result_uniprot_details = requests.get(accession_query)\n",
    "        if result_uniprot_details.status_code == 200:\n",
    "            res_json = result_uniprot_details.json()\n",
    "            uniprot_details[\"accession_id\"].append( res_json[\"accession\"] )\n",
    "            uniprot_details[\"id\"].append( res_json[\"id\"] )\n",
    "            uniprot_details[\"full_name\"].append( res_json['protein']['recommendedName']['fullName']['value'] )\n",
    "            uniprot_details[\"seq\"].append( res_json['sequence']['sequence'] )\n",
    "            \n",
    "        else:\n",
    "            print(\"Uniprot query failed: response \"+result_uniprot_details.status_code)\n",
    "            return None\n",
    "    return pd.DataFrame(uniprot_details)"
   ]
  },
  {
   "cell_type": "code",
   "execution_count": 79,
   "metadata": {},
   "outputs": [],
   "source": [
    "def get_pdb_metadata(pdb_ids):\n",
    "    #pdb_id to entity (splitting chains, geting uniprot data)\n",
    "    print(\"Fetching metadata for PDB entries - pdb id and related entity ids\")\n",
    "    entity_df = rscb_entities_from_entries(pdb_ids)\n",
    "    #entity to instance (mapping chains to uniprot ids)\n",
    "    print(\"Fetching metadata for PDB entries - entity ids and related uniprot ids\")\n",
    "    entity_ids = list(entity_df[\"entity_id\"].unique())\n",
    "    entity_instance_connection_df = rscb_polymer_chains_info(entity_ids)\n",
    "    entity_instance_connection_df[\"first_asym_id\"] = entity_instance_connection_df[\"asym_ids\"].apply(lambda x: x[0])\n",
    "    entity_df = entity_df.merge(entity_instance_connection_df, how=\"left\", on=\"entity_id\")\n",
    "    entity_df[\"instance_id\"] = entity_df[\"pdb_id\"].apply(lambda x: x.upper())+\".\"+entity_df[\"first_asym_id\"]\n",
    "    instance_ids = list(entity_df[\"instance_id\"].unique())\n",
    "    #get author sequence mappings for each instance\n",
    "    print(\"Fetching metadata for PDB entries - instance ids and related sequences\")\n",
    "    entity_instance_mapping_df = rscb_get_author_instance_info(instance_ids)\n",
    "    entity_instance_mapping_df[\"entity_id\"] = entity_instance_mapping_df.merge(entity_df, how=\"left\", on=\"instance_id\").entity_id\n",
    "    #get uniprot metadata\n",
    "    print(\"Fetching metadata for UniProt ids\")\n",
    "    uniprot_ids = entity_df[\"accession\"].unique()\n",
    "    uniprot_details = uniprot_get_details(uniprot_ids)\n",
    "    return (entity_df, uniprot_details)"
   ]
  },
  {
   "cell_type": "code",
   "execution_count": 80,
   "metadata": {},
   "outputs": [
    {
     "name": "stdout",
     "output_type": "stream",
     "text": [
      "Fetching metadata for PDB entries - pdb id and related entity ids\n",
      "200\n",
      "Fetching metadata for PDB entries - entity ids and related uniprot ids\n",
      "200\n",
      "Fetching metadata for PDB entries - instance ids and related sequences\n",
      "200\n",
      "Fetching metadata for UniProt ids\n"
     ]
    }
   ],
   "source": [
    "entity_df, uniprot_df = get_pdb_metadata(pdbIds)"
   ]
  },
  {
   "cell_type": "code",
   "execution_count": 84,
   "metadata": {},
   "outputs": [
    {
     "data": {
      "text/html": [
       "<style  type=\"text/css\" >\n",
       "</style><table id=\"T_67084678_e458_11ed_a820_2f3f343df93e\" style='display:inline'><caption>PDB metadata</caption><thead>    <tr>        <th class=\"blank level0\" ></th>        <th class=\"col_heading level0 col0\" >pdb_id</th>        <th class=\"col_heading level0 col1\" >entity_id</th>        <th class=\"col_heading level0 col2\" >accession</th>        <th class=\"col_heading level0 col3\" >database</th>    </tr></thead><tbody>\n",
       "                <tr>\n",
       "                        <th id=\"T_67084678_e458_11ed_a820_2f3f343df93elevel0_row0\" class=\"row_heading level0 row0\" >0</th>\n",
       "                        <td id=\"T_67084678_e458_11ed_a820_2f3f343df93erow0_col0\" class=\"data row0 col0\" >2rd0</td>\n",
       "                        <td id=\"T_67084678_e458_11ed_a820_2f3f343df93erow0_col1\" class=\"data row0 col1\" >2RD0_1</td>\n",
       "                        <td id=\"T_67084678_e458_11ed_a820_2f3f343df93erow0_col2\" class=\"data row0 col2\" >P42336</td>\n",
       "                        <td id=\"T_67084678_e458_11ed_a820_2f3f343df93erow0_col3\" class=\"data row0 col3\" >UniProt</td>\n",
       "            </tr>\n",
       "            <tr>\n",
       "                        <th id=\"T_67084678_e458_11ed_a820_2f3f343df93elevel0_row1\" class=\"row_heading level0 row1\" >1</th>\n",
       "                        <td id=\"T_67084678_e458_11ed_a820_2f3f343df93erow1_col0\" class=\"data row1 col0\" >2rd0</td>\n",
       "                        <td id=\"T_67084678_e458_11ed_a820_2f3f343df93erow1_col1\" class=\"data row1 col1\" >2RD0_2</td>\n",
       "                        <td id=\"T_67084678_e458_11ed_a820_2f3f343df93erow1_col2\" class=\"data row1 col2\" >P27986</td>\n",
       "                        <td id=\"T_67084678_e458_11ed_a820_2f3f343df93erow1_col3\" class=\"data row1 col3\" >UniProt</td>\n",
       "            </tr>\n",
       "            <tr>\n",
       "                        <th id=\"T_67084678_e458_11ed_a820_2f3f343df93elevel0_row2\" class=\"row_heading level0 row2\" >2</th>\n",
       "                        <td id=\"T_67084678_e458_11ed_a820_2f3f343df93erow2_col0\" class=\"data row2 col0\" >3hhm</td>\n",
       "                        <td id=\"T_67084678_e458_11ed_a820_2f3f343df93erow2_col1\" class=\"data row2 col1\" >3HHM_1</td>\n",
       "                        <td id=\"T_67084678_e458_11ed_a820_2f3f343df93erow2_col2\" class=\"data row2 col2\" >P42336</td>\n",
       "                        <td id=\"T_67084678_e458_11ed_a820_2f3f343df93erow2_col3\" class=\"data row2 col3\" >UniProt</td>\n",
       "            </tr>\n",
       "            <tr>\n",
       "                        <th id=\"T_67084678_e458_11ed_a820_2f3f343df93elevel0_row3\" class=\"row_heading level0 row3\" >3</th>\n",
       "                        <td id=\"T_67084678_e458_11ed_a820_2f3f343df93erow3_col0\" class=\"data row3 col0\" >3hhm</td>\n",
       "                        <td id=\"T_67084678_e458_11ed_a820_2f3f343df93erow3_col1\" class=\"data row3 col1\" >3HHM_2</td>\n",
       "                        <td id=\"T_67084678_e458_11ed_a820_2f3f343df93erow3_col2\" class=\"data row3 col2\" >P27986</td>\n",
       "                        <td id=\"T_67084678_e458_11ed_a820_2f3f343df93erow3_col3\" class=\"data row3 col3\" >UniProt</td>\n",
       "            </tr>\n",
       "            <tr>\n",
       "                        <th id=\"T_67084678_e458_11ed_a820_2f3f343df93elevel0_row4\" class=\"row_heading level0 row4\" >4</th>\n",
       "                        <td id=\"T_67084678_e458_11ed_a820_2f3f343df93erow4_col0\" class=\"data row4 col0\" >3hiz</td>\n",
       "                        <td id=\"T_67084678_e458_11ed_a820_2f3f343df93erow4_col1\" class=\"data row4 col1\" >3HIZ_1</td>\n",
       "                        <td id=\"T_67084678_e458_11ed_a820_2f3f343df93erow4_col2\" class=\"data row4 col2\" >P42336</td>\n",
       "                        <td id=\"T_67084678_e458_11ed_a820_2f3f343df93erow4_col3\" class=\"data row4 col3\" >UniProt</td>\n",
       "            </tr>\n",
       "            <tr>\n",
       "                        <th id=\"T_67084678_e458_11ed_a820_2f3f343df93elevel0_row5\" class=\"row_heading level0 row5\" >5</th>\n",
       "                        <td id=\"T_67084678_e458_11ed_a820_2f3f343df93erow5_col0\" class=\"data row5 col0\" >3hiz</td>\n",
       "                        <td id=\"T_67084678_e458_11ed_a820_2f3f343df93erow5_col1\" class=\"data row5 col1\" >3HIZ_2</td>\n",
       "                        <td id=\"T_67084678_e458_11ed_a820_2f3f343df93erow5_col2\" class=\"data row5 col2\" >P27986</td>\n",
       "                        <td id=\"T_67084678_e458_11ed_a820_2f3f343df93erow5_col3\" class=\"data row5 col3\" >UniProt</td>\n",
       "            </tr>\n",
       "            <tr>\n",
       "                        <th id=\"T_67084678_e458_11ed_a820_2f3f343df93elevel0_row6\" class=\"row_heading level0 row6\" >6</th>\n",
       "                        <td id=\"T_67084678_e458_11ed_a820_2f3f343df93erow6_col0\" class=\"data row6 col0\" >4jps</td>\n",
       "                        <td id=\"T_67084678_e458_11ed_a820_2f3f343df93erow6_col1\" class=\"data row6 col1\" >4JPS_1</td>\n",
       "                        <td id=\"T_67084678_e458_11ed_a820_2f3f343df93erow6_col2\" class=\"data row6 col2\" >P42336</td>\n",
       "                        <td id=\"T_67084678_e458_11ed_a820_2f3f343df93erow6_col3\" class=\"data row6 col3\" >UniProt</td>\n",
       "            </tr>\n",
       "            <tr>\n",
       "                        <th id=\"T_67084678_e458_11ed_a820_2f3f343df93elevel0_row7\" class=\"row_heading level0 row7\" >7</th>\n",
       "                        <td id=\"T_67084678_e458_11ed_a820_2f3f343df93erow7_col0\" class=\"data row7 col0\" >4jps</td>\n",
       "                        <td id=\"T_67084678_e458_11ed_a820_2f3f343df93erow7_col1\" class=\"data row7 col1\" >4JPS_2</td>\n",
       "                        <td id=\"T_67084678_e458_11ed_a820_2f3f343df93erow7_col2\" class=\"data row7 col2\" >P27986</td>\n",
       "                        <td id=\"T_67084678_e458_11ed_a820_2f3f343df93erow7_col3\" class=\"data row7 col3\" >UniProt</td>\n",
       "            </tr>\n",
       "    </tbody></table>          <style  type=\"text/css\" >\n",
       "</style><table id=\"T_67084679_e458_11ed_a820_2f3f343df93e\" style='display:inline'><caption>UniProt metadata</caption><thead>    <tr>        <th class=\"blank level0\" ></th>        <th class=\"col_heading level0 col0\" >accession_id</th>        <th class=\"col_heading level0 col1\" >id</th>        <th class=\"col_heading level0 col2\" >full_name</th>    </tr></thead><tbody>\n",
       "                <tr>\n",
       "                        <th id=\"T_67084679_e458_11ed_a820_2f3f343df93elevel0_row0\" class=\"row_heading level0 row0\" >0</th>\n",
       "                        <td id=\"T_67084679_e458_11ed_a820_2f3f343df93erow0_col0\" class=\"data row0 col0\" >P42336</td>\n",
       "                        <td id=\"T_67084679_e458_11ed_a820_2f3f343df93erow0_col1\" class=\"data row0 col1\" >PK3CA_HUMAN</td>\n",
       "                        <td id=\"T_67084679_e458_11ed_a820_2f3f343df93erow0_col2\" class=\"data row0 col2\" >Phosphatidylinositol 4,5-bisphosphate 3-kinase catalytic subunit alpha isoform</td>\n",
       "            </tr>\n",
       "            <tr>\n",
       "                        <th id=\"T_67084679_e458_11ed_a820_2f3f343df93elevel0_row1\" class=\"row_heading level0 row1\" >1</th>\n",
       "                        <td id=\"T_67084679_e458_11ed_a820_2f3f343df93erow1_col0\" class=\"data row1 col0\" >P27986</td>\n",
       "                        <td id=\"T_67084679_e458_11ed_a820_2f3f343df93erow1_col1\" class=\"data row1 col1\" >P85A_HUMAN</td>\n",
       "                        <td id=\"T_67084679_e458_11ed_a820_2f3f343df93erow1_col2\" class=\"data row1 col2\" >Phosphatidylinositol 3-kinase regulatory subunit alpha</td>\n",
       "            </tr>\n",
       "    </tbody></table>"
      ]
     },
     "metadata": {},
     "output_type": "display_data"
    }
   ],
   "source": [
    "from IPython.display import display_html \n",
    "\n",
    "\n",
    "df1_styler = entity_df[[\"pdb_id\", \"entity_id\", \"accession\", \"database\"]].style.set_table_attributes(\"style='display:inline'\").set_caption('PDB metadata')\n",
    "df2_styler = uniprot_df[[\"accession_id\", \"id\", \"full_name\"]].style.set_table_attributes(\"style='display:inline'\").set_caption('UniProt metadata')\n",
    "space = \"\\xa0\" * 10\n",
    "display_html(df1_styler._repr_html_()+ space  + df2_styler._repr_html_(), raw=True)"
   ]
  },
  {
   "cell_type": "code",
   "execution_count": 87,
   "metadata": {},
   "outputs": [
    {
     "data": {
      "text/plain": [
       "{'P42336': 'P42336', 'P27986': 'P27986'}"
      ]
     },
     "execution_count": 87,
     "metadata": {},
     "output_type": "execute_result"
    }
   ],
   "source": [
    "#MAP EACH UNIPROT ACCESSION TO ANOTHER \n",
    "#example: same chain from different species -> map all corresponding chains to one selected uniprot id\n",
    "#example: different variants of the same chain -> map all variants to one selected uniprot id\n",
    "#default: each chain is mapped to it\n",
    "my_accession_mapping = dict(zip(uniprot_df[\"accession_id\"].unique(), uniprot_df[\"accession_id\"].unique()))\n",
    "##MAKE YOUR CHANGES HERE\n",
    "#For Example\n",
    "#my_accession_mapping[\"P42336\"] = \"P27986\"\n",
    "my_accession_mapping"
   ]
  },
  {
   "cell_type": "code",
   "execution_count": 56,
   "metadata": {},
   "outputs": [
    {
     "name": "stdout",
     "output_type": "stream",
     "text": [
      "1\n",
      "1\n",
      "1\n",
      "1\n",
      "1\n",
      "1\n",
      "1\n",
      "1\n"
     ]
    }
   ],
   "source": [
    "#check that each structure has the corresponding uniprot component\n",
    "for uniprot_id in uniprot_ids:\n",
    "    for pdb_id in pdb_ids:\n",
    "        cnt = entity_df[(entity_df.accession == uniprot_id) & (entity_df.pdb_id == pdb_id)].shape[0]\n",
    "        if cnt > 0"
   ]
  },
  {
   "cell_type": "code",
   "execution_count": null,
   "metadata": {},
   "outputs": [],
   "source": []
  },
  {
   "cell_type": "markdown",
   "metadata": {},
   "source": [
    "# List of PDB files/ids - as input to the workflow"
   ]
  },
  {
   "cell_type": "code",
   "execution_count": 88,
   "metadata": {},
   "outputs": [
    {
     "name": "stdout",
     "output_type": "stream",
     "text": [
      "20 total PI3K pdb ids used here.\n"
     ]
    }
   ],
   "source": [
    "# Get the PDB ID-s of your files\n",
    "\n",
    "# Our example:\n",
    "# PI3K pdb IDs - from the paper: https://doi.org/10.1016/j.jmb.2020.09.002 \n",
    "# Supplementary material table S2.\n",
    "\n",
    "pdbIds =  \"2rd0 3hhm 3hiz 4jps \\\n",
    "5swg 5swo 5swp 5swr 5swt 5sx8 5sx9 5sxa \\\n",
    "5sxb 5sxc 5sxd 5sxe 5sxf 5sxi 5sxj 5sxk\".split()\n",
    "'''\n",
    "\\\n",
    "5uk8 5ukj 5ul1 5xgh 5xgi 5xgj 6nct \\\n",
    "4a55 2y3a \\\n",
    "5dxu 5m6u 5t8f 5ubt 5vlr 6g6w 6pyr 6pyu\".split()\n",
    "'''\n",
    "\n",
    "print(\"{} total PI3K pdb ids used here.\".format(len(pdbIds)))"
   ]
  },
  {
   "cell_type": "code",
   "execution_count": 24,
   "metadata": {},
   "outputs": [
    {
     "data": {
      "text/plain": [
       "0"
      ]
     },
     "execution_count": 24,
     "metadata": {},
     "output_type": "execute_result"
    }
   ],
   "source": []
  },
  {
   "cell_type": "markdown",
   "metadata": {},
   "source": [
    "## Step 1  - download PDBs"
   ]
  },
  {
   "cell_type": "code",
   "execution_count": null,
   "metadata": {
    "scrolled": true
   },
   "outputs": [],
   "source": [
    "# Make the directory to  store the files in \n",
    "# Change this to any name you'd like\n",
    "pdir = \"./PI3Ks_pdbs\"\n",
    "Path(pdir).mkdir(parents=True, exist_ok=True)\n",
    "\n",
    "# -----------------STEP 1.1 - download PDBs------------------------ #\n",
    "# Initialize CrystalUtils - it will autimatically (if no file_names provieded):\n",
    "# Download PDBs (renumbered) \n",
    "# Fix them\n",
    "#crystal_utils = CrystalUtils(pdb_codes = pdbIds, dst_folder = pdir)\n",
    "for pdb_id in pdbIds:\n",
    "    res_file = get_pdb_bioassembly_pdbrenum(pdb_id, pdir)\n",
    "    fix_pdb_files(res_file, res_file[:-5]+\"_fixed.pdb\")"
   ]
  },
  {
   "cell_type": "code",
   "execution_count": null,
   "metadata": {},
   "outputs": [],
   "source": [
    "\n",
    "# -----------------STEP 1.2 - download associated Uniprot IDs (for alignment purposes)------------------------ #\n",
    "\n"
   ]
  },
  {
   "cell_type": "code",
   "execution_count": 17,
   "metadata": {},
   "outputs": [
    {
     "name": "stdout",
     "output_type": "stream",
     "text": [
      "1024\n",
      "512\n"
     ]
    },
    {
     "data": {
      "text/plain": [
       "'./3hhm_renum.pdb1'"
      ]
     },
     "execution_count": 17,
     "metadata": {},
     "output_type": "execute_result"
    }
   ],
   "source": [
    "get_pdb_bioassembly_pdbrenum(\"3hhm\", \".\")"
   ]
  },
  {
   "cell_type": "code",
   "execution_count": null,
   "metadata": {},
   "outputs": [],
   "source": []
  },
  {
   "cell_type": "code",
   "execution_count": 11,
   "metadata": {},
   "outputs": [],
   "source": []
  },
  {
   "cell_type": "code",
   "execution_count": 13,
   "metadata": {},
   "outputs": [
    {
     "data": {
      "text/plain": [
       "0"
      ]
     },
     "execution_count": 13,
     "metadata": {},
     "output_type": "execute_result"
    }
   ],
   "source": []
  },
  {
   "cell_type": "code",
   "execution_count": null,
   "metadata": {},
   "outputs": [],
   "source": []
  },
  {
   "cell_type": "code",
   "execution_count": 5,
   "metadata": {},
   "outputs": [
    {
     "ename": "FileNotFoundError",
     "evalue": "[Errno 2] No such file or directory: 'PI3Ks_pdbs/structure_output/2rd0_fixed.pdb'",
     "output_type": "error",
     "traceback": [
      "\u001b[0;31m---------------------------------------------------------------------------\u001b[0m",
      "\u001b[0;31mFileNotFoundError\u001b[0m                         Traceback (most recent call last)",
      "\u001b[0;32m<ipython-input-5-73b950ed29b0>\u001b[0m in \u001b[0;36m<module>\u001b[0;34m\u001b[0m\n\u001b[1;32m      1\u001b[0m \u001b[0;31m# -----------------STEP 1.2 - extract protein sequences------------------------ #\u001b[0m\u001b[0;34m\u001b[0m\u001b[0;34m\u001b[0m\u001b[0;34m\u001b[0m\u001b[0m\n\u001b[1;32m      2\u001b[0m \u001b[0;31m# Fasta file name - place to store the sequence\u001b[0m\u001b[0;34m\u001b[0m\u001b[0;34m\u001b[0m\u001b[0;34m\u001b[0m\u001b[0m\n\u001b[0;32m----> 3\u001b[0;31m \u001b[0mcrystal_utils\u001b[0m\u001b[0;34m.\u001b[0m\u001b[0mextract_protein_sequence\u001b[0m\u001b[0;34m(\u001b[0m\u001b[0;34m)\u001b[0m\u001b[0;34m\u001b[0m\u001b[0;34m\u001b[0m\u001b[0m\n\u001b[0m",
      "\u001b[0;32m~/miniconda3/envs/engens-conda-env/lib/python3.6/site-packages/engens/core/CrystalUtils.py\u001b[0m in \u001b[0;36mextract_protein_sequence\u001b[0;34m(self)\u001b[0m\n\u001b[1;32m     81\u001b[0m             \u001b[0;32mfor\u001b[0m \u001b[0mi\u001b[0m\u001b[0;34m,\u001b[0m \u001b[0mpdb_f\u001b[0m \u001b[0;32min\u001b[0m \u001b[0menumerate\u001b[0m\u001b[0;34m(\u001b[0m\u001b[0mself\u001b[0m\u001b[0;34m.\u001b[0m\u001b[0mfile_names\u001b[0m\u001b[0;34m)\u001b[0m\u001b[0;34m:\u001b[0m\u001b[0;34m\u001b[0m\u001b[0;34m\u001b[0m\u001b[0m\n\u001b[1;32m     82\u001b[0m                 \u001b[0mpdb_id\u001b[0m \u001b[0;34m=\u001b[0m \u001b[0mself\u001b[0m\u001b[0;34m.\u001b[0m\u001b[0mpdb_codes\u001b[0m\u001b[0;34m[\u001b[0m\u001b[0mi\u001b[0m\u001b[0;34m]\u001b[0m\u001b[0;34m\u001b[0m\u001b[0;34m\u001b[0m\u001b[0m\n\u001b[0;32m---> 83\u001b[0;31m                 \u001b[0mpdb_seq\u001b[0m \u001b[0;34m=\u001b[0m \u001b[0mCrystalUtils\u001b[0m\u001b[0;34m.\u001b[0m\u001b[0mgetSequence_1C\u001b[0m\u001b[0;34m(\u001b[0m\u001b[0mpdb_f\u001b[0m\u001b[0;34m)\u001b[0m\u001b[0;34m\u001b[0m\u001b[0;34m\u001b[0m\u001b[0m\n\u001b[0m\u001b[1;32m     84\u001b[0m                 \u001b[0mseq_rel\u001b[0m \u001b[0;34m=\u001b[0m \u001b[0mmax\u001b[0m\u001b[0;34m(\u001b[0m\u001b[0mpdb_seq\u001b[0m\u001b[0;34m,\u001b[0m \u001b[0mkey\u001b[0m\u001b[0;34m=\u001b[0m\u001b[0mlen\u001b[0m\u001b[0;34m)\u001b[0m\u001b[0;34m\u001b[0m\u001b[0;34m\u001b[0m\u001b[0m\n\u001b[1;32m     85\u001b[0m                 \u001b[0mff_file\u001b[0m\u001b[0;34m.\u001b[0m\u001b[0mwrite\u001b[0m\u001b[0;34m(\u001b[0m\u001b[0;34m\">{}\\n\"\u001b[0m\u001b[0;34m.\u001b[0m\u001b[0mformat\u001b[0m\u001b[0;34m(\u001b[0m\u001b[0mpdb_id\u001b[0m\u001b[0;34m)\u001b[0m\u001b[0;34m)\u001b[0m\u001b[0;34m\u001b[0m\u001b[0;34m\u001b[0m\u001b[0m\n",
      "\u001b[0;32m~/miniconda3/envs/engens-conda-env/lib/python3.6/site-packages/engens/core/CrystalUtils.py\u001b[0m in \u001b[0;36mgetSequence_1C\u001b[0;34m(pdb_file)\u001b[0m\n\u001b[1;32m    262\u001b[0m         \u001b[0;31m# run parser\u001b[0m\u001b[0;34m\u001b[0m\u001b[0;34m\u001b[0m\u001b[0;34m\u001b[0m\u001b[0m\n\u001b[1;32m    263\u001b[0m         \u001b[0mparser\u001b[0m \u001b[0;34m=\u001b[0m \u001b[0mPDBParser\u001b[0m\u001b[0;34m(\u001b[0m\u001b[0mQUIET\u001b[0m\u001b[0;34m=\u001b[0m\u001b[0;32mTrue\u001b[0m\u001b[0;34m)\u001b[0m\u001b[0;34m\u001b[0m\u001b[0;34m\u001b[0m\u001b[0m\n\u001b[0;32m--> 264\u001b[0;31m         \u001b[0mstructure\u001b[0m \u001b[0;34m=\u001b[0m \u001b[0mparser\u001b[0m\u001b[0;34m.\u001b[0m\u001b[0mget_structure\u001b[0m\u001b[0;34m(\u001b[0m\u001b[0;34m'struct'\u001b[0m\u001b[0;34m,\u001b[0m \u001b[0mrecord\u001b[0m\u001b[0;34m)\u001b[0m\u001b[0;34m\u001b[0m\u001b[0;34m\u001b[0m\u001b[0m\n\u001b[0m\u001b[1;32m    265\u001b[0m         \u001b[0;31m# iterate each model, chain, and residue\u001b[0m\u001b[0;34m\u001b[0m\u001b[0;34m\u001b[0m\u001b[0;34m\u001b[0m\u001b[0m\n\u001b[1;32m    266\u001b[0m         \u001b[0;31m# printing out the sequence for each chain\u001b[0m\u001b[0;34m\u001b[0m\u001b[0;34m\u001b[0m\u001b[0;34m\u001b[0m\u001b[0m\n",
      "\u001b[0;32m~/miniconda3/envs/engens-conda-env/lib/python3.6/site-packages/Bio/PDB/PDBParser.py\u001b[0m in \u001b[0;36mget_structure\u001b[0;34m(self, id, file)\u001b[0m\n\u001b[1;32m     94\u001b[0m             \u001b[0mself\u001b[0m\u001b[0;34m.\u001b[0m\u001b[0mstructure_builder\u001b[0m\u001b[0;34m.\u001b[0m\u001b[0minit_structure\u001b[0m\u001b[0;34m(\u001b[0m\u001b[0mid\u001b[0m\u001b[0;34m)\u001b[0m\u001b[0;34m\u001b[0m\u001b[0;34m\u001b[0m\u001b[0m\n\u001b[1;32m     95\u001b[0m \u001b[0;34m\u001b[0m\u001b[0m\n\u001b[0;32m---> 96\u001b[0;31m             \u001b[0;32mwith\u001b[0m \u001b[0mas_handle\u001b[0m\u001b[0;34m(\u001b[0m\u001b[0mfile\u001b[0m\u001b[0;34m)\u001b[0m \u001b[0;32mas\u001b[0m \u001b[0mhandle\u001b[0m\u001b[0;34m:\u001b[0m\u001b[0;34m\u001b[0m\u001b[0;34m\u001b[0m\u001b[0m\n\u001b[0m\u001b[1;32m     97\u001b[0m                 \u001b[0mlines\u001b[0m \u001b[0;34m=\u001b[0m \u001b[0mhandle\u001b[0m\u001b[0;34m.\u001b[0m\u001b[0mreadlines\u001b[0m\u001b[0;34m(\u001b[0m\u001b[0;34m)\u001b[0m\u001b[0;34m\u001b[0m\u001b[0;34m\u001b[0m\u001b[0m\n\u001b[1;32m     98\u001b[0m                 \u001b[0;32mif\u001b[0m \u001b[0;32mnot\u001b[0m \u001b[0mlines\u001b[0m\u001b[0;34m:\u001b[0m\u001b[0;34m\u001b[0m\u001b[0;34m\u001b[0m\u001b[0m\n",
      "\u001b[0;32m~/miniconda3/envs/engens-conda-env/lib/python3.6/contextlib.py\u001b[0m in \u001b[0;36m__enter__\u001b[0;34m(self)\u001b[0m\n\u001b[1;32m     79\u001b[0m     \u001b[0;32mdef\u001b[0m \u001b[0m__enter__\u001b[0m\u001b[0;34m(\u001b[0m\u001b[0mself\u001b[0m\u001b[0;34m)\u001b[0m\u001b[0;34m:\u001b[0m\u001b[0;34m\u001b[0m\u001b[0;34m\u001b[0m\u001b[0m\n\u001b[1;32m     80\u001b[0m         \u001b[0;32mtry\u001b[0m\u001b[0;34m:\u001b[0m\u001b[0;34m\u001b[0m\u001b[0;34m\u001b[0m\u001b[0m\n\u001b[0;32m---> 81\u001b[0;31m             \u001b[0;32mreturn\u001b[0m \u001b[0mnext\u001b[0m\u001b[0;34m(\u001b[0m\u001b[0mself\u001b[0m\u001b[0;34m.\u001b[0m\u001b[0mgen\u001b[0m\u001b[0;34m)\u001b[0m\u001b[0;34m\u001b[0m\u001b[0;34m\u001b[0m\u001b[0m\n\u001b[0m\u001b[1;32m     82\u001b[0m         \u001b[0;32mexcept\u001b[0m \u001b[0mStopIteration\u001b[0m\u001b[0;34m:\u001b[0m\u001b[0;34m\u001b[0m\u001b[0;34m\u001b[0m\u001b[0m\n\u001b[1;32m     83\u001b[0m             \u001b[0;32mraise\u001b[0m \u001b[0mRuntimeError\u001b[0m\u001b[0;34m(\u001b[0m\u001b[0;34m\"generator didn't yield\"\u001b[0m\u001b[0;34m)\u001b[0m \u001b[0;32mfrom\u001b[0m \u001b[0;32mNone\u001b[0m\u001b[0;34m\u001b[0m\u001b[0;34m\u001b[0m\u001b[0m\n",
      "\u001b[0;32m~/miniconda3/envs/engens-conda-env/lib/python3.6/site-packages/Bio/File.py\u001b[0m in \u001b[0;36mas_handle\u001b[0;34m(handleish, mode, **kwargs)\u001b[0m\n\u001b[1;32m     70\u001b[0m     \"\"\"\n\u001b[1;32m     71\u001b[0m     \u001b[0;32mtry\u001b[0m\u001b[0;34m:\u001b[0m\u001b[0;34m\u001b[0m\u001b[0;34m\u001b[0m\u001b[0m\n\u001b[0;32m---> 72\u001b[0;31m         \u001b[0;32mwith\u001b[0m \u001b[0mopen\u001b[0m\u001b[0;34m(\u001b[0m\u001b[0mhandleish\u001b[0m\u001b[0;34m,\u001b[0m \u001b[0mmode\u001b[0m\u001b[0;34m,\u001b[0m \u001b[0;34m**\u001b[0m\u001b[0mkwargs\u001b[0m\u001b[0;34m)\u001b[0m \u001b[0;32mas\u001b[0m \u001b[0mfp\u001b[0m\u001b[0;34m:\u001b[0m\u001b[0;34m\u001b[0m\u001b[0;34m\u001b[0m\u001b[0m\n\u001b[0m\u001b[1;32m     73\u001b[0m             \u001b[0;32myield\u001b[0m \u001b[0mfp\u001b[0m\u001b[0;34m\u001b[0m\u001b[0;34m\u001b[0m\u001b[0m\n\u001b[1;32m     74\u001b[0m     \u001b[0;32mexcept\u001b[0m \u001b[0mTypeError\u001b[0m\u001b[0;34m:\u001b[0m\u001b[0;34m\u001b[0m\u001b[0;34m\u001b[0m\u001b[0m\n",
      "\u001b[0;31mFileNotFoundError\u001b[0m: [Errno 2] No such file or directory: 'PI3Ks_pdbs/structure_output/2rd0_fixed.pdb'"
     ]
    }
   ],
   "source": [
    "# -----------------STEP 1.2 - extract protein sequences------------------------ #\n",
    "# Fasta file name - place to store the sequence\n",
    "crystal_utils.extract_protein_sequence()\n"
   ]
  },
  {
   "cell_type": "code",
   "execution_count": 5,
   "metadata": {},
   "outputs": [
    {
     "name": "stdout",
     "output_type": "stream",
     "text": [
      "Running MSA of the sequences\n",
      "Running MSA of the sequences\n",
      "Found PI3Ks_pdbs/sequence_output/sequence_aligned.fasta\n",
      "Continuous region #1 found starting in AA range 14-239\n",
      "Continuous region #2 found starting in AA range 256-318\n",
      "Continuous region #3 found starting in AA range 327-414\n",
      "Continuous region #4 found starting in AA range 425-499\n",
      "Continuous region #5 found starting in AA range 523-858\n",
      "Continuous region #6 found starting in AA range 869-935\n",
      "Continuous region #7 found starting in AA range 948-965\n",
      "Visualization od MSA and common regions: PI3Ks_pdbs/sequence_output/sequence_aligned_regions.html\n",
      "Extracting substructures\n",
      "Extracting common regions from each file (backbone)\n"
     ]
    },
    {
     "name": "stderr",
     "output_type": "stream",
     "text": [
      "Extracting common regions from each file (backbone): 100%|██████████| 4/4 [00:00<00:00, 9383.23it/s]"
     ]
    },
    {
     "name": "stdout",
     "output_type": "stream",
     "text": [
      "File exists: PI3Ks_pdbs/structure_output/2rd0_fixed_bbstrip.pdb\n",
      "File exists: PI3Ks_pdbs/structure_output/3hhm_fixed_bbstrip.pdb\n",
      "File exists: PI3Ks_pdbs/structure_output/3hiz_fixed_bbstrip.pdb\n",
      "File exists: PI3Ks_pdbs/structure_output/4jps_fixed_bbstrip.pdb\n",
      "Converting to trajectory bb_traj.xtc\n"
     ]
    },
    {
     "name": "stderr",
     "output_type": "stream",
     "text": [
      "\n"
     ]
    },
    {
     "name": "stdout",
     "output_type": "stream",
     "text": [
      "Extracting common regions from each file (full residues)\n"
     ]
    },
    {
     "name": "stderr",
     "output_type": "stream",
     "text": [
      "Extracting common regions from each file (full residues): 100%|██████████| 4/4 [00:00<00:00, 8077.62it/s]"
     ]
    },
    {
     "name": "stdout",
     "output_type": "stream",
     "text": [
      "File exists: PI3Ks_pdbs/structure_output/2rd0_fixedresstrip.pdb\n",
      "File exists: PI3Ks_pdbs/structure_output/3hhm_fixedresstrip.pdb\n",
      "File exists: PI3Ks_pdbs/structure_output/3hiz_fixedresstrip.pdb\n",
      "File exists: PI3Ks_pdbs/structure_output/4jps_fixedresstrip.pdb\n",
      "Converting to trajectory resstrip_traj.xtc\n"
     ]
    },
    {
     "name": "stderr",
     "output_type": "stream",
     "text": [
      "\n"
     ]
    }
   ],
   "source": [
    "# -----------------STEP 1.3 - compute MSA with clustal omega------------------------ #\n",
    "# ----------------- and extract maximum common substructure ------------------------ #\n",
    "print(\"Running MSA of the sequences\")\n",
    "crystal_utils.performMSA()"
   ]
  },
  {
   "cell_type": "code",
   "execution_count": 13,
   "metadata": {},
   "outputs": [
    {
     "data": {
      "text/html": [
       "\n",
       "        <iframe\n",
       "            width=\"1050\"\n",
       "            height=\"200\"\n",
       "            src=\"PI3Ks_pdbs/sequence_output/sequence_aligned_regions.html\"\n",
       "            frameborder=\"0\"\n",
       "            allowfullscreen\n",
       "        ></iframe>\n",
       "        "
      ],
      "text/plain": [
       "<IPython.lib.display.IFrame at 0x7f2176f2d160>"
      ]
     },
     "execution_count": 13,
     "metadata": {},
     "output_type": "execute_result"
    }
   ],
   "source": [
    "# ----------------- visualize and inspect the alignment! ------------------------ #\n",
    "from IPython.display import IFrame\n",
    "IFrame('PI3Ks_pdbs/sequence_output/sequence_aligned_regions.html', width=1050, height=200)"
   ]
  },
  {
   "cell_type": "markdown",
   "metadata": {},
   "source": [
    "# Now - continue with the normal workflow: but add the list of pdb files as an argument to EnGens\n",
    "\n",
    "- remember to align the trajectory (align = True when constructing EnGen)\n",
    "- make sure your binding_site_selstr is something that is generalizable to different possibly mutated residues\n",
    "- same for the featurization (do not use all atom featurization - since different residues have different number of atoms)\n",
    "- do not use TICA/HDE\n",
    "- do not use VAMP nets to select features\n",
    "\n",
    "these are only for use with time series data (MDs)"
   ]
  },
  {
   "cell_type": "code",
   "execution_count": 15,
   "metadata": {},
   "outputs": [
    {
     "data": {
      "application/vnd.jupyter.widget-view+json": {
       "model_id": "dbcee82bac264e5aad06ad5ae83b7489",
       "version_major": 2,
       "version_minor": 0
      },
      "text/plain": []
     },
     "metadata": {},
     "output_type": "display_data"
    },
    {
     "name": "stderr",
     "output_type": "stream",
     "text": [
      "Aligning trajectory: 100%|██████████| 1/1 [00:00<00:00,  5.80it/s]\n",
      "Cleaning files...: 100%|██████████| 1/1 [00:00<00:00, 5825.42it/s]\n",
      "Aligning pdb files (might take a while): 100%|██████████| 4/4 [00:00<00:00,  4.39it/s]\n",
      "Loading files (might take a while): 100%|██████████| 4/4 [00:01<00:00,  2.14it/s]\n"
     ]
    }
   ],
   "source": [
    "import glob\n",
    "from engens.core.EnGens import *\n",
    "\n",
    "# input files:\n",
    "pdb_files_processed = glob.glob(path.join(crystal_utils.dst_structure, \"*resstrip.pdb\"))\n",
    "# any random bbstrip file\n",
    "top_loc = path.join(crystal_utils.dst_structure, crystal_utils.pdb_codes[0]+'_fixed_bbstrip.pdb')\n",
    "# backbone - common residue trajectory\n",
    "traj_loc = path.join(crystal_utils.dst_structure, \"bb_traj.xtc\")\n",
    "# input files - containing full common residues\n",
    "input_files = pdb_files_processed\n",
    "structure_names = [name[name.rfind(\"/\")+1:name.rfind(\"/\")+5] for name in input_files]\n",
    "\n",
    "engen = EnGen(traj_loc, top_loc, cryst_pdb_list = True, file_names = input_files, structure_names = structure_names, align=True)\n"
   ]
  },
  {
   "cell_type": "markdown",
   "metadata": {},
   "source": [
    "# Workflow 1 - extract features from the PDB files\n",
    "\n",
    "**Input:** reference PDB and trajectory\n",
    "\n",
    "\n",
    "**Output:** featurized trajectory\n",
    "<hr>\n",
    "Steps:\n",
    "\n",
    "1. Load reference PDB and trajectory in the EnGen object\n",
    "3. Provide set of featurizations of interest (or use default)\n",
    "4. Evaluate different featurization (optional)\n",
    "5. Choose the best featurization\n",
    "6. Extract those features"
   ]
  },
  {
   "cell_type": "code",
   "execution_count": 16,
   "metadata": {
    "scrolled": true
   },
   "outputs": [],
   "source": [
    "# required imports \n",
    "import engens.core.FeatureSelector as fs\n",
    "import pickle\n",
    "import mdshare\n",
    "import mdtraj\n",
    "import numpy as np\n",
    "import nglview\n",
    "from IPython.display import Javascript, display\n",
    "import json"
   ]
  },
  {
   "cell_type": "markdown",
   "metadata": {},
   "source": [
    "### Step 1 - load the structure and trajectory\n",
    "\n",
    "Provide the path to the files with the reference trajectory and topology.\n",
    "(You can use any format that <a fref = https://mdtraj.org/1.9.4/api/generated/mdtraj.load.html> mdtraj.load </a> will take as input).\n",
    "\n",
    "Optionally, provide a subset of the structure that you will use for featurization (e.g. binding site) as a <a href=https://mdtraj.org/1.9.4/atom_selection.html> atom selection string </a> or a list of atom indices.\n"
   ]
  },
  {
   "cell_type": "code",
   "execution_count": 18,
   "metadata": {},
   "outputs": [
    {
     "data": {
      "application/vnd.jupyter.widget-view+json": {
       "model_id": "7a85b06e3b124cd5b1c03193282cddee",
       "version_major": 2,
       "version_minor": 0
      },
      "text/plain": [
       "ThemeManager()"
      ]
     },
     "metadata": {},
     "output_type": "display_data"
    },
    {
     "data": {
      "application/vnd.jupyter.widget-view+json": {
       "model_id": "a40bee03e1594a78a678bb74f0020d0c",
       "version_major": 2,
       "version_minor": 0
      },
      "text/plain": [
       "NGLWidget(gui_style='ngl')"
      ]
     },
     "metadata": {},
     "output_type": "display_data"
    }
   ],
   "source": [
    "nglwidget = select_residues_nglview(top_loc)\n",
    "nglwidget"
   ]
  },
  {
   "cell_type": "code",
   "execution_count": 19,
   "metadata": {},
   "outputs": [
    {
     "data": {
      "application/javascript": [
       "\n",
       "var x = document.nglview.stage.getRepresentationsByName(\"selection\");\n",
       "var stickRepr = x['list'][0];\n",
       "var rules = JSON.stringify(stickRepr.repr.selection.selection.rules);\n",
       "console.log(\"Hello\");\n",
       "console.log(rules);\n",
       "var command = \"selection = '\" + rules + \"'\";\n",
       "IPython.notebook.kernel.execute(command);\n",
       "IPython.notebook.kernel.execute(\"selection = json.loads(selection)\");\n"
      ],
      "text/plain": [
       "<IPython.core.display.Javascript object>"
      ]
     },
     "metadata": {},
     "output_type": "display_data"
    }
   ],
   "source": [
    "## Option 4 - continue selection 1\n",
    "selection = None\n",
    "display(Javascript(js_script))"
   ]
  },
  {
   "cell_type": "code",
   "execution_count": null,
   "metadata": {},
   "outputs": [],
   "source": [
    "## Option 4 - continue selection 2\n",
    "if not selection is None and len(selection) > 0:\n",
    "    binding_site_selstr = get_selstring(selection)\n",
    "    #binding_site_selstr = \"(10 <= resid) and (resid <= 50)\" \n",
    "    engen = EnGen(traj_loc, top_loc, binding_site_selstr, align = True)\n",
    "\n",
    "#------------------------end of options----------------------------#"
   ]
  },
  {
   "cell_type": "code",
   "execution_count": 20,
   "metadata": {},
   "outputs": [
    {
     "data": {
      "application/vnd.jupyter.widget-view+json": {
       "model_id": "24e443e411ce4c8f86d516b597d0d2cd",
       "version_major": 2,
       "version_minor": 0
      },
      "text/plain": [
       "NGLWidget(max_frame=48)"
      ]
     },
     "metadata": {},
     "output_type": "display_data"
    },
    {
     "data": {
      "application/vnd.jupyter.widget-view+json": {
       "model_id": "883edcc35fbb4006b146a2285cf46651",
       "version_major": 2,
       "version_minor": 0
      },
      "text/plain": [
       "Tab(children=(Box(children=(Box(children=(Box(children=(Label(value='step'), IntSlider(value=1, min=-100)), la…"
      ]
     },
     "metadata": {},
     "output_type": "display_data"
    }
   ],
   "source": [
    "\n",
    "#visualize the trajectory (optional - if trajectory too large, skip this step)\n",
    "nglwidget = engen.show_animated_traj()\n",
    "nglwidget.clear_representations()\n",
    "nglwidget.add_ball_and_stick()\n",
    "nglwidget.center()\n",
    "nglwidget"
   ]
  },
  {
   "cell_type": "code",
   "execution_count": 21,
   "metadata": {},
   "outputs": [],
   "source": [
    "nglview.write_html(\"tmp.html\", [nglwidget], frame_range=(0, 20))"
   ]
  },
  {
   "cell_type": "markdown",
   "metadata": {},
   "source": [
    "### Step 2 - select different featurizations\n",
    "\n",
    "Here we select ways to featurize the trajectory. Any PyEmma <a href = http://www.emma-project.org/latest/api/generated/pyemma.coordinates.featurizer.html> trajectory featurization </a> can be used in this step and any of the parameters of the respective featurizations can be provided. Users can also use the default initialization which includes three sets of features: (1) amino-acid pairwise distances; (2) torsion angles and (3) amino-acid pairwise distances with the torsion angels."
   ]
  },
  {
   "cell_type": "code",
   "execution_count": null,
   "metadata": {},
   "outputs": [],
   "source": [
    "# remove any existing featurizers\n",
    "engen.reset_featurizers()\n",
    "# initialize default features \n",
    "engen.init_featurizers_default()\n",
    "description = engen.describe_featurizers()\n",
    "print(description)"
   ]
  },
  {
   "cell_type": "code",
   "execution_count": null,
   "metadata": {},
   "outputs": [],
   "source": [
    "# Split chains to groups and assign group distances as features\n",
    "\n",
    "tmp_traj = mdtraj.load(engen.ref)\n",
    "df_top = tmp_traj.topology.to_dataframe()[0]\n",
    "\n",
    "groups = {}\n",
    "groups_list = []\n",
    "for chain in df_top.chainID.unique():\n",
    "    group_resSeq = df_top[df_top.chainID == chain].serial\n",
    "    groups_list.append(list(group_resSeq))\n",
    "    groups[chain] = list(group_resSeq)"
   ]
  },
  {
   "cell_type": "code",
   "execution_count": null,
   "metadata": {},
   "outputs": [],
   "source": [
    "df_top"
   ]
  },
  {
   "cell_type": "code",
   "execution_count": null,
   "metadata": {},
   "outputs": [],
   "source": [
    "# remove any existing featurizers\n",
    "engen.reset_featurizers()\n",
    "\n",
    "#center of mass and torsion angles\n",
    "feat = {\n",
    "    \"add_group_mindist\": {\"group_definitions\": groups_list}\n",
    "}\n",
    "\n",
    "#add the respective features to the engen structure\n",
    "engen.add_featurizer(feat)\n",
    "description = engen.describe_featurizers()\n",
    "print(description)"
   ]
  },
  {
   "cell_type": "markdown",
   "metadata": {},
   "source": [
    "### Step 3 - evaluate the featurizations\n",
    "\n",
    "This step is optional - we recommend evaluating the featurizations and picking the best using PyEmma's implementation of <a href=http://www.emma-project.org/latest/tutorials/notebooks/00-pentapeptide-showcase.html#Feature-selection> VAMP approach </a>.\n",
    "\n",
    "This helps you choose a set of features with which to proceed to the next Workflow."
   ]
  },
  {
   "cell_type": "markdown",
   "metadata": {},
   "source": [
    "### Not an option for crystal structure input!!"
   ]
  },
  {
   "cell_type": "markdown",
   "metadata": {},
   "source": [
    "### Step 4 - pick the featurization\n",
    "\n",
    "We suggest using the featurization which gives you the highest VAMP2 score from the analysis above. To do so, run the cell below."
   ]
  },
  {
   "cell_type": "code",
   "execution_count": null,
   "metadata": {},
   "outputs": [],
   "source": [
    "#apply features\n",
    "engen.apply_featurizations()\n",
    "#print possible features\n",
    "print(engen.describe_featurizers())\n",
    "#select the number of the desired feature\n",
    "feat_num = 0\n",
    "# initialize selector\n",
    "featsel = fs.UserFeatureSelection(feat_num, engen)\n",
    "#select the feature\n",
    "featsel.select_feature()"
   ]
  },
  {
   "cell_type": "markdown",
   "metadata": {},
   "source": [
    "### Step 5 - save the results as input for Workflow2 - dimensionality reduction"
   ]
  },
  {
   "cell_type": "code",
   "execution_count": null,
   "metadata": {},
   "outputs": [],
   "source": [
    "# save the results for next workflow\n",
    "with open(\"wf1_resulting_EnGen.pickle\", \"wb\") as file:\n",
    "    pickle.dump(engen, file, -1)"
   ]
  }
 ],
 "metadata": {
  "interpreter": {
   "hash": "d429d429aea2339123034138905f0cd1b56c1cbab1e9830e5564dfad92aaa54f"
  },
  "kernelspec": {
   "display_name": "Python 3",
   "language": "python",
   "name": "python3"
  },
  "language_info": {
   "codemirror_mode": {
    "name": "ipython",
    "version": 3
   },
   "file_extension": ".py",
   "mimetype": "text/x-python",
   "name": "python",
   "nbconvert_exporter": "python",
   "pygments_lexer": "ipython3",
   "version": "3.6.7"
  }
 },
 "nbformat": 4,
 "nbformat_minor": 4
}
